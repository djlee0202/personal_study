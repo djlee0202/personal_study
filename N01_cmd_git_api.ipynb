{
 "cells": [
  {
   "cell_type": "markdown",
   "metadata": {},
   "source": [
    "---\n",
    "# Class 05 & 06. API \n",
    "**June 08 2016**  \n",
    "Official classnotes : [APIs & Looping Patterns](http://jonathansoma.com/lede/foundations/classes/05/class/)  \n",
    "Homework 5 Review  \n",
    "Comment : 현재 노트가 완벽한 상태는 아님 (숙제 보면서 복습해보는것이 필요)"
   ]
  },
  {
   "cell_type": "code",
   "execution_count": 89,
   "metadata": {
    "collapsed": true
   },
   "outputs": [],
   "source": [
    "import requests"
   ]
  },
  {
   "cell_type": "markdown",
   "metadata": {},
   "source": [
    "**1) With \"Lil Wayne\" and \"Lil Kim\" there are a lot of \"Lil\" musicians.  \n",
    "Do a search and print a list of 50 that are playable in the USA (or the country of your choice), along with their popularity score.**\n"
   ]
  },
  {
   "cell_type": "code",
   "execution_count": 48,
   "metadata": {
    "collapsed": true
   },
   "outputs": [],
   "source": [
    "response = requests.get(\"https://api.spotify.com/v1/search?q=lil&type=artist&limit=50&market=US\")\n",
    "data = response.json()"
   ]
  },
  {
   "cell_type": "code",
   "execution_count": 49,
   "metadata": {
    "collapsed": false
   },
   "outputs": [
    {
     "data": {
      "text/plain": [
       "dict"
      ]
     },
     "execution_count": 49,
     "metadata": {},
     "output_type": "execute_result"
    }
   ],
   "source": [
    "type(data)"
   ]
  },
  {
   "cell_type": "code",
   "execution_count": 50,
   "metadata": {
    "collapsed": false
   },
   "outputs": [
    {
     "data": {
      "text/plain": [
       "dict_keys(['artists'])"
      ]
     },
     "execution_count": 50,
     "metadata": {},
     "output_type": "execute_result"
    }
   ],
   "source": [
    "data.keys()"
   ]
  },
  {
   "cell_type": "code",
   "execution_count": 51,
   "metadata": {
    "collapsed": false
   },
   "outputs": [
    {
     "data": {
      "text/plain": [
       "dict"
      ]
     },
     "execution_count": 51,
     "metadata": {},
     "output_type": "execute_result"
    }
   ],
   "source": [
    "type(data['artists'])"
   ]
  },
  {
   "cell_type": "code",
   "execution_count": 52,
   "metadata": {
    "collapsed": false
   },
   "outputs": [
    {
     "data": {
      "text/plain": [
       "dict_keys(['previous', 'offset', 'total', 'next', 'limit', 'href', 'items'])"
      ]
     },
     "execution_count": 52,
     "metadata": {},
     "output_type": "execute_result"
    }
   ],
   "source": [
    "data['artists'].keys()"
   ]
  },
  {
   "cell_type": "code",
   "execution_count": 53,
   "metadata": {
    "collapsed": true
   },
   "outputs": [],
   "source": [
    "artists = data['artists']['items']\n",
    "#artists"
   ]
  },
  {
   "cell_type": "code",
   "execution_count": 54,
   "metadata": {
    "collapsed": false,
    "scrolled": true
   },
   "outputs": [
    {
     "name": "stdout",
     "output_type": "stream",
     "text": [
      "Lil Wayne 87\n",
      "Lil Yachty 75\n",
      "Lil Uzi Vert 76\n",
      "Lil Dicky 70\n",
      "Boosie Badazz 67\n",
      "Lil Jon 72\n",
      "Lil Durk 61\n",
      "King Lil G 61\n",
      "Lil Jon & The East Side Boyz 60\n",
      "Lil Bibby 54\n",
      "G Herbo 53\n",
      "Lil Rob 50\n",
      "Bow Wow 57\n",
      "Lil Reese 50\n",
      "Lil Keke 48\n",
      "Lil Scrappy 50\n",
      "Lil Wyte 50\n",
      "Lil Blood 46\n",
      "Lil Boom 48\n",
      "Lil Snupe 45\n",
      "Lil Mama 46\n",
      "Lil B 43\n",
      "Lil' Kim 62\n",
      "Lil Phat 40\n",
      "Lil Cuete 40\n",
      "Lil Debbie 43\n",
      "Lil Haiti 40\n",
      "Lil Lonnie 39\n",
      "Lil Goofy 38\n",
      "Lil Twist 40\n",
      "Lil AJ 38\n",
      "Lil Trill 37\n",
      "Lil Cray 36\n",
      "Mr. Lil One 37\n",
      "Lil Yase 34\n",
      "Lil Mouse 35\n",
      "Lil Suzy 35\n",
      "Lil Flash 38\n",
      "Lil Silva 43\n",
      "Lil Eddie 41\n",
      "Lil Rue 34\n",
      "Lil C 34\n",
      "Lil Wayne, DJ Drama 35\n",
      "Lil Kesh 39\n",
      "Lil Rick 39\n",
      "Lil E 35\n",
      "Lil June 32\n",
      "Lil Twon 34\n",
      "Lil Fate 34\n",
      "Lil' Flip 50\n"
     ]
    }
   ],
   "source": [
    "for artist in artists:\n",
    "    print(artist['name'], artist['popularity'])"
   ]
  },
  {
   "cell_type": "markdown",
   "metadata": {},
   "source": [
    "**2) What genres are most represented in the search results? Edit your previous printout to also display a list of their genres in the format \"GENRE_1, GENRE_2, GENRE_3\". If there are no genres, print \"No genres listed\".**\n",
    "\n",
    "Tip: \"how to join a list Python\" might be a helpful search\n"
   ]
  },
  {
   "cell_type": "code",
   "execution_count": 55,
   "metadata": {
    "collapsed": false,
    "scrolled": true
   },
   "outputs": [
    {
     "name": "stdout",
     "output_type": "stream",
     "text": [
      "Lil Wayne 87\n",
      "Genre list:  dirty south rap, pop rap, southern hip hop, trap music\n",
      "Lil Yachty 75\n",
      "No genres listed\n",
      "Lil Uzi Vert 76\n",
      "No genres listed\n",
      "Lil Dicky 70\n",
      "No genres listed\n",
      "Boosie Badazz 67\n",
      "No genres listed\n",
      "Lil Jon 72\n",
      "Genre list:  crunk, dirty south rap, southern hip hop\n",
      "Lil Durk 61\n",
      "No genres listed\n",
      "King Lil G 61\n",
      "No genres listed\n",
      "Lil Jon & The East Side Boyz 60\n",
      "No genres listed\n",
      "Lil Bibby 54\n",
      "No genres listed\n",
      "G Herbo 53\n",
      "No genres listed\n",
      "Lil Rob 50\n",
      "Genre list:  chicano rap, latin hip hop\n",
      "Bow Wow 57\n",
      "Genre list:  hip pop, pop rap\n",
      "Lil Reese 50\n",
      "No genres listed\n",
      "Lil Keke 48\n",
      "No genres listed\n",
      "Lil Scrappy 50\n",
      "Genre list:  crunk, dirty south rap, southern hip hop, trap music\n",
      "Lil Wyte 50\n",
      "Genre list:  juggalo\n",
      "Lil Blood 46\n",
      "No genres listed\n",
      "Lil Boom 48\n",
      "No genres listed\n",
      "Lil Snupe 45\n",
      "No genres listed\n",
      "Lil Mama 46\n",
      "Genre list:  hip pop\n",
      "Lil B 43\n",
      "No genres listed\n",
      "Lil' Kim 62\n",
      "Genre list:  hip pop\n",
      "Lil Phat 40\n",
      "No genres listed\n",
      "Lil Cuete 40\n",
      "Genre list:  chicano rap\n",
      "Lil Debbie 43\n",
      "No genres listed\n",
      "Lil Haiti 40\n",
      "No genres listed\n",
      "Lil Lonnie 39\n",
      "No genres listed\n",
      "Lil Goofy 38\n",
      "No genres listed\n",
      "Lil Twist 40\n",
      "Genre list:  jerk\n",
      "Lil AJ 38\n",
      "No genres listed\n",
      "Lil Trill 37\n",
      "Genre list:  deep trap\n",
      "Lil Cray 36\n",
      "No genres listed\n",
      "Mr. Lil One 37\n",
      "Genre list:  chicano rap\n",
      "Lil Yase 34\n",
      "No genres listed\n",
      "Lil Mouse 35\n",
      "No genres listed\n",
      "Lil Suzy 35\n",
      "Genre list:  freestyle\n",
      "Lil Flash 38\n",
      "No genres listed\n",
      "Lil Silva 43\n",
      "No genres listed\n",
      "Lil Eddie 41\n",
      "No genres listed\n",
      "Lil Rue 34\n",
      "No genres listed\n",
      "Lil C 34\n",
      "No genres listed\n",
      "Lil Wayne, DJ Drama 35\n",
      "No genres listed\n",
      "Lil Kesh 39\n",
      "No genres listed\n",
      "Lil Rick 39\n",
      "Genre list:  soca\n",
      "Lil E 35\n",
      "No genres listed\n",
      "Lil June 32\n",
      "No genres listed\n",
      "Lil Twon 34\n",
      "No genres listed\n",
      "Lil Fate 34\n",
      "No genres listed\n",
      "Lil' Flip 50\n",
      "Genre list:  crunk, dirty south rap\n"
     ]
    }
   ],
   "source": [
    "for artist in artists:\n",
    "    print(artist['name'], artist['popularity'])\n",
    "    # YES dirty south rap, pop rap, southern hip hop, trap music\n",
    "    # NO ['dirty south rap', 'pop rap', 'southern hip hop', 'trap music']\n",
    "    if len(artist['genres']) == 0:\n",
    "        print(\"No genres listed\")\n",
    "    else:\n",
    "        genres = \", \".join(artist['genres'])\n",
    "        print(\"Genre list: \", genres)"
   ]
  },
  {
   "cell_type": "markdown",
   "metadata": {},
   "source": [
    "** 3) Use a for loop to determine who BESIDES Lil Wayne has the highest popularity rating.  \n",
    "Is it the same artist who has the largest number of followers?**"
   ]
  },
  {
   "cell_type": "code",
   "execution_count": 56,
   "metadata": {
    "collapsed": false,
    "scrolled": true
   },
   "outputs": [
    {
     "name": "stdout",
     "output_type": "stream",
     "text": [
      "Looking at Lil Wayne who has a popularity score of 87\n",
      "Comparing 87 to 0\n",
      "FOUND A NEW MOST POPULAR, checking to see if it's Lil Wayne trying to sneak through\n",
      "Nice try Lil Wayne, we don't care\n",
      "Looking at Lil Yachty who has a popularity score of 75\n",
      "Comparing 75 to 0\n",
      "FOUND A NEW MOST POPULAR, checking to see if it's Lil Wayne trying to sneak through\n",
      "Not Lil Wayne, updating our notebook\n",
      "Looking at Lil Uzi Vert who has a popularity score of 76\n",
      "Comparing 76 to 75\n",
      "FOUND A NEW MOST POPULAR, checking to see if it's Lil Wayne trying to sneak through\n",
      "Not Lil Wayne, updating our notebook\n",
      "Looking at Lil Dicky who has a popularity score of 70\n",
      "Comparing 70 to 76\n",
      "Looking at Boosie Badazz who has a popularity score of 67\n",
      "Comparing 67 to 76\n",
      "Looking at Lil Jon who has a popularity score of 72\n",
      "Comparing 72 to 76\n",
      "Looking at Lil Durk who has a popularity score of 61\n",
      "Comparing 61 to 76\n",
      "Looking at King Lil G who has a popularity score of 61\n",
      "Comparing 61 to 76\n",
      "Looking at Lil Jon & The East Side Boyz who has a popularity score of 60\n",
      "Comparing 60 to 76\n",
      "Looking at Lil Bibby who has a popularity score of 54\n",
      "Comparing 54 to 76\n",
      "Looking at G Herbo who has a popularity score of 53\n",
      "Comparing 53 to 76\n",
      "Looking at Lil Rob who has a popularity score of 50\n",
      "Comparing 50 to 76\n",
      "Looking at Bow Wow who has a popularity score of 57\n",
      "Comparing 57 to 76\n",
      "Looking at Lil Reese who has a popularity score of 50\n",
      "Comparing 50 to 76\n",
      "Looking at Lil Keke who has a popularity score of 48\n",
      "Comparing 48 to 76\n",
      "Looking at Lil Scrappy who has a popularity score of 50\n",
      "Comparing 50 to 76\n",
      "Looking at Lil Wyte who has a popularity score of 50\n",
      "Comparing 50 to 76\n",
      "Looking at Lil Blood who has a popularity score of 46\n",
      "Comparing 46 to 76\n",
      "Looking at Lil Boom who has a popularity score of 48\n",
      "Comparing 48 to 76\n",
      "Looking at Lil Snupe who has a popularity score of 45\n",
      "Comparing 45 to 76\n",
      "Looking at Lil Mama who has a popularity score of 46\n",
      "Comparing 46 to 76\n",
      "Looking at Lil B who has a popularity score of 43\n",
      "Comparing 43 to 76\n",
      "Looking at Lil' Kim who has a popularity score of 62\n",
      "Comparing 62 to 76\n",
      "Looking at Lil Phat who has a popularity score of 40\n",
      "Comparing 40 to 76\n",
      "Looking at Lil Cuete who has a popularity score of 40\n",
      "Comparing 40 to 76\n",
      "Looking at Lil Debbie who has a popularity score of 43\n",
      "Comparing 43 to 76\n",
      "Looking at Lil Haiti who has a popularity score of 40\n",
      "Comparing 40 to 76\n",
      "Looking at Lil Lonnie who has a popularity score of 39\n",
      "Comparing 39 to 76\n",
      "Looking at Lil Goofy who has a popularity score of 38\n",
      "Comparing 38 to 76\n",
      "Looking at Lil Twist who has a popularity score of 40\n",
      "Comparing 40 to 76\n",
      "Looking at Lil AJ who has a popularity score of 38\n",
      "Comparing 38 to 76\n",
      "Looking at Lil Trill who has a popularity score of 37\n",
      "Comparing 37 to 76\n",
      "Looking at Lil Cray who has a popularity score of 36\n",
      "Comparing 36 to 76\n",
      "Looking at Mr. Lil One who has a popularity score of 37\n",
      "Comparing 37 to 76\n",
      "Looking at Lil Yase who has a popularity score of 34\n",
      "Comparing 34 to 76\n",
      "Looking at Lil Mouse who has a popularity score of 35\n",
      "Comparing 35 to 76\n",
      "Looking at Lil Suzy who has a popularity score of 35\n",
      "Comparing 35 to 76\n",
      "Looking at Lil Flash who has a popularity score of 38\n",
      "Comparing 38 to 76\n",
      "Looking at Lil Silva who has a popularity score of 43\n",
      "Comparing 43 to 76\n",
      "Looking at Lil Eddie who has a popularity score of 41\n",
      "Comparing 41 to 76\n",
      "Looking at Lil Rue who has a popularity score of 34\n",
      "Comparing 34 to 76\n",
      "Looking at Lil C who has a popularity score of 34\n",
      "Comparing 34 to 76\n",
      "Looking at Lil Wayne, DJ Drama who has a popularity score of 35\n",
      "Comparing 35 to 76\n",
      "Looking at Lil Kesh who has a popularity score of 39\n",
      "Comparing 39 to 76\n",
      "Looking at Lil Rick who has a popularity score of 39\n",
      "Comparing 39 to 76\n",
      "Looking at Lil E who has a popularity score of 35\n",
      "Comparing 35 to 76\n",
      "Looking at Lil June who has a popularity score of 32\n",
      "Comparing 32 to 76\n",
      "Looking at Lil Twon who has a popularity score of 34\n",
      "Comparing 34 to 76\n",
      "Looking at Lil Fate who has a popularity score of 34\n",
      "Comparing 34 to 76\n",
      "Looking at Lil' Flip who has a popularity score of 50\n",
      "Comparing 50 to 76\n",
      "#########\n",
      "Lil Uzi Vert 76\n"
     ]
    }
   ],
   "source": [
    "most_popular_name = \"\"\n",
    "most_popular_score = 0\n",
    "for artist in artists:\n",
    "    print(\"Looking at\", artist['name'], \"who has a popularity score of\", artist['popularity'])\n",
    "    # THE CONDITIONAL\n",
    "    # a.k.a. what you are testing\n",
    "    print(\"Comparing\", artist['popularity'], \"to\", most_popular_score)\n",
    "    # Seeing if the artist is more popular that what we've saved\n",
    "    if artist['popularity'] > most_popular_score:\n",
    "        print(\"FOUND A NEW MOST POPULAR, checking to see if it's Lil Wayne trying to sneak through\")\n",
    "        # Seeing if it's actually Lil Wayne\n",
    "        if artist['name'] == \"Lil Wayne\":\n",
    "            print(\"Nice try Lil Wayne, we don't care\")\n",
    "        else:\n",
    "            # THE CHANGE\n",
    "            # a.k.a. what you're keeping track of\n",
    "            print(\"Not Lil Wayne, updating our notebook\")\n",
    "            most_popular_name = artist['name']\n",
    "            most_popular_score = artist['popularity']\n",
    "print(\"#########\")\n",
    "print(most_popular_name, most_popular_score)"
   ]
  },
  {
   "cell_type": "code",
   "execution_count": 59,
   "metadata": {
    "collapsed": false,
    "scrolled": true
   },
   "outputs": [
    {
     "name": "stdout",
     "output_type": "stream",
     "text": [
      "Notebook is []\n",
      "Looking at Lil Wayne who has a popularity of 87\n",
      "Notebook is []\n",
      "Looking at Lil Yachty who has a popularity of 75\n",
      "Notebook is []\n",
      "Looking at Lil Uzi Vert who has a popularity of 76\n",
      "Notebook is []\n",
      "Looking at Lil Dicky who has a popularity of 70\n",
      "Notebook is []\n",
      "Looking at Boosie Badazz who has a popularity of 67\n",
      "Notebook is []\n",
      "Looking at Lil Jon who has a popularity of 72\n",
      "!!!!!!!! The artist's popularity is 72\n",
      "Notebook is ['Lil Jon']\n",
      "Looking at Lil Durk who has a popularity of 61\n",
      "Notebook is ['Lil Jon']\n",
      "Looking at King Lil G who has a popularity of 61\n",
      "Notebook is ['Lil Jon']\n",
      "Looking at Lil Jon & The East Side Boyz who has a popularity of 60\n",
      "Notebook is ['Lil Jon']\n",
      "Looking at Lil Bibby who has a popularity of 54\n",
      "Notebook is ['Lil Jon']\n",
      "Looking at G Herbo who has a popularity of 53\n",
      "Notebook is ['Lil Jon']\n",
      "Looking at Lil Rob who has a popularity of 50\n",
      "Notebook is ['Lil Jon']\n",
      "Looking at Bow Wow who has a popularity of 57\n",
      "Notebook is ['Lil Jon']\n",
      "Looking at Lil Reese who has a popularity of 50\n",
      "Notebook is ['Lil Jon']\n",
      "Looking at Lil Keke who has a popularity of 48\n",
      "Notebook is ['Lil Jon']\n",
      "Looking at Lil Scrappy who has a popularity of 50\n",
      "Notebook is ['Lil Jon']\n",
      "Looking at Lil Wyte who has a popularity of 50\n",
      "Notebook is ['Lil Jon']\n",
      "Looking at Lil Blood who has a popularity of 46\n",
      "Notebook is ['Lil Jon']\n",
      "Looking at Lil Boom who has a popularity of 48\n",
      "Notebook is ['Lil Jon']\n",
      "Looking at Lil Snupe who has a popularity of 45\n",
      "Notebook is ['Lil Jon']\n",
      "Looking at Lil Mama who has a popularity of 46\n",
      "Notebook is ['Lil Jon']\n",
      "Looking at Lil B who has a popularity of 43\n",
      "Notebook is ['Lil Jon']\n",
      "Looking at Lil' Kim who has a popularity of 62\n",
      "Notebook is ['Lil Jon']\n",
      "Looking at Lil Phat who has a popularity of 40\n",
      "Notebook is ['Lil Jon']\n",
      "Looking at Lil Cuete who has a popularity of 40\n",
      "Notebook is ['Lil Jon']\n",
      "Looking at Lil Debbie who has a popularity of 43\n",
      "Notebook is ['Lil Jon']\n",
      "Looking at Lil Haiti who has a popularity of 40\n",
      "Notebook is ['Lil Jon']\n",
      "Looking at Lil Lonnie who has a popularity of 39\n",
      "Notebook is ['Lil Jon']\n",
      "Looking at Lil Goofy who has a popularity of 38\n",
      "Notebook is ['Lil Jon']\n",
      "Looking at Lil Twist who has a popularity of 40\n",
      "Notebook is ['Lil Jon']\n",
      "Looking at Lil AJ who has a popularity of 38\n",
      "Notebook is ['Lil Jon']\n",
      "Looking at Lil Trill who has a popularity of 37\n",
      "Notebook is ['Lil Jon']\n",
      "Looking at Lil Cray who has a popularity of 36\n",
      "Notebook is ['Lil Jon']\n",
      "Looking at Mr. Lil One who has a popularity of 37\n",
      "Notebook is ['Lil Jon']\n",
      "Looking at Lil Yase who has a popularity of 34\n",
      "Notebook is ['Lil Jon']\n",
      "Looking at Lil Mouse who has a popularity of 35\n",
      "Notebook is ['Lil Jon']\n",
      "Looking at Lil Suzy who has a popularity of 35\n",
      "Notebook is ['Lil Jon']\n",
      "Looking at Lil Flash who has a popularity of 38\n",
      "Notebook is ['Lil Jon']\n",
      "Looking at Lil Silva who has a popularity of 43\n",
      "Notebook is ['Lil Jon']\n",
      "Looking at Lil Eddie who has a popularity of 41\n",
      "Notebook is ['Lil Jon']\n",
      "Looking at Lil Rue who has a popularity of 34\n",
      "Notebook is ['Lil Jon']\n",
      "Looking at Lil C who has a popularity of 34\n",
      "Notebook is ['Lil Jon']\n",
      "Looking at Lil Wayne, DJ Drama who has a popularity of 35\n",
      "Notebook is ['Lil Jon']\n",
      "Looking at Lil Kesh who has a popularity of 39\n",
      "Notebook is ['Lil Jon']\n",
      "Looking at Lil Rick who has a popularity of 39\n",
      "Notebook is ['Lil Jon']\n",
      "Looking at Lil E who has a popularity of 35\n",
      "Notebook is ['Lil Jon']\n",
      "Looking at Lil June who has a popularity of 32\n",
      "Notebook is ['Lil Jon']\n",
      "Looking at Lil Twon who has a popularity of 34\n",
      "Notebook is ['Lil Jon']\n",
      "Looking at Lil Fate who has a popularity of 34\n",
      "Notebook is ['Lil Jon']\n",
      "Looking at Lil' Flip who has a popularity of 50\n",
      "OUR SECOND BEST ARTISTS ARE:\n",
      "Lil Jon\n"
     ]
    }
   ],
   "source": [
    "# 수업 때와 다르게 Spotify 자료가 변하여 값이 다르게 나옴.\n",
    "# 당시에는 72점이 두번째로 높은 점수였음\n",
    "\n",
    "name = \"Lil Soma\"\n",
    "\n",
    "target_score = 72\n",
    "# 1: INITIAL CONDITION\n",
    "# We have no one who is in our list yet\n",
    "second_best_artists = []\n",
    "\n",
    "# AGGREGATION PROBLEM\n",
    "# When you're looping through a series of serious objects\n",
    "# and sometimes you want to add one of those objects\n",
    "# to a DIFFERENT list\n",
    "for artist in artists:\n",
    "    # Let's print out what's on our notebook\n",
    "    print(\"Notebook is\", second_best_artists)\n",
    "    print(\"Looking at\", artist['name'], \"who has a popularity of\", artist['popularity'])\n",
    "    # 2: CONDITIONAL\n",
    "    # when we want to add someone to our list\n",
    "    if artist['popularity'] == 72:\n",
    "        print(\"!!!!!!!! The artist's popularity is 72\")\n",
    "        # 3: THE CHANGE\n",
    "        # Add that artist to our list\n",
    "        # .append(newthing) is how we do that in Python\n",
    "        second_best_artists.append(artist['name'])\n",
    "\n",
    "print(\"OUR SECOND BEST ARTISTS ARE:\")\n",
    "for artist in second_best_artists:\n",
    "    print(artist)"
   ]
  },
  {
   "cell_type": "markdown",
   "metadata": {},
   "source": [
    "** 4) Print a list of Lil's that are more popular than Lil' Kim. **"
   ]
  },
  {
   "cell_type": "code",
   "execution_count": 60,
   "metadata": {
    "collapsed": false
   },
   "outputs": [
    {
     "name": "stdout",
     "output_type": "stream",
     "text": [
      "Found Lil Kim\n",
      "62\n"
     ]
    }
   ],
   "source": [
    "for artist in artists:\n",
    "    #print(\"Looking at\", artist['name'])\n",
    "    if artist['name'] == \"Lil' Kim\":\n",
    "        print(\"Found Lil Kim\")\n",
    "        print(artist['popularity'])\n",
    "    else:\n",
    "        pass\n",
    "        #print(\"Not Lil Kim\")"
   ]
  },
  {
   "cell_type": "code",
   "execution_count": 61,
   "metadata": {
    "collapsed": false,
    "scrolled": true
   },
   "outputs": [
    {
     "name": "stdout",
     "output_type": "stream",
     "text": [
      "Lil Wayne is MORE POPULAR with a score of 87\n",
      "Lil Yachty is MORE POPULAR with a score of 75\n",
      "Lil Uzi Vert is MORE POPULAR with a score of 76\n",
      "Lil Dicky is MORE POPULAR with a score of 70\n",
      "Boosie Badazz is MORE POPULAR with a score of 67\n",
      "Lil Jon is MORE POPULAR with a score of 72\n",
      "Lil Durk is less popular with a score of 61\n",
      "King Lil G is less popular with a score of 61\n",
      "Lil Jon & The East Side Boyz is less popular with a score of 60\n",
      "Lil Bibby is less popular with a score of 54\n",
      "G Herbo is less popular with a score of 53\n",
      "Lil Rob is less popular with a score of 50\n",
      "Bow Wow is less popular with a score of 57\n",
      "Lil Reese is less popular with a score of 50\n",
      "Lil Keke is less popular with a score of 48\n",
      "Lil Scrappy is less popular with a score of 50\n",
      "Lil Wyte is less popular with a score of 50\n",
      "Lil Blood is less popular with a score of 46\n",
      "Lil Boom is less popular with a score of 48\n",
      "Lil Snupe is less popular with a score of 45\n",
      "Lil Mama is less popular with a score of 46\n",
      "Lil B is less popular with a score of 43\n",
      "Lil' Kim is less popular with a score of 62\n",
      "Lil Phat is less popular with a score of 40\n",
      "Lil Cuete is less popular with a score of 40\n",
      "Lil Debbie is less popular with a score of 43\n",
      "Lil Haiti is less popular with a score of 40\n",
      "Lil Lonnie is less popular with a score of 39\n",
      "Lil Goofy is less popular with a score of 38\n",
      "Lil Twist is less popular with a score of 40\n",
      "Lil AJ is less popular with a score of 38\n",
      "Lil Trill is less popular with a score of 37\n",
      "Lil Cray is less popular with a score of 36\n",
      "Mr. Lil One is less popular with a score of 37\n",
      "Lil Yase is less popular with a score of 34\n",
      "Lil Mouse is less popular with a score of 35\n",
      "Lil Suzy is less popular with a score of 35\n",
      "Lil Flash is less popular with a score of 38\n",
      "Lil Silva is less popular with a score of 43\n",
      "Lil Eddie is less popular with a score of 41\n",
      "Lil Rue is less popular with a score of 34\n",
      "Lil C is less popular with a score of 34\n",
      "Lil Wayne, DJ Drama is less popular with a score of 35\n",
      "Lil Kesh is less popular with a score of 39\n",
      "Lil Rick is less popular with a score of 39\n",
      "Lil E is less popular with a score of 35\n",
      "Lil June is less popular with a score of 32\n",
      "Lil Twon is less popular with a score of 34\n",
      "Lil Fate is less popular with a score of 34\n",
      "Lil' Flip is less popular with a score of 50\n",
      "###### MORE POPULAR THAN LIL KIM #####\n",
      "Lil Wayne\n",
      "Lil Yachty\n",
      "Lil Uzi Vert\n",
      "Lil Dicky\n",
      "Boosie Badazz\n",
      "Lil Jon\n"
     ]
    }
   ],
   "source": [
    "lil_kim_popularity = 62\n",
    "\n",
    "# AGGREGATION PROBLEM\n",
    "more_popular_than_lil_kim = []\n",
    "\n",
    "# THE LOOP\n",
    "for artist in artists:\n",
    "    # THE CONDITIONAL! is the artist more popular than lil kim?\n",
    "    if artist['popularity'] > lil_kim_popularity:\n",
    "        # IF yes, let's add them to our list\n",
    "        print(artist['name'], \"is MORE POPULAR with a score of\", artist['popularity'])\n",
    "        more_popular_than_lil_kim.append(artist['name'])\n",
    "    else:\n",
    "        print(artist['name'], \"is less popular with a score of\", artist['popularity'])\n",
    "print(\"###### MORE POPULAR THAN LIL KIM #####\")\n",
    "for artist_name in more_popular_than_lil_kim:\n",
    "    print(artist_name)"
   ]
  },
  {
   "cell_type": "code",
   "execution_count": 62,
   "metadata": {
    "collapsed": false
   },
   "outputs": [
    {
     "name": "stdout",
     "output_type": "stream",
     "text": [
      "Lil Wayne\n",
      "Lil Yachty\n",
      "Lil Uzi Vert\n",
      "Lil Dicky\n",
      "Boosie Badazz\n",
      "Lil Jon\n",
      "Artists more popular than Lil' Kim are: Lil Wayne, Lil Yachty, Lil Uzi Vert, Lil Dicky, Boosie Badazz, Lil Jon\n"
     ]
    }
   ],
   "source": [
    "for artist_name in more_popular_than_lil_kim:\n",
    "    print(artist_name)\n",
    "\n",
    "more_popular_string = \", \".join(more_popular_than_lil_kim)\n",
    "print(\"Artists more popular than Lil' Kim are:\", more_popular_string)"
   ]
  },
  {
   "cell_type": "markdown",
   "metadata": {},
   "source": [
    "5) Pick two of your favorite Lils to fight it out, and use their IDs to print out their top tracks.\n",
    "Tip: You're going to be making two separate requests, be sure you DO NOT save them into the same variable."
   ]
  },
  {
   "cell_type": "code",
   "execution_count": 63,
   "metadata": {
    "collapsed": true
   },
   "outputs": [],
   "source": [
    "## How to count the genres "
   ]
  },
  {
   "cell_type": "code",
   "execution_count": 64,
   "metadata": {
    "collapsed": false
   },
   "outputs": [
    {
     "name": "stdout",
     "output_type": "stream",
     "text": [
      "ALL GENRES WE'VE HEARD OF: []\n",
      "Current artist has: ['dirty south rap', 'pop rap', 'southern hip hop', 'trap music']\n",
      "ALL GENRES WE'VE HEARD OF: ['dirty south rap', 'pop rap', 'southern hip hop', 'trap music']\n",
      "Current artist has: []\n",
      "ALL GENRES WE'VE HEARD OF: ['dirty south rap', 'pop rap', 'southern hip hop', 'trap music']\n",
      "Current artist has: []\n",
      "ALL GENRES WE'VE HEARD OF: ['dirty south rap', 'pop rap', 'southern hip hop', 'trap music']\n",
      "Current artist has: []\n",
      "ALL GENRES WE'VE HEARD OF: ['dirty south rap', 'pop rap', 'southern hip hop', 'trap music']\n",
      "Current artist has: []\n",
      "ALL GENRES WE'VE HEARD OF: ['dirty south rap', 'pop rap', 'southern hip hop', 'trap music']\n",
      "Current artist has: ['crunk', 'dirty south rap', 'southern hip hop']\n",
      "ALL GENRES WE'VE HEARD OF: ['dirty south rap', 'pop rap', 'southern hip hop', 'trap music', 'crunk', 'dirty south rap', 'southern hip hop']\n",
      "Current artist has: []\n",
      "ALL GENRES WE'VE HEARD OF: ['dirty south rap', 'pop rap', 'southern hip hop', 'trap music', 'crunk', 'dirty south rap', 'southern hip hop']\n",
      "Current artist has: []\n",
      "ALL GENRES WE'VE HEARD OF: ['dirty south rap', 'pop rap', 'southern hip hop', 'trap music', 'crunk', 'dirty south rap', 'southern hip hop']\n",
      "Current artist has: []\n",
      "ALL GENRES WE'VE HEARD OF: ['dirty south rap', 'pop rap', 'southern hip hop', 'trap music', 'crunk', 'dirty south rap', 'southern hip hop']\n",
      "Current artist has: []\n",
      "ALL GENRES WE'VE HEARD OF: ['dirty south rap', 'pop rap', 'southern hip hop', 'trap music', 'crunk', 'dirty south rap', 'southern hip hop']\n",
      "Current artist has: []\n",
      "ALL GENRES WE'VE HEARD OF: ['dirty south rap', 'pop rap', 'southern hip hop', 'trap music', 'crunk', 'dirty south rap', 'southern hip hop']\n",
      "Current artist has: ['chicano rap', 'latin hip hop']\n",
      "ALL GENRES WE'VE HEARD OF: ['dirty south rap', 'pop rap', 'southern hip hop', 'trap music', 'crunk', 'dirty south rap', 'southern hip hop', 'chicano rap', 'latin hip hop']\n",
      "Current artist has: ['hip pop', 'pop rap']\n",
      "ALL GENRES WE'VE HEARD OF: ['dirty south rap', 'pop rap', 'southern hip hop', 'trap music', 'crunk', 'dirty south rap', 'southern hip hop', 'chicano rap', 'latin hip hop', 'hip pop', 'pop rap']\n",
      "Current artist has: []\n",
      "ALL GENRES WE'VE HEARD OF: ['dirty south rap', 'pop rap', 'southern hip hop', 'trap music', 'crunk', 'dirty south rap', 'southern hip hop', 'chicano rap', 'latin hip hop', 'hip pop', 'pop rap']\n",
      "Current artist has: []\n",
      "ALL GENRES WE'VE HEARD OF: ['dirty south rap', 'pop rap', 'southern hip hop', 'trap music', 'crunk', 'dirty south rap', 'southern hip hop', 'chicano rap', 'latin hip hop', 'hip pop', 'pop rap']\n",
      "Current artist has: ['crunk', 'dirty south rap', 'southern hip hop', 'trap music']\n",
      "ALL GENRES WE'VE HEARD OF: ['dirty south rap', 'pop rap', 'southern hip hop', 'trap music', 'crunk', 'dirty south rap', 'southern hip hop', 'chicano rap', 'latin hip hop', 'hip pop', 'pop rap', 'crunk', 'dirty south rap', 'southern hip hop', 'trap music']\n",
      "Current artist has: ['juggalo']\n",
      "ALL GENRES WE'VE HEARD OF: ['dirty south rap', 'pop rap', 'southern hip hop', 'trap music', 'crunk', 'dirty south rap', 'southern hip hop', 'chicano rap', 'latin hip hop', 'hip pop', 'pop rap', 'crunk', 'dirty south rap', 'southern hip hop', 'trap music', 'juggalo']\n",
      "Current artist has: []\n",
      "ALL GENRES WE'VE HEARD OF: ['dirty south rap', 'pop rap', 'southern hip hop', 'trap music', 'crunk', 'dirty south rap', 'southern hip hop', 'chicano rap', 'latin hip hop', 'hip pop', 'pop rap', 'crunk', 'dirty south rap', 'southern hip hop', 'trap music', 'juggalo']\n",
      "Current artist has: []\n",
      "ALL GENRES WE'VE HEARD OF: ['dirty south rap', 'pop rap', 'southern hip hop', 'trap music', 'crunk', 'dirty south rap', 'southern hip hop', 'chicano rap', 'latin hip hop', 'hip pop', 'pop rap', 'crunk', 'dirty south rap', 'southern hip hop', 'trap music', 'juggalo']\n",
      "Current artist has: []\n",
      "ALL GENRES WE'VE HEARD OF: ['dirty south rap', 'pop rap', 'southern hip hop', 'trap music', 'crunk', 'dirty south rap', 'southern hip hop', 'chicano rap', 'latin hip hop', 'hip pop', 'pop rap', 'crunk', 'dirty south rap', 'southern hip hop', 'trap music', 'juggalo']\n",
      "Current artist has: ['hip pop']\n",
      "ALL GENRES WE'VE HEARD OF: ['dirty south rap', 'pop rap', 'southern hip hop', 'trap music', 'crunk', 'dirty south rap', 'southern hip hop', 'chicano rap', 'latin hip hop', 'hip pop', 'pop rap', 'crunk', 'dirty south rap', 'southern hip hop', 'trap music', 'juggalo', 'hip pop']\n",
      "Current artist has: []\n",
      "ALL GENRES WE'VE HEARD OF: ['dirty south rap', 'pop rap', 'southern hip hop', 'trap music', 'crunk', 'dirty south rap', 'southern hip hop', 'chicano rap', 'latin hip hop', 'hip pop', 'pop rap', 'crunk', 'dirty south rap', 'southern hip hop', 'trap music', 'juggalo', 'hip pop']\n",
      "Current artist has: ['hip pop']\n",
      "ALL GENRES WE'VE HEARD OF: ['dirty south rap', 'pop rap', 'southern hip hop', 'trap music', 'crunk', 'dirty south rap', 'southern hip hop', 'chicano rap', 'latin hip hop', 'hip pop', 'pop rap', 'crunk', 'dirty south rap', 'southern hip hop', 'trap music', 'juggalo', 'hip pop', 'hip pop']\n",
      "Current artist has: []\n",
      "ALL GENRES WE'VE HEARD OF: ['dirty south rap', 'pop rap', 'southern hip hop', 'trap music', 'crunk', 'dirty south rap', 'southern hip hop', 'chicano rap', 'latin hip hop', 'hip pop', 'pop rap', 'crunk', 'dirty south rap', 'southern hip hop', 'trap music', 'juggalo', 'hip pop', 'hip pop']\n",
      "Current artist has: ['chicano rap']\n",
      "ALL GENRES WE'VE HEARD OF: ['dirty south rap', 'pop rap', 'southern hip hop', 'trap music', 'crunk', 'dirty south rap', 'southern hip hop', 'chicano rap', 'latin hip hop', 'hip pop', 'pop rap', 'crunk', 'dirty south rap', 'southern hip hop', 'trap music', 'juggalo', 'hip pop', 'hip pop', 'chicano rap']\n",
      "Current artist has: []\n",
      "ALL GENRES WE'VE HEARD OF: ['dirty south rap', 'pop rap', 'southern hip hop', 'trap music', 'crunk', 'dirty south rap', 'southern hip hop', 'chicano rap', 'latin hip hop', 'hip pop', 'pop rap', 'crunk', 'dirty south rap', 'southern hip hop', 'trap music', 'juggalo', 'hip pop', 'hip pop', 'chicano rap']\n",
      "Current artist has: []\n",
      "ALL GENRES WE'VE HEARD OF: ['dirty south rap', 'pop rap', 'southern hip hop', 'trap music', 'crunk', 'dirty south rap', 'southern hip hop', 'chicano rap', 'latin hip hop', 'hip pop', 'pop rap', 'crunk', 'dirty south rap', 'southern hip hop', 'trap music', 'juggalo', 'hip pop', 'hip pop', 'chicano rap']\n",
      "Current artist has: []\n",
      "ALL GENRES WE'VE HEARD OF: ['dirty south rap', 'pop rap', 'southern hip hop', 'trap music', 'crunk', 'dirty south rap', 'southern hip hop', 'chicano rap', 'latin hip hop', 'hip pop', 'pop rap', 'crunk', 'dirty south rap', 'southern hip hop', 'trap music', 'juggalo', 'hip pop', 'hip pop', 'chicano rap']\n",
      "Current artist has: []\n",
      "ALL GENRES WE'VE HEARD OF: ['dirty south rap', 'pop rap', 'southern hip hop', 'trap music', 'crunk', 'dirty south rap', 'southern hip hop', 'chicano rap', 'latin hip hop', 'hip pop', 'pop rap', 'crunk', 'dirty south rap', 'southern hip hop', 'trap music', 'juggalo', 'hip pop', 'hip pop', 'chicano rap']\n",
      "Current artist has: ['jerk']\n",
      "ALL GENRES WE'VE HEARD OF: ['dirty south rap', 'pop rap', 'southern hip hop', 'trap music', 'crunk', 'dirty south rap', 'southern hip hop', 'chicano rap', 'latin hip hop', 'hip pop', 'pop rap', 'crunk', 'dirty south rap', 'southern hip hop', 'trap music', 'juggalo', 'hip pop', 'hip pop', 'chicano rap', 'jerk']\n",
      "Current artist has: []\n",
      "ALL GENRES WE'VE HEARD OF: ['dirty south rap', 'pop rap', 'southern hip hop', 'trap music', 'crunk', 'dirty south rap', 'southern hip hop', 'chicano rap', 'latin hip hop', 'hip pop', 'pop rap', 'crunk', 'dirty south rap', 'southern hip hop', 'trap music', 'juggalo', 'hip pop', 'hip pop', 'chicano rap', 'jerk']\n",
      "Current artist has: ['deep trap']\n",
      "ALL GENRES WE'VE HEARD OF: ['dirty south rap', 'pop rap', 'southern hip hop', 'trap music', 'crunk', 'dirty south rap', 'southern hip hop', 'chicano rap', 'latin hip hop', 'hip pop', 'pop rap', 'crunk', 'dirty south rap', 'southern hip hop', 'trap music', 'juggalo', 'hip pop', 'hip pop', 'chicano rap', 'jerk', 'deep trap']\n",
      "Current artist has: []\n",
      "ALL GENRES WE'VE HEARD OF: ['dirty south rap', 'pop rap', 'southern hip hop', 'trap music', 'crunk', 'dirty south rap', 'southern hip hop', 'chicano rap', 'latin hip hop', 'hip pop', 'pop rap', 'crunk', 'dirty south rap', 'southern hip hop', 'trap music', 'juggalo', 'hip pop', 'hip pop', 'chicano rap', 'jerk', 'deep trap']\n",
      "Current artist has: ['chicano rap']\n",
      "ALL GENRES WE'VE HEARD OF: ['dirty south rap', 'pop rap', 'southern hip hop', 'trap music', 'crunk', 'dirty south rap', 'southern hip hop', 'chicano rap', 'latin hip hop', 'hip pop', 'pop rap', 'crunk', 'dirty south rap', 'southern hip hop', 'trap music', 'juggalo', 'hip pop', 'hip pop', 'chicano rap', 'jerk', 'deep trap', 'chicano rap']\n",
      "Current artist has: []\n",
      "ALL GENRES WE'VE HEARD OF: ['dirty south rap', 'pop rap', 'southern hip hop', 'trap music', 'crunk', 'dirty south rap', 'southern hip hop', 'chicano rap', 'latin hip hop', 'hip pop', 'pop rap', 'crunk', 'dirty south rap', 'southern hip hop', 'trap music', 'juggalo', 'hip pop', 'hip pop', 'chicano rap', 'jerk', 'deep trap', 'chicano rap']\n",
      "Current artist has: []\n",
      "ALL GENRES WE'VE HEARD OF: ['dirty south rap', 'pop rap', 'southern hip hop', 'trap music', 'crunk', 'dirty south rap', 'southern hip hop', 'chicano rap', 'latin hip hop', 'hip pop', 'pop rap', 'crunk', 'dirty south rap', 'southern hip hop', 'trap music', 'juggalo', 'hip pop', 'hip pop', 'chicano rap', 'jerk', 'deep trap', 'chicano rap']\n",
      "Current artist has: ['freestyle']\n",
      "ALL GENRES WE'VE HEARD OF: ['dirty south rap', 'pop rap', 'southern hip hop', 'trap music', 'crunk', 'dirty south rap', 'southern hip hop', 'chicano rap', 'latin hip hop', 'hip pop', 'pop rap', 'crunk', 'dirty south rap', 'southern hip hop', 'trap music', 'juggalo', 'hip pop', 'hip pop', 'chicano rap', 'jerk', 'deep trap', 'chicano rap', 'freestyle']\n",
      "Current artist has: []\n",
      "ALL GENRES WE'VE HEARD OF: ['dirty south rap', 'pop rap', 'southern hip hop', 'trap music', 'crunk', 'dirty south rap', 'southern hip hop', 'chicano rap', 'latin hip hop', 'hip pop', 'pop rap', 'crunk', 'dirty south rap', 'southern hip hop', 'trap music', 'juggalo', 'hip pop', 'hip pop', 'chicano rap', 'jerk', 'deep trap', 'chicano rap', 'freestyle']\n",
      "Current artist has: []\n",
      "ALL GENRES WE'VE HEARD OF: ['dirty south rap', 'pop rap', 'southern hip hop', 'trap music', 'crunk', 'dirty south rap', 'southern hip hop', 'chicano rap', 'latin hip hop', 'hip pop', 'pop rap', 'crunk', 'dirty south rap', 'southern hip hop', 'trap music', 'juggalo', 'hip pop', 'hip pop', 'chicano rap', 'jerk', 'deep trap', 'chicano rap', 'freestyle']\n",
      "Current artist has: []\n",
      "ALL GENRES WE'VE HEARD OF: ['dirty south rap', 'pop rap', 'southern hip hop', 'trap music', 'crunk', 'dirty south rap', 'southern hip hop', 'chicano rap', 'latin hip hop', 'hip pop', 'pop rap', 'crunk', 'dirty south rap', 'southern hip hop', 'trap music', 'juggalo', 'hip pop', 'hip pop', 'chicano rap', 'jerk', 'deep trap', 'chicano rap', 'freestyle']\n",
      "Current artist has: []\n",
      "ALL GENRES WE'VE HEARD OF: ['dirty south rap', 'pop rap', 'southern hip hop', 'trap music', 'crunk', 'dirty south rap', 'southern hip hop', 'chicano rap', 'latin hip hop', 'hip pop', 'pop rap', 'crunk', 'dirty south rap', 'southern hip hop', 'trap music', 'juggalo', 'hip pop', 'hip pop', 'chicano rap', 'jerk', 'deep trap', 'chicano rap', 'freestyle']\n",
      "Current artist has: []\n",
      "ALL GENRES WE'VE HEARD OF: ['dirty south rap', 'pop rap', 'southern hip hop', 'trap music', 'crunk', 'dirty south rap', 'southern hip hop', 'chicano rap', 'latin hip hop', 'hip pop', 'pop rap', 'crunk', 'dirty south rap', 'southern hip hop', 'trap music', 'juggalo', 'hip pop', 'hip pop', 'chicano rap', 'jerk', 'deep trap', 'chicano rap', 'freestyle']\n",
      "Current artist has: []\n",
      "ALL GENRES WE'VE HEARD OF: ['dirty south rap', 'pop rap', 'southern hip hop', 'trap music', 'crunk', 'dirty south rap', 'southern hip hop', 'chicano rap', 'latin hip hop', 'hip pop', 'pop rap', 'crunk', 'dirty south rap', 'southern hip hop', 'trap music', 'juggalo', 'hip pop', 'hip pop', 'chicano rap', 'jerk', 'deep trap', 'chicano rap', 'freestyle']\n",
      "Current artist has: []\n",
      "ALL GENRES WE'VE HEARD OF: ['dirty south rap', 'pop rap', 'southern hip hop', 'trap music', 'crunk', 'dirty south rap', 'southern hip hop', 'chicano rap', 'latin hip hop', 'hip pop', 'pop rap', 'crunk', 'dirty south rap', 'southern hip hop', 'trap music', 'juggalo', 'hip pop', 'hip pop', 'chicano rap', 'jerk', 'deep trap', 'chicano rap', 'freestyle']\n",
      "Current artist has: ['soca']\n",
      "ALL GENRES WE'VE HEARD OF: ['dirty south rap', 'pop rap', 'southern hip hop', 'trap music', 'crunk', 'dirty south rap', 'southern hip hop', 'chicano rap', 'latin hip hop', 'hip pop', 'pop rap', 'crunk', 'dirty south rap', 'southern hip hop', 'trap music', 'juggalo', 'hip pop', 'hip pop', 'chicano rap', 'jerk', 'deep trap', 'chicano rap', 'freestyle', 'soca']\n",
      "Current artist has: []\n",
      "ALL GENRES WE'VE HEARD OF: ['dirty south rap', 'pop rap', 'southern hip hop', 'trap music', 'crunk', 'dirty south rap', 'southern hip hop', 'chicano rap', 'latin hip hop', 'hip pop', 'pop rap', 'crunk', 'dirty south rap', 'southern hip hop', 'trap music', 'juggalo', 'hip pop', 'hip pop', 'chicano rap', 'jerk', 'deep trap', 'chicano rap', 'freestyle', 'soca']\n",
      "Current artist has: []\n",
      "ALL GENRES WE'VE HEARD OF: ['dirty south rap', 'pop rap', 'southern hip hop', 'trap music', 'crunk', 'dirty south rap', 'southern hip hop', 'chicano rap', 'latin hip hop', 'hip pop', 'pop rap', 'crunk', 'dirty south rap', 'southern hip hop', 'trap music', 'juggalo', 'hip pop', 'hip pop', 'chicano rap', 'jerk', 'deep trap', 'chicano rap', 'freestyle', 'soca']\n",
      "Current artist has: []\n",
      "ALL GENRES WE'VE HEARD OF: ['dirty south rap', 'pop rap', 'southern hip hop', 'trap music', 'crunk', 'dirty south rap', 'southern hip hop', 'chicano rap', 'latin hip hop', 'hip pop', 'pop rap', 'crunk', 'dirty south rap', 'southern hip hop', 'trap music', 'juggalo', 'hip pop', 'hip pop', 'chicano rap', 'jerk', 'deep trap', 'chicano rap', 'freestyle', 'soca']\n",
      "Current artist has: []\n",
      "ALL GENRES WE'VE HEARD OF: ['dirty south rap', 'pop rap', 'southern hip hop', 'trap music', 'crunk', 'dirty south rap', 'southern hip hop', 'chicano rap', 'latin hip hop', 'hip pop', 'pop rap', 'crunk', 'dirty south rap', 'southern hip hop', 'trap music', 'juggalo', 'hip pop', 'hip pop', 'chicano rap', 'jerk', 'deep trap', 'chicano rap', 'freestyle', 'soca']\n",
      "Current artist has: ['crunk', 'dirty south rap']\n",
      "########\n",
      "ALL THE GENRES WE'VE HEARD OF, FINALLY, AT THE END:\n",
      "['dirty south rap', 'pop rap', 'southern hip hop', 'trap music', 'crunk', 'dirty south rap', 'southern hip hop', 'chicano rap', 'latin hip hop', 'hip pop', 'pop rap', 'crunk', 'dirty south rap', 'southern hip hop', 'trap music', 'juggalo', 'hip pop', 'hip pop', 'chicano rap', 'jerk', 'deep trap', 'chicano rap', 'freestyle', 'soca', 'crunk', 'dirty south rap']\n"
     ]
    }
   ],
   "source": [
    "# AGGREGATION PROBLEM\n",
    "all_genres = []\n",
    "\n",
    "# THE LOOP\n",
    "for artist in artists:\n",
    "    print(\"ALL GENRES WE'VE HEARD OF:\", all_genres)\n",
    "    # THE CONDITIONAL: none\n",
    "    print(\"Current artist has:\", artist['genres'])\n",
    "    all_genres = all_genres + artist['genres']\n",
    "\n",
    "# \"Hello\" + \"world\" => \"Helloworld\"   \n",
    "# [1, 2, 3] + [4, 5, 6] => [1, 2, 3, 4, 5, 6]\n",
    "# [1, 2, 3] + 4 => DOES NOT WORK\n",
    "# [1, 2, 3].append(4) => [1, 2, 3, 4]\n",
    "\n",
    "print(\"########\")\n",
    "print(\"ALL THE GENRES WE'VE HEARD OF, FINALLY, AT THE END:\")\n",
    "# Has repeats\n",
    "print(all_genres)\n",
    "\n",
    "# your_list = ['a', 'b', 'c', 'd', 'c', 'b', 'c']\n",
    "# your_list.count('c') => 3\n",
    "# your_list.count('a') => 1\n",
    "# your_list.count('d') => 1"
   ]
  },
  {
   "cell_type": "code",
   "execution_count": 65,
   "metadata": {
    "collapsed": false
   },
   "outputs": [
    {
     "data": {
      "text/plain": [
       "4"
      ]
     },
     "execution_count": 65,
     "metadata": {},
     "output_type": "execute_result"
    }
   ],
   "source": [
    "all_genres.count('dirty south rap')"
   ]
  },
  {
   "cell_type": "code",
   "execution_count": 66,
   "metadata": {
    "collapsed": false
   },
   "outputs": [
    {
     "data": {
      "text/plain": [
       "3"
      ]
     },
     "execution_count": 66,
     "metadata": {},
     "output_type": "execute_result"
    }
   ],
   "source": [
    "all_genres.count('crunk')"
   ]
  },
  {
   "cell_type": "code",
   "execution_count": 67,
   "metadata": {
    "collapsed": false,
    "scrolled": true
   },
   "outputs": [
    {
     "name": "stdout",
     "output_type": "stream",
     "text": [
      "dirty south rap shows up 4 times\n",
      "pop rap shows up 2 times\n",
      "southern hip hop shows up 3 times\n",
      "trap music shows up 2 times\n",
      "crunk shows up 3 times\n",
      "dirty south rap shows up 4 times\n",
      "southern hip hop shows up 3 times\n",
      "chicano rap shows up 3 times\n",
      "latin hip hop shows up 1 times\n",
      "hip pop shows up 3 times\n",
      "pop rap shows up 2 times\n",
      "crunk shows up 3 times\n",
      "dirty south rap shows up 4 times\n",
      "southern hip hop shows up 3 times\n",
      "trap music shows up 2 times\n",
      "juggalo shows up 1 times\n",
      "hip pop shows up 3 times\n",
      "hip pop shows up 3 times\n",
      "chicano rap shows up 3 times\n",
      "jerk shows up 1 times\n",
      "deep trap shows up 1 times\n",
      "chicano rap shows up 3 times\n",
      "freestyle shows up 1 times\n",
      "soca shows up 1 times\n",
      "crunk shows up 3 times\n",
      "dirty south rap shows up 4 times\n"
     ]
    }
   ],
   "source": [
    "# This is bad because of the duplicates in all_genres\n",
    "# It keeps repeating \"dirty south rap shows up 4 times\"\n",
    "for genre in all_genres:\n",
    "    genre_count = all_genres.count(genre)\n",
    "    print(genre, \"shows up\", genre_count, \"times\")"
   ]
  },
  {
   "cell_type": "code",
   "execution_count": 68,
   "metadata": {
    "collapsed": false
   },
   "outputs": [
    {
     "name": "stdout",
     "output_type": "stream",
     "text": [
      "freestyle shows up 1 times\n",
      "crunk shows up 3 times\n",
      "dirty south rap shows up 4 times\n",
      "hip pop shows up 3 times\n",
      "southern hip hop shows up 3 times\n",
      "trap music shows up 2 times\n",
      "juggalo shows up 1 times\n",
      "latin hip hop shows up 1 times\n",
      "deep trap shows up 1 times\n",
      "soca shows up 1 times\n",
      "chicano rap shows up 3 times\n",
      "pop rap shows up 2 times\n",
      "jerk shows up 1 times\n"
     ]
    }
   ],
   "source": [
    "# We need a UNIQUE list of all_genres, a.k.a. a list\n",
    "# with all duplicates removed\n",
    "# unique_list = set(list_with_duplicates)\n",
    "unique_genres = set(all_genres)\n",
    "for genre in unique_genres:\n",
    "    genre_count = all_genres.count(genre)\n",
    "    print(genre, \"shows up\", genre_count, \"times\")"
   ]
  },
  {
   "cell_type": "code",
   "execution_count": 69,
   "metadata": {
    "collapsed": false
   },
   "outputs": [
    {
     "name": "stdout",
     "output_type": "stream",
     "text": [
      "crunk shows up 3 times\n",
      "dirty south rap shows up 4 times\n"
     ]
    },
    {
     "data": {
      "text/plain": [
       "[('dirty south rap', 4), ('crunk', 3), ('hip pop', 3), ('southern hip hop', 3)]"
      ]
     },
     "execution_count": 69,
     "metadata": {},
     "output_type": "execute_result"
    }
   ],
   "source": [
    "# There is a library that comes with Python called COLLECTIONS!!!\n",
    "# Inside of it is a magic thing called Counter.\n",
    "\n",
    "#import collections\n",
    "from collections import Counter\n",
    "\n",
    "# all_genres = [ 'southern hip hop', 'southern hip hop', 'crunk', ]\n",
    "# a list of strings of genres, with duplicates\n",
    "#counts = collections.Counter(all_genres)\n",
    "counts = Counter(all_genres)\n",
    "print('crunk shows up', counts['crunk'], 'times')\n",
    "print('dirty south rap shows up', counts['dirty south rap'], 'times')\n",
    "counts.most_common(4)"
   ]
  },
  {
   "cell_type": "markdown",
   "metadata": {},
   "source": [
    "**How to automate getting all of the results**"
   ]
  },
  {
   "cell_type": "code",
   "execution_count": 71,
   "metadata": {
    "collapsed": false
   },
   "outputs": [
    {
     "name": "stdout",
     "output_type": "stream",
     "text": [
      "50\n",
      "4560\n"
     ]
    }
   ],
   "source": [
    "data['artists']\n",
    "print(len(data['artists']['items'])) # We only get 10 artists\n",
    "print(data['artists']['total'])\n"
   ]
  },
  {
   "cell_type": "code",
   "execution_count": 72,
   "metadata": {
    "collapsed": false
   },
   "outputs": [
    {
     "data": {
      "text/plain": [
       "91"
      ]
     },
     "execution_count": 72,
     "metadata": {},
     "output_type": "execute_result"
    }
   ],
   "source": [
    "import math\n",
    "\n",
    "#response = requests.get(\"https://api.spotify.com/v1/search?q=lil&type=artist&limit=50&market=US\")\n",
    "#data = response.json()\n",
    "# math.ceil rounds up\n",
    "page_count = math.ceil(4502 / 50)\n",
    "page_count"
   ]
  },
  {
   "cell_type": "code",
   "execution_count": 73,
   "metadata": {
    "collapsed": false
   },
   "outputs": [
    {
     "data": {
      "text/plain": [
       "range(0, 91)"
      ]
     },
     "execution_count": 73,
     "metadata": {},
     "output_type": "execute_result"
    }
   ],
   "source": [
    "range(91) # gives us a list of 0 through 90\n",
    "#list(range(91))"
   ]
  },
  {
   "cell_type": "code",
   "execution_count": 75,
   "metadata": {
    "collapsed": false,
    "scrolled": true
   },
   "outputs": [
    {
     "name": "stdout",
     "output_type": "stream",
     "text": [
      "We are on page 0 with an offset of 0\n",
      "Requesting https://api.spotify.com/v1/search?q=lil&type=artist&limit=50&offset=0\n",
      "Found 50 new artists\n",
      "Total count of artists: 50\n",
      "We are on page 1 with an offset of 50\n",
      "Requesting https://api.spotify.com/v1/search?q=lil&type=artist&limit=50&offset=50\n",
      "Found 50 new artists\n",
      "Total count of artists: 100\n",
      "We are on page 2 with an offset of 100\n",
      "Requesting https://api.spotify.com/v1/search?q=lil&type=artist&limit=50&offset=100\n",
      "Found 50 new artists\n",
      "Total count of artists: 150\n",
      "We are on page 3 with an offset of 150\n",
      "Requesting https://api.spotify.com/v1/search?q=lil&type=artist&limit=50&offset=150\n",
      "Found 50 new artists\n",
      "Total count of artists: 200\n",
      "We are on page 4 with an offset of 200\n",
      "Requesting https://api.spotify.com/v1/search?q=lil&type=artist&limit=50&offset=200\n",
      "Found 50 new artists\n",
      "Total count of artists: 250\n",
      "We are on page 5 with an offset of 250\n",
      "Requesting https://api.spotify.com/v1/search?q=lil&type=artist&limit=50&offset=250\n",
      "Found 50 new artists\n",
      "Total count of artists: 300\n",
      "We are on page 6 with an offset of 300\n",
      "Requesting https://api.spotify.com/v1/search?q=lil&type=artist&limit=50&offset=300\n",
      "Found 50 new artists\n",
      "Total count of artists: 350\n",
      "We are on page 7 with an offset of 350\n",
      "Requesting https://api.spotify.com/v1/search?q=lil&type=artist&limit=50&offset=350\n",
      "Found 50 new artists\n",
      "Total count of artists: 400\n",
      "We are on page 8 with an offset of 400\n",
      "Requesting https://api.spotify.com/v1/search?q=lil&type=artist&limit=50&offset=400\n",
      "Found 50 new artists\n",
      "Total count of artists: 450\n",
      "We are on page 9 with an offset of 450\n",
      "Requesting https://api.spotify.com/v1/search?q=lil&type=artist&limit=50&offset=450\n",
      "Found 50 new artists\n",
      "Total count of artists: 500\n",
      "We are on page 10 with an offset of 500\n",
      "Requesting https://api.spotify.com/v1/search?q=lil&type=artist&limit=50&offset=500\n",
      "Found 50 new artists\n",
      "Total count of artists: 550\n",
      "We are on page 11 with an offset of 550\n",
      "Requesting https://api.spotify.com/v1/search?q=lil&type=artist&limit=50&offset=550\n",
      "Found 50 new artists\n",
      "Total count of artists: 600\n",
      "We are on page 12 with an offset of 600\n",
      "Requesting https://api.spotify.com/v1/search?q=lil&type=artist&limit=50&offset=600\n",
      "Found 50 new artists\n",
      "Total count of artists: 650\n",
      "We are on page 13 with an offset of 650\n",
      "Requesting https://api.spotify.com/v1/search?q=lil&type=artist&limit=50&offset=650\n",
      "Found 50 new artists\n",
      "Total count of artists: 700\n",
      "We are on page 14 with an offset of 700\n",
      "Requesting https://api.spotify.com/v1/search?q=lil&type=artist&limit=50&offset=700\n",
      "Found 50 new artists\n",
      "Total count of artists: 750\n",
      "We are on page 15 with an offset of 750\n",
      "Requesting https://api.spotify.com/v1/search?q=lil&type=artist&limit=50&offset=750\n",
      "Found 50 new artists\n",
      "Total count of artists: 800\n",
      "We are on page 16 with an offset of 800\n",
      "Requesting https://api.spotify.com/v1/search?q=lil&type=artist&limit=50&offset=800\n",
      "Found 50 new artists\n",
      "Total count of artists: 850\n",
      "We are on page 17 with an offset of 850\n",
      "Requesting https://api.spotify.com/v1/search?q=lil&type=artist&limit=50&offset=850\n",
      "Found 50 new artists\n",
      "Total count of artists: 900\n",
      "We are on page 18 with an offset of 900\n",
      "Requesting https://api.spotify.com/v1/search?q=lil&type=artist&limit=50&offset=900\n",
      "Found 50 new artists\n",
      "Total count of artists: 950\n",
      "We are on page 19 with an offset of 950\n",
      "Requesting https://api.spotify.com/v1/search?q=lil&type=artist&limit=50&offset=950\n",
      "Found 50 new artists\n",
      "Total count of artists: 1000\n",
      "We are on page 20 with an offset of 1000\n",
      "Requesting https://api.spotify.com/v1/search?q=lil&type=artist&limit=50&offset=1000\n",
      "Found 50 new artists\n",
      "Total count of artists: 1050\n",
      "We are on page 21 with an offset of 1050\n",
      "Requesting https://api.spotify.com/v1/search?q=lil&type=artist&limit=50&offset=1050\n",
      "Found 50 new artists\n",
      "Total count of artists: 1100\n",
      "We are on page 22 with an offset of 1100\n",
      "Requesting https://api.spotify.com/v1/search?q=lil&type=artist&limit=50&offset=1100\n",
      "Found 50 new artists\n",
      "Total count of artists: 1150\n",
      "We are on page 23 with an offset of 1150\n",
      "Requesting https://api.spotify.com/v1/search?q=lil&type=artist&limit=50&offset=1150\n",
      "Found 50 new artists\n",
      "Total count of artists: 1200\n",
      "We are on page 24 with an offset of 1200\n",
      "Requesting https://api.spotify.com/v1/search?q=lil&type=artist&limit=50&offset=1200\n",
      "Found 50 new artists\n",
      "Total count of artists: 1250\n",
      "We are on page 25 with an offset of 1250\n",
      "Requesting https://api.spotify.com/v1/search?q=lil&type=artist&limit=50&offset=1250\n",
      "Found 50 new artists\n",
      "Total count of artists: 1300\n",
      "We are on page 26 with an offset of 1300\n",
      "Requesting https://api.spotify.com/v1/search?q=lil&type=artist&limit=50&offset=1300\n",
      "Found 50 new artists\n",
      "Total count of artists: 1350\n",
      "We are on page 27 with an offset of 1350\n",
      "Requesting https://api.spotify.com/v1/search?q=lil&type=artist&limit=50&offset=1350\n",
      "Found 50 new artists\n",
      "Total count of artists: 1400\n",
      "We are on page 28 with an offset of 1400\n",
      "Requesting https://api.spotify.com/v1/search?q=lil&type=artist&limit=50&offset=1400\n",
      "Found 50 new artists\n",
      "Total count of artists: 1450\n",
      "We are on page 29 with an offset of 1450\n",
      "Requesting https://api.spotify.com/v1/search?q=lil&type=artist&limit=50&offset=1450\n",
      "Found 50 new artists\n",
      "Total count of artists: 1500\n",
      "We are on page 30 with an offset of 1500\n",
      "Requesting https://api.spotify.com/v1/search?q=lil&type=artist&limit=50&offset=1500\n",
      "Found 50 new artists\n",
      "Total count of artists: 1550\n",
      "We are on page 31 with an offset of 1550\n",
      "Requesting https://api.spotify.com/v1/search?q=lil&type=artist&limit=50&offset=1550\n",
      "Found 50 new artists\n",
      "Total count of artists: 1600\n",
      "We are on page 32 with an offset of 1600\n",
      "Requesting https://api.spotify.com/v1/search?q=lil&type=artist&limit=50&offset=1600\n",
      "Found 50 new artists\n",
      "Total count of artists: 1650\n",
      "We are on page 33 with an offset of 1650\n",
      "Requesting https://api.spotify.com/v1/search?q=lil&type=artist&limit=50&offset=1650\n",
      "Found 50 new artists\n",
      "Total count of artists: 1700\n",
      "We are on page 34 with an offset of 1700\n",
      "Requesting https://api.spotify.com/v1/search?q=lil&type=artist&limit=50&offset=1700\n",
      "Found 50 new artists\n",
      "Total count of artists: 1750\n",
      "We are on page 35 with an offset of 1750\n",
      "Requesting https://api.spotify.com/v1/search?q=lil&type=artist&limit=50&offset=1750\n",
      "Found 50 new artists\n",
      "Total count of artists: 1800\n",
      "We are on page 36 with an offset of 1800\n",
      "Requesting https://api.spotify.com/v1/search?q=lil&type=artist&limit=50&offset=1800\n",
      "Found 50 new artists\n",
      "Total count of artists: 1850\n",
      "We are on page 37 with an offset of 1850\n",
      "Requesting https://api.spotify.com/v1/search?q=lil&type=artist&limit=50&offset=1850\n",
      "Found 50 new artists\n",
      "Total count of artists: 1900\n",
      "We are on page 38 with an offset of 1900\n",
      "Requesting https://api.spotify.com/v1/search?q=lil&type=artist&limit=50&offset=1900\n",
      "Found 50 new artists\n",
      "Total count of artists: 1950\n",
      "We are on page 39 with an offset of 1950\n",
      "Requesting https://api.spotify.com/v1/search?q=lil&type=artist&limit=50&offset=1950\n",
      "Found 50 new artists\n",
      "Total count of artists: 2000\n",
      "We are on page 40 with an offset of 2000\n",
      "Requesting https://api.spotify.com/v1/search?q=lil&type=artist&limit=50&offset=2000\n",
      "Found 50 new artists\n",
      "Total count of artists: 2050\n",
      "We are on page 41 with an offset of 2050\n",
      "Requesting https://api.spotify.com/v1/search?q=lil&type=artist&limit=50&offset=2050\n",
      "Found 50 new artists\n",
      "Total count of artists: 2100\n",
      "We are on page 42 with an offset of 2100\n",
      "Requesting https://api.spotify.com/v1/search?q=lil&type=artist&limit=50&offset=2100\n",
      "Found 50 new artists\n",
      "Total count of artists: 2150\n",
      "We are on page 43 with an offset of 2150\n",
      "Requesting https://api.spotify.com/v1/search?q=lil&type=artist&limit=50&offset=2150\n",
      "Found 50 new artists\n",
      "Total count of artists: 2200\n",
      "We are on page 44 with an offset of 2200\n",
      "Requesting https://api.spotify.com/v1/search?q=lil&type=artist&limit=50&offset=2200\n",
      "Found 50 new artists\n",
      "Total count of artists: 2250\n",
      "We are on page 45 with an offset of 2250\n",
      "Requesting https://api.spotify.com/v1/search?q=lil&type=artist&limit=50&offset=2250\n",
      "Found 50 new artists\n",
      "Total count of artists: 2300\n",
      "We are on page 46 with an offset of 2300\n",
      "Requesting https://api.spotify.com/v1/search?q=lil&type=artist&limit=50&offset=2300\n",
      "Found 50 new artists\n",
      "Total count of artists: 2350\n",
      "We are on page 47 with an offset of 2350\n",
      "Requesting https://api.spotify.com/v1/search?q=lil&type=artist&limit=50&offset=2350\n",
      "Found 50 new artists\n",
      "Total count of artists: 2400\n",
      "We are on page 48 with an offset of 2400\n",
      "Requesting https://api.spotify.com/v1/search?q=lil&type=artist&limit=50&offset=2400\n",
      "Found 50 new artists\n",
      "Total count of artists: 2450\n",
      "We are on page 49 with an offset of 2450\n",
      "Requesting https://api.spotify.com/v1/search?q=lil&type=artist&limit=50&offset=2450\n",
      "Found 50 new artists\n",
      "Total count of artists: 2500\n",
      "We are on page 50 with an offset of 2500\n",
      "Requesting https://api.spotify.com/v1/search?q=lil&type=artist&limit=50&offset=2500\n",
      "Found 50 new artists\n",
      "Total count of artists: 2550\n",
      "We are on page 51 with an offset of 2550\n",
      "Requesting https://api.spotify.com/v1/search?q=lil&type=artist&limit=50&offset=2550\n",
      "Found 50 new artists\n",
      "Total count of artists: 2600\n",
      "We are on page 52 with an offset of 2600\n",
      "Requesting https://api.spotify.com/v1/search?q=lil&type=artist&limit=50&offset=2600\n",
      "Found 50 new artists\n",
      "Total count of artists: 2650\n",
      "We are on page 53 with an offset of 2650\n",
      "Requesting https://api.spotify.com/v1/search?q=lil&type=artist&limit=50&offset=2650\n",
      "Found 50 new artists\n",
      "Total count of artists: 2700\n",
      "We are on page 54 with an offset of 2700\n",
      "Requesting https://api.spotify.com/v1/search?q=lil&type=artist&limit=50&offset=2700\n",
      "Found 50 new artists\n",
      "Total count of artists: 2750\n",
      "We are on page 55 with an offset of 2750\n",
      "Requesting https://api.spotify.com/v1/search?q=lil&type=artist&limit=50&offset=2750\n",
      "Found 50 new artists\n",
      "Total count of artists: 2800\n",
      "We are on page 56 with an offset of 2800\n",
      "Requesting https://api.spotify.com/v1/search?q=lil&type=artist&limit=50&offset=2800\n",
      "Found 50 new artists\n",
      "Total count of artists: 2850\n",
      "We are on page 57 with an offset of 2850\n",
      "Requesting https://api.spotify.com/v1/search?q=lil&type=artist&limit=50&offset=2850\n",
      "Found 50 new artists\n",
      "Total count of artists: 2900\n",
      "We are on page 58 with an offset of 2900\n",
      "Requesting https://api.spotify.com/v1/search?q=lil&type=artist&limit=50&offset=2900\n",
      "Found 50 new artists\n",
      "Total count of artists: 2950\n",
      "We are on page 59 with an offset of 2950\n",
      "Requesting https://api.spotify.com/v1/search?q=lil&type=artist&limit=50&offset=2950\n",
      "Found 50 new artists\n",
      "Total count of artists: 3000\n",
      "We are on page 60 with an offset of 3000\n",
      "Requesting https://api.spotify.com/v1/search?q=lil&type=artist&limit=50&offset=3000\n",
      "Found 50 new artists\n",
      "Total count of artists: 3050\n",
      "We are on page 61 with an offset of 3050\n",
      "Requesting https://api.spotify.com/v1/search?q=lil&type=artist&limit=50&offset=3050\n",
      "Found 50 new artists\n",
      "Total count of artists: 3100\n",
      "We are on page 62 with an offset of 3100\n",
      "Requesting https://api.spotify.com/v1/search?q=lil&type=artist&limit=50&offset=3100\n",
      "Found 50 new artists\n",
      "Total count of artists: 3150\n",
      "We are on page 63 with an offset of 3150\n",
      "Requesting https://api.spotify.com/v1/search?q=lil&type=artist&limit=50&offset=3150\n",
      "Found 50 new artists\n",
      "Total count of artists: 3200\n",
      "We are on page 64 with an offset of 3200\n",
      "Requesting https://api.spotify.com/v1/search?q=lil&type=artist&limit=50&offset=3200\n",
      "Found 50 new artists\n",
      "Total count of artists: 3250\n",
      "We are on page 65 with an offset of 3250\n",
      "Requesting https://api.spotify.com/v1/search?q=lil&type=artist&limit=50&offset=3250\n",
      "Found 50 new artists\n",
      "Total count of artists: 3300\n",
      "We are on page 66 with an offset of 3300\n",
      "Requesting https://api.spotify.com/v1/search?q=lil&type=artist&limit=50&offset=3300\n",
      "Found 50 new artists\n",
      "Total count of artists: 3350\n",
      "We are on page 67 with an offset of 3350\n",
      "Requesting https://api.spotify.com/v1/search?q=lil&type=artist&limit=50&offset=3350\n",
      "Found 50 new artists\n",
      "Total count of artists: 3400\n",
      "We are on page 68 with an offset of 3400\n",
      "Requesting https://api.spotify.com/v1/search?q=lil&type=artist&limit=50&offset=3400\n",
      "Found 50 new artists\n",
      "Total count of artists: 3450\n",
      "We are on page 69 with an offset of 3450\n",
      "Requesting https://api.spotify.com/v1/search?q=lil&type=artist&limit=50&offset=3450\n",
      "Found 50 new artists\n",
      "Total count of artists: 3500\n",
      "We are on page 70 with an offset of 3500\n",
      "Requesting https://api.spotify.com/v1/search?q=lil&type=artist&limit=50&offset=3500\n",
      "Found 50 new artists\n",
      "Total count of artists: 3550\n",
      "We are on page 71 with an offset of 3550\n",
      "Requesting https://api.spotify.com/v1/search?q=lil&type=artist&limit=50&offset=3550\n",
      "Found 50 new artists\n",
      "Total count of artists: 3600\n",
      "We are on page 72 with an offset of 3600\n",
      "Requesting https://api.spotify.com/v1/search?q=lil&type=artist&limit=50&offset=3600\n",
      "Found 50 new artists\n",
      "Total count of artists: 3650\n",
      "We are on page 73 with an offset of 3650\n",
      "Requesting https://api.spotify.com/v1/search?q=lil&type=artist&limit=50&offset=3650\n",
      "Found 50 new artists\n",
      "Total count of artists: 3700\n",
      "We are on page 74 with an offset of 3700\n",
      "Requesting https://api.spotify.com/v1/search?q=lil&type=artist&limit=50&offset=3700\n",
      "Found 50 new artists\n",
      "Total count of artists: 3750\n",
      "We are on page 75 with an offset of 3750\n",
      "Requesting https://api.spotify.com/v1/search?q=lil&type=artist&limit=50&offset=3750\n",
      "Found 50 new artists\n",
      "Total count of artists: 3800\n",
      "We are on page 76 with an offset of 3800\n",
      "Requesting https://api.spotify.com/v1/search?q=lil&type=artist&limit=50&offset=3800\n",
      "Found 50 new artists\n",
      "Total count of artists: 3850\n",
      "We are on page 77 with an offset of 3850\n",
      "Requesting https://api.spotify.com/v1/search?q=lil&type=artist&limit=50&offset=3850\n",
      "Found 50 new artists\n",
      "Total count of artists: 3900\n",
      "We are on page 78 with an offset of 3900\n",
      "Requesting https://api.spotify.com/v1/search?q=lil&type=artist&limit=50&offset=3900\n",
      "Found 50 new artists\n",
      "Total count of artists: 3950\n",
      "We are on page 79 with an offset of 3950\n",
      "Requesting https://api.spotify.com/v1/search?q=lil&type=artist&limit=50&offset=3950\n",
      "Found 50 new artists\n",
      "Total count of artists: 4000\n",
      "We are on page 80 with an offset of 4000\n",
      "Requesting https://api.spotify.com/v1/search?q=lil&type=artist&limit=50&offset=4000\n",
      "Found 50 new artists\n",
      "Total count of artists: 4050\n",
      "We are on page 81 with an offset of 4050\n",
      "Requesting https://api.spotify.com/v1/search?q=lil&type=artist&limit=50&offset=4050\n",
      "Found 50 new artists\n",
      "Total count of artists: 4100\n",
      "We are on page 82 with an offset of 4100\n",
      "Requesting https://api.spotify.com/v1/search?q=lil&type=artist&limit=50&offset=4100\n",
      "Found 50 new artists\n",
      "Total count of artists: 4150\n",
      "We are on page 83 with an offset of 4150\n",
      "Requesting https://api.spotify.com/v1/search?q=lil&type=artist&limit=50&offset=4150\n",
      "Found 50 new artists\n",
      "Total count of artists: 4200\n",
      "We are on page 84 with an offset of 4200\n",
      "Requesting https://api.spotify.com/v1/search?q=lil&type=artist&limit=50&offset=4200\n",
      "Found 50 new artists\n",
      "Total count of artists: 4250\n",
      "We are on page 85 with an offset of 4250\n",
      "Requesting https://api.spotify.com/v1/search?q=lil&type=artist&limit=50&offset=4250\n",
      "Found 50 new artists\n",
      "Total count of artists: 4300\n",
      "We are on page 86 with an offset of 4300\n",
      "Requesting https://api.spotify.com/v1/search?q=lil&type=artist&limit=50&offset=4300\n",
      "Found 50 new artists\n",
      "Total count of artists: 4350\n",
      "We are on page 87 with an offset of 4350\n",
      "Requesting https://api.spotify.com/v1/search?q=lil&type=artist&limit=50&offset=4350\n",
      "Found 50 new artists\n",
      "Total count of artists: 4400\n",
      "We are on page 88 with an offset of 4400\n",
      "Requesting https://api.spotify.com/v1/search?q=lil&type=artist&limit=50&offset=4400\n",
      "Found 50 new artists\n",
      "Total count of artists: 4450\n",
      "We are on page 89 with an offset of 4450\n",
      "Requesting https://api.spotify.com/v1/search?q=lil&type=artist&limit=50&offset=4450\n",
      "Found 50 new artists\n",
      "Total count of artists: 4500\n",
      "We are on page 90 with an offset of 4500\n",
      "Requesting https://api.spotify.com/v1/search?q=lil&type=artist&limit=50&offset=4500\n",
      "Found 50 new artists\n",
      "Total count of artists: 4550\n",
      "Successfully retrieved 4550 artists\n"
     ]
    }
   ],
   "source": [
    "# FIRST PAGE: artists 1-50, offset of 0\n",
    "# https://api.spotify.com/v1/search?q=lil&type=artist&limit=50\n",
    "# SECOND PAGE: artists 51-100, offset of 50\n",
    "# https://api.spotify.com/v1/search?q=lil&type=artist&limit=50&offset=50\n",
    "# THIRD PAGE: artists 101-150, offset of 100\n",
    "# https://api.spotify.com/v1/search?q=lil&type=artist&limit=50&offset=100\n",
    "# FOURTH PAGE: artists 151-200, offset of 150\n",
    "# https://api.spotify.com/v1/search?q=lil&type=artist&limit=50&offset=100\n",
    "# AGGREGATE\n",
    "all_artists = []\n",
    "for page in range(91):\n",
    "    offset = page * 50\n",
    "    print(\"We are on page\", page, \"with an offset of\", offset)\n",
    "    \n",
    "    # Make the request with a changed offset ?offset={offset}\n",
    "    url = \"https://api.spotify.com/v1/search?q=lil&type=artist&limit=50&offset=\" + str(offset)\n",
    "    print(\"Requesting\", url)\n",
    "    response = requests.get(url)\n",
    "    data = response.json()\n",
    "    # add our new artists to our list of existing artists\n",
    "    print(\"Found\", len(data['artists']['items']), \"new artists\")\n",
    "    all_artists = all_artists + data['artists']['items']\n",
    "    print(\"Total count of artists:\", len(all_artists))\n",
    "    \n",
    "print(\"Successfully retrieved\", len(all_artists), \"artists\")"
   ]
  },
  {
   "cell_type": "code",
   "execution_count": 76,
   "metadata": {
    "collapsed": false
   },
   "outputs": [
    {
     "data": {
      "text/plain": [
       "4550"
      ]
     },
     "execution_count": 76,
     "metadata": {},
     "output_type": "execute_result"
    }
   ],
   "source": [
    "len(all_artists)"
   ]
  },
  {
   "cell_type": "code",
   "execution_count": 77,
   "metadata": {
    "collapsed": false
   },
   "outputs": [
    {
     "data": {
      "text/plain": [
       "{'external_urls': {'spotify': 'https://open.spotify.com/artist/1BcgNYNP6qYnZmyo6iZLXe'},\n",
       " 'followers': {'href': None, 'total': 13},\n",
       " 'genres': [],\n",
       " 'href': 'https://api.spotify.com/v1/artists/1BcgNYNP6qYnZmyo6iZLXe',\n",
       " 'id': '1BcgNYNP6qYnZmyo6iZLXe',\n",
       " 'images': [],\n",
       " 'name': \"DJ KAYSLAY featuring Lil' Flip, Lil' Mo and E40\",\n",
       " 'popularity': 1,\n",
       " 'type': 'artist',\n",
       " 'uri': 'spotify:artist:1BcgNYNP6qYnZmyo6iZLXe'}"
      ]
     },
     "execution_count": 77,
     "metadata": {},
     "output_type": "execute_result"
    }
   ],
   "source": [
    "all_artists[4200]"
   ]
  },
  {
   "cell_type": "code",
   "execution_count": null,
   "metadata": {
    "collapsed": true
   },
   "outputs": [],
   "source": []
  },
  {
   "cell_type": "code",
   "execution_count": null,
   "metadata": {
    "collapsed": true
   },
   "outputs": [],
   "source": []
  },
  {
   "cell_type": "code",
   "execution_count": 78,
   "metadata": {
    "collapsed": true
   },
   "outputs": [],
   "source": [
    "response = requests.get(\"http://earthquake.usgs.gov/earthquakes/feed/v1.0/summary/all_day.geojson\")\n",
    "data = response.json()"
   ]
  },
  {
   "cell_type": "code",
   "execution_count": 79,
   "metadata": {
    "collapsed": false
   },
   "outputs": [
    {
     "data": {
      "text/plain": [
       "dict"
      ]
     },
     "execution_count": 79,
     "metadata": {},
     "output_type": "execute_result"
    }
   ],
   "source": [
    "type(data)"
   ]
  },
  {
   "cell_type": "code",
   "execution_count": 80,
   "metadata": {
    "collapsed": false
   },
   "outputs": [
    {
     "data": {
      "text/plain": [
       "dict_keys(['bbox', 'type', 'features', 'metadata'])"
      ]
     },
     "execution_count": 80,
     "metadata": {},
     "output_type": "execute_result"
    }
   ],
   "source": [
    "data.keys()"
   ]
  },
  {
   "cell_type": "code",
   "execution_count": 81,
   "metadata": {
    "collapsed": false
   },
   "outputs": [
    {
     "data": {
      "text/plain": [
       "list"
      ]
     },
     "execution_count": 81,
     "metadata": {},
     "output_type": "execute_result"
    }
   ],
   "source": [
    "type(data['features'])"
   ]
  },
  {
   "cell_type": "code",
   "execution_count": 82,
   "metadata": {
    "collapsed": false
   },
   "outputs": [
    {
     "data": {
      "text/plain": [
       "206"
      ]
     },
     "execution_count": 82,
     "metadata": {},
     "output_type": "execute_result"
    }
   ],
   "source": [
    "# How many earthquakes in the past day?\n",
    "len(data['features'])"
   ]
  },
  {
   "cell_type": "code",
   "execution_count": 83,
   "metadata": {
    "collapsed": false,
    "scrolled": true
   },
   "outputs": [
    {
     "data": {
      "text/plain": [
       "{'geometry': {'coordinates': [-116.3418333, 33.3908333, 2.57],\n",
       "  'type': 'Point'},\n",
       " 'id': 'ci37618936',\n",
       " 'properties': {'alert': None,\n",
       "  'cdi': None,\n",
       "  'code': '37618936',\n",
       "  'detail': 'http://earthquake.usgs.gov/earthquakes/feed/v1.0/detail/ci37618936.geojson',\n",
       "  'dmin': 0.1376,\n",
       "  'felt': None,\n",
       "  'gap': 181,\n",
       "  'ids': ',ci37618936,',\n",
       "  'mag': 0.77,\n",
       "  'magType': 'ml',\n",
       "  'mmi': None,\n",
       "  'net': 'ci',\n",
       "  'nst': 18,\n",
       "  'place': '15km NNE of Borrego Springs, CA',\n",
       "  'rms': 0.21,\n",
       "  'sig': 9,\n",
       "  'sources': ',ci,',\n",
       "  'status': 'automatic',\n",
       "  'time': 1467470295480,\n",
       "  'title': 'M 0.8 - 15km NNE of Borrego Springs, CA',\n",
       "  'tsunami': 0,\n",
       "  'type': 'earthquake',\n",
       "  'types': ',general-link,geoserve,nearby-cities,origin,phase-data,scitech-link,',\n",
       "  'tz': -420,\n",
       "  'updated': 1467470518956,\n",
       "  'url': 'http://earthquake.usgs.gov/earthquakes/eventpage/ci37618936'},\n",
       " 'type': 'Feature'}"
      ]
     },
     "execution_count": 83,
     "metadata": {},
     "output_type": "execute_result"
    }
   ],
   "source": [
    "# Taking a look at the first one\n",
    "data['features'][0]"
   ]
  },
  {
   "cell_type": "code",
   "execution_count": 84,
   "metadata": {
    "collapsed": false
   },
   "outputs": [
    {
     "data": {
      "text/plain": [
       "dict_keys(['type', 'id', 'properties', 'geometry'])"
      ]
     },
     "execution_count": 84,
     "metadata": {},
     "output_type": "execute_result"
    }
   ],
   "source": [
    "data['features'][0].keys()"
   ]
  },
  {
   "cell_type": "code",
   "execution_count": 85,
   "metadata": {
    "collapsed": false
   },
   "outputs": [
    {
     "data": {
      "text/plain": [
       "dict_keys(['place', 'sig', 'title', 'tsunami', 'types', 'mmi', 'type', 'felt', 'code', 'sources', 'rms', 'time', 'cdi', 'tz', 'updated', 'net', 'ids', 'magType', 'dmin', 'mag', 'status', 'nst', 'detail', 'url', 'alert', 'gap'])"
      ]
     },
     "execution_count": 85,
     "metadata": {},
     "output_type": "execute_result"
    }
   ],
   "source": [
    "data['features'][0]['properties'].keys()"
   ]
  },
  {
   "cell_type": "code",
   "execution_count": 86,
   "metadata": {
    "collapsed": false
   },
   "outputs": [
    {
     "data": {
      "text/plain": [
       "'15km NNE of Borrego Springs, CA'"
      ]
     },
     "execution_count": 86,
     "metadata": {},
     "output_type": "execute_result"
    }
   ],
   "source": [
    "data['features'][0]['properties']['place']"
   ]
  },
  {
   "cell_type": "code",
   "execution_count": 87,
   "metadata": {
    "collapsed": false
   },
   "outputs": [
    {
     "name": "stdout",
     "output_type": "stream",
     "text": [
      "15km NNE of Borrego Springs, CA\n",
      "21km ESE of Anza, CA\n",
      "5km N of Bradbury, CA\n",
      "15km ESE of Anza, CA\n",
      "89km NNW of Nikiski, Alaska\n",
      "65km ESE of Fritz Creek, Alaska\n",
      "15km SSE of Ridgemark, California\n",
      "30km W of Valdez, Alaska\n",
      "15km WNW of Progreso, B.C., MX\n",
      "6km N of Moreno Valley, CA\n",
      "11km SE of Mammoth Lakes, California\n",
      "55km N of Hatillo, Puerto Rico\n",
      "49km N of Hatillo, Puerto Rico\n",
      "59km N of Hatillo, Puerto Rico\n",
      "10km WNW of The Geysers, California\n",
      "4km WSW of Imperial, CA\n",
      "13km WSW of Salcha, Alaska\n",
      "22km N of Shandon, California\n",
      "10km E of Medford, Oklahoma\n",
      "68km SE of Whittier, Alaska\n",
      "59km WSW of Alamo, Nevada\n",
      "14km S of Big Bear Lake, CA\n",
      "22km N of Shandon, California\n",
      "6km WNW of Little Lake, CA\n",
      "23km ESE of Julian, CA\n",
      "3km E of Sterling, Alaska\n",
      "61km W of Anchor Point, Alaska\n",
      "7km S of Idyllwild, CA\n",
      "59km W of Anchor Point, Alaska\n",
      "22km ESE of Anza, CA\n",
      "15km WNW of Progreso, B.C., MX\n",
      "6km NNE of Banning, CA\n",
      "48km N of Nikiski, Alaska\n",
      "7km NNE of Aguanga, CA\n",
      "51km WNW of West Yellowstone, Montana\n",
      "65km S of Bogorawatu, Indonesia\n",
      "38km ENE of Lucerne Valley, CA\n",
      "23km E of Glennallen, Alaska\n",
      "11km SW of Volcano, Hawaii\n",
      "10km ENE of Three Lakes, Washington\n",
      "36km W of Tonopah, Nevada\n",
      "90km N of Redoubt Volcano, Alaska\n",
      "21km SE of Mammoth Lakes, California\n",
      "35km W of Tonopah, Nevada\n",
      "6km NW of Friday Harbor, Washington\n",
      "41km SSE of Sterling, Alaska\n",
      "8km NW of The Geysers, California\n",
      "3km ESE of Lake Henshaw, CA\n",
      "56km N of Hatillo, Puerto Rico\n",
      "56km N of Hatillo, Puerto Rico\n",
      "66km E of Healy, Alaska\n",
      "57km N of Hatillo, Puerto Rico\n",
      "54km N of Hatillo, Puerto Rico\n",
      "27km NNW of Packwood, Washington\n",
      "12km NNW of Querecotillo, Peru\n",
      "8km ENE of Ridgecrest, CA\n",
      "49km SW of Cantwell, Alaska\n",
      "11km N of Harper, Kansas\n",
      "57km N of Hatillo, Puerto Rico\n",
      "58km N of Hatillo, Puerto Rico\n",
      "27km N of Redoubt Volcano, Alaska\n",
      "18km W of Volcano, Hawaii\n",
      "37km NNE of Amboy, Washington\n",
      "50km N of Hatillo, Puerto Rico\n",
      "55km N of Hatillo, Puerto Rico\n",
      "8km WNW of Garnet, CA\n",
      "139km SSE of Coldfoot, Alaska\n",
      "51km N of Hatillo, Puerto Rico\n",
      "126km SSE of Isangel, Vanuatu\n",
      "50km W of Anchor Point, Alaska\n",
      "25km NE of Soledad, California\n",
      "46km WNW of Anchor Point, Alaska\n",
      "58km N of Hatillo, Puerto Rico\n",
      "10km NW of The Geysers, California\n",
      "10km E of Medford, Oklahoma\n",
      "47km ENE of Beatty, Nevada\n",
      "2km SE of The Geysers, California\n",
      "88km N of Road Town, British Virgin Islands\n",
      "15km E of Seven Trees, California\n",
      "89km N of Road Town, British Virgin Islands\n",
      "10km ENE of Three Lakes, Washington\n",
      "61km NW of Cape Yakataga, Alaska\n",
      "13km NE of Borazjan, Iran\n",
      "23km N of North Nenana, Alaska\n",
      "45km N of Hatillo, Puerto Rico\n",
      "8km NE of Fairbanks, Alaska\n",
      "9km SSW of Idyllwild, CA\n",
      "8km SSW of Idyllwild, CA\n",
      "8km NNE of Borrego Springs, CA\n",
      "113km S of Tok, Alaska\n",
      "58km N of Hatillo, Puerto Rico\n",
      "42km N of Hatillo, Puerto Rico\n",
      "10km ESE of Mammoth Lakes, California\n",
      "92km N of Redoubt Volcano, Alaska\n",
      "42km NE of Talkeetna, Alaska\n",
      "16km ESE of Lake Isabella, CA\n",
      "90km N of Redoubt Volcano, Alaska\n",
      "76km ENE of Adak, Alaska\n",
      "67km NE of Cape Yakataga, Alaska\n",
      "33km W of Anchor Point, Alaska\n",
      "57km SSE of Shikotan, Russia\n",
      "16km SSE of Waimea, Hawaii\n",
      "29km NW of Road Town, British Virgin Islands\n",
      "3km W of Borrego Springs, CA\n",
      "22km SW of La Quinta, CA\n",
      "57km N of Hatillo, Puerto Rico\n",
      "27km W of Tanana, Alaska\n",
      "9km SW of Enterprise, Utah\n",
      "54km NNW of Road Town, British Virgin Islands\n",
      "81km W of Cantwell, Alaska\n",
      "10km ENE of Three Lakes, Washington\n",
      "37km W of Coso Junction, CA\n",
      "16km ESE of Oarai, Japan\n",
      "55km WNW of Valdez, Alaska\n",
      "22km WSW of Morton, Washington\n",
      "24km NNE of Badger, Alaska\n",
      "9km SSE of Granite Falls, Washington\n",
      "30km NW of West Yellowstone, Montana\n",
      "95km WNW of Talkeetna, Alaska\n",
      "91km NNW of Talkeetna, Alaska\n",
      "14km E of Desert Hot Springs, CA\n",
      "11km SSE of Granite Falls, Washington\n",
      "4km SSW of Idyllwild, CA\n",
      "11km S of Chelan, Washington\n",
      "39km NW of Anchor Point, Alaska\n",
      "85km NE of Hihifo, Tonga\n",
      "70km N of Charlotte Amalie, U.S. Virgin Islands\n",
      "10km N of Running Springs, CA\n",
      "35km SW of Ovalle, Chile\n",
      "21km SW of La Quinta, CA\n",
      "8km ESE of Mammoth Lakes, California\n",
      "8km SE of Granite Falls, Washington\n",
      "28km SSE of Seeley Lake, Montana\n",
      "10km SSE of Granite Falls, Washington\n",
      "13km SE of Mammoth Lakes, California\n",
      "8km N of North Nenana, Alaska\n",
      "10km SE of Granite Falls, Washington\n",
      "17km ESE of Anza, CA\n",
      "35km W of Ester, Alaska\n",
      "11km ENE of Three Lakes, Washington\n",
      "64km NNW of Valdez, Alaska\n",
      "4km S of Princeton, Canada\n",
      "11km SE of Granite Falls, Washington\n",
      "18km ESE of Sutton-Alpine, Alaska\n",
      "10km ENE of Three Lakes, Washington\n",
      "17km ESE of Anza, CA\n",
      "9km ENE of Three Lakes, Washington\n",
      "6km SE of Bonita, CA\n",
      "9km NE of Three Lakes, Washington\n",
      "19km ESE of Anza, CA\n",
      "11km ENE of Three Lakes, Washington\n",
      "9km SSE of Granite Falls, Washington\n",
      "49km NNW of Pahrump, Nevada\n",
      "9km SSE of Granite Falls, Washington\n",
      "56km NE of Mammoth Lakes, California\n",
      "11km SSE of Granite Falls, Washington\n",
      "10km SSE of Granite Falls, Washington\n",
      "13km SE of Tehachapi, CA\n",
      "26km NNW of Fort Irwin, California\n",
      "28km NNW of Packwood, Washington\n",
      "3km W of The Geysers, California\n",
      "7km NE of Big Pine, California\n",
      "16km E of Deltana, Alaska\n",
      "81km NNW of Cape Yakataga, Alaska\n",
      "119km SE of Phek, India\n",
      "7km SSW of Mojave, CA\n",
      "6km ESE of Butte, Montana\n",
      "12km NNW of Quincy, California\n",
      "26km ESE of Saint Maries, Idaho\n",
      "19km NNW of Philomath, Oregon\n",
      "81km SSW of Redoubt Volcano, Alaska\n",
      "16km NW of West Bishop, California\n",
      "11km ENE of Three Lakes, Washington\n",
      "Northern Mid-Atlantic Ridge\n",
      "119km NW of Talkeetna, Alaska\n",
      "12km ESE of Ocean Park, Washington\n",
      "4km SSW of Cabazon, CA\n",
      "10km NNE of Truckee, California\n",
      "6km ENE of Three Forks, Montana\n",
      "14km S of Big Bear Lake, CA\n",
      "58km NE of Tobelo, Indonesia\n",
      "12km SSW of Circle Hot Springs Station, Alaska\n",
      "110km NW of Talkeetna, Alaska\n",
      "6km SW of Cabazon, CA\n",
      "6km NW of The Geysers, California\n",
      "Northern Mid-Atlantic Ridge\n",
      "91km N of Redoubt Volcano, Alaska\n",
      "21km NE of Trona, CA\n",
      "West Chile Rise\n",
      "22km ESE of Anza, CA\n",
      "22km ESE of Anza, CA\n",
      "60km WSW of Ferndale, California\n",
      "82km SSE of Whittier, Alaska\n",
      "9km NNW of Big Bear City, CA\n",
      "89km NNW of Talkeetna, Alaska\n",
      "129km W of Cantwell, Alaska\n",
      "14km S of Big Bear Lake, CA\n",
      "1km NW of Federal Way, Washington\n",
      "7km NW of The Geysers, California\n",
      "5km NW of Tanaina, Alaska\n",
      "115km NNW of Kodiak, Alaska\n",
      "6km E of Palomar Observatory, CA\n",
      "24km SSW of La Quinta, CA\n",
      "44km WNW of Garland, Utah\n",
      "37km WNW of West Yellowstone, Montana\n",
      "27km SE of Gharm, Tajikistan\n"
     ]
    }
   ],
   "source": [
    "for earthquake in data['features']:\n",
    "    print(earthquake['properties']['place'])"
   ]
  },
  {
   "cell_type": "code",
   "execution_count": 88,
   "metadata": {
    "collapsed": false
   },
   "outputs": [
    {
     "data": {
      "text/plain": [
       "[('California', 68), ('Alaska', 51), ('Washington', 27)]"
      ]
     },
     "execution_count": 88,
     "metadata": {},
     "output_type": "execute_result"
    }
   ],
   "source": [
    "states = []\n",
    "for earthquake in data['features']:\n",
    "    place = earthquake['properties']['place']\n",
    "    # Split on comma space, otherwise we have\n",
    "    # extra whitespace (a.k.a. spaces)\n",
    "    edited_place = place.replace(\" CA\", \" California\")\n",
    "    results = edited_place.split(\", \")\n",
    "    #print(results)\n",
    "    # Make sure it has two segments\n",
    "    if len(results) > 1:\n",
    "        state_name = results[1]\n",
    "        #if state_name == \"CA\":\n",
    "        #    states.append(\"California\")\n",
    "        #else:\n",
    "        #    states.append(state_name)\n",
    "        states.append(state_name)\n",
    "        #print(results[1])\n",
    "#    states.append(place)\n",
    "    #print(earthquake['properties']['place'])\n",
    "states\n",
    "from collections import Counter\n",
    "counts = Counter(states)\n",
    "counts.most_common(3)"
   ]
  },
  {
   "cell_type": "code",
   "execution_count": null,
   "metadata": {
    "collapsed": true
   },
   "outputs": [],
   "source": []
  },
  {
   "cell_type": "code",
   "execution_count": null,
   "metadata": {
    "collapsed": true
   },
   "outputs": [],
   "source": []
  },
  {
   "cell_type": "code",
   "execution_count": null,
   "metadata": {
    "collapsed": true
   },
   "outputs": [],
   "source": []
  },
  {
   "cell_type": "code",
   "execution_count": null,
   "metadata": {
    "collapsed": true
   },
   "outputs": [],
   "source": []
  },
  {
   "cell_type": "code",
   "execution_count": null,
   "metadata": {
    "collapsed": true
   },
   "outputs": [],
   "source": []
  },
  {
   "cell_type": "code",
   "execution_count": null,
   "metadata": {
    "collapsed": true
   },
   "outputs": [],
   "source": []
  },
  {
   "cell_type": "markdown",
   "metadata": {},
   "source": [
    "\n",
    "---\n",
    "# Class 04. API\n",
    "**June 06 2016**  \n",
    "Official classnotes : [APIs](http://jonathansoma.com/lede/foundations/classes/04/class/)"
   ]
  },
  {
   "cell_type": "markdown",
   "metadata": {},
   "source": [
    "Class Topic\n",
    "- API concept\n",
    "- API key & authentication ( String represents who you are.)\n",
    "- Parameters\n",
    "  - https://api.spotify.com/v1/search?query=80s&type=playlist (물음표 뒷 부분이 parameter 임)\n",
    "  - https://developer.spotify.com/web-api/search-item/ (각 api 제공자별로 Rule을 제공하는 경우가 많으므로, Rule 확인)\n",
    "  - Example)\n",
    "    - https://api.spotify.com/v1/search?query=80s&type=playlist&limit=1 (이렇게 되면 Rule에 따라 결과가 하나만 나옴.)\n"
   ]
  },
  {
   "cell_type": "code",
   "execution_count": 31,
   "metadata": {
    "collapsed": true
   },
   "outputs": [],
   "source": [
    "import requests"
   ]
  },
  {
   "cell_type": "code",
   "execution_count": 32,
   "metadata": {
    "collapsed": true
   },
   "outputs": [],
   "source": [
    "response = requests.get('https://api.spotify.com/v1/search?query=80s&type=playlist')\n",
    "data =response.json()"
   ]
  },
  {
   "cell_type": "code",
   "execution_count": 33,
   "metadata": {
    "collapsed": false
   },
   "outputs": [
    {
     "data": {
      "text/plain": [
       "{'playlists': {'href': 'https://api.spotify.com/v1/search?query=80s&offset=0&limit=20&type=playlist',\n",
       "  'items': [{'collaborative': False,\n",
       "    'external_urls': {'spotify': 'http://open.spotify.com/user/bigboss20100/playlist/3XqrCld9BEEW46L0CO4c0G'},\n",
       "    'href': 'https://api.spotify.com/v1/users/bigboss20100/playlists/3XqrCld9BEEW46L0CO4c0G',\n",
       "    'id': '3XqrCld9BEEW46L0CO4c0G',\n",
       "    'images': [{'height': 640,\n",
       "      'url': 'https://mosaic.scdn.co/640/594e915af057874fdc3c49e228f0f1eda381b722b5c50263ba2a35c0a46691c9f4a9ee235d79a1333ea672725b664fd1dae501120204ef688d17d1fa27c9e093bd5b9817deb910b41e9094388a3f2962',\n",
       "      'width': 640},\n",
       "     {'height': 300,\n",
       "      'url': 'https://mosaic.scdn.co/300/594e915af057874fdc3c49e228f0f1eda381b722b5c50263ba2a35c0a46691c9f4a9ee235d79a1333ea672725b664fd1dae501120204ef688d17d1fa27c9e093bd5b9817deb910b41e9094388a3f2962',\n",
       "      'width': 300},\n",
       "     {'height': 60,\n",
       "      'url': 'https://mosaic.scdn.co/60/594e915af057874fdc3c49e228f0f1eda381b722b5c50263ba2a35c0a46691c9f4a9ee235d79a1333ea672725b664fd1dae501120204ef688d17d1fa27c9e093bd5b9817deb910b41e9094388a3f2962',\n",
       "      'width': 60}],\n",
       "    'name': '80s',\n",
       "    'owner': {'external_urls': {'spotify': 'http://open.spotify.com/user/bigboss20100'},\n",
       "     'href': 'https://api.spotify.com/v1/users/bigboss20100',\n",
       "     'id': 'bigboss20100',\n",
       "     'type': 'user',\n",
       "     'uri': 'spotify:user:bigboss20100'},\n",
       "    'public': None,\n",
       "    'snapshot_id': 'QV8mI4dfz/L24vTOSAQY3gM2BGwgWSR0FtYeSqdh4CNs22udvpOlC62XoPUFvKtE',\n",
       "    'tracks': {'href': 'https://api.spotify.com/v1/users/bigboss20100/playlists/3XqrCld9BEEW46L0CO4c0G/tracks',\n",
       "     'total': 1173},\n",
       "    'type': 'playlist',\n",
       "    'uri': 'spotify:user:bigboss20100:playlist:3XqrCld9BEEW46L0CO4c0G'},\n",
       "   {'collaborative': False,\n",
       "    'external_urls': {'spotify': 'http://open.spotify.com/user/barryjackson1664/playlist/4gQS58GskTrUG01JutbhhH'},\n",
       "    'href': 'https://api.spotify.com/v1/users/barryjackson1664/playlists/4gQS58GskTrUG01JutbhhH',\n",
       "    'id': '4gQS58GskTrUG01JutbhhH',\n",
       "    'images': [{'height': 640,\n",
       "      'url': 'https://mosaic.scdn.co/640/bca7ab412002bb01a75039aa65408faa2fbf028ab5120637382e48dcebab77f0da40f9e69fb7aeeaec6de59a98a1a6b54e93dba18b570e2833d02aca57f7e47cbf6c3da3e2e451221bbe4784df39d7b0',\n",
       "      'width': 640},\n",
       "     {'height': 300,\n",
       "      'url': 'https://mosaic.scdn.co/300/bca7ab412002bb01a75039aa65408faa2fbf028ab5120637382e48dcebab77f0da40f9e69fb7aeeaec6de59a98a1a6b54e93dba18b570e2833d02aca57f7e47cbf6c3da3e2e451221bbe4784df39d7b0',\n",
       "      'width': 300},\n",
       "     {'height': 60,\n",
       "      'url': 'https://mosaic.scdn.co/60/bca7ab412002bb01a75039aa65408faa2fbf028ab5120637382e48dcebab77f0da40f9e69fb7aeeaec6de59a98a1a6b54e93dba18b570e2833d02aca57f7e47cbf6c3da3e2e451221bbe4784df39d7b0',\n",
       "      'width': 60}],\n",
       "    'name': '80s',\n",
       "    'owner': {'external_urls': {'spotify': 'http://open.spotify.com/user/barryjackson1664'},\n",
       "     'href': 'https://api.spotify.com/v1/users/barryjackson1664',\n",
       "     'id': 'barryjackson1664',\n",
       "     'type': 'user',\n",
       "     'uri': 'spotify:user:barryjackson1664'},\n",
       "    'public': None,\n",
       "    'snapshot_id': 'ySq6W095ptpHTAB3AmVCs4laX62xYAg0QMOvCR5z+X9ZhKszqk0TqfBC2hV3vjPB',\n",
       "    'tracks': {'href': 'https://api.spotify.com/v1/users/barryjackson1664/playlists/4gQS58GskTrUG01JutbhhH/tracks',\n",
       "     'total': 132},\n",
       "    'type': 'playlist',\n",
       "    'uri': 'spotify:user:barryjackson1664:playlist:4gQS58GskTrUG01JutbhhH'},\n",
       "   {'collaborative': False,\n",
       "    'external_urls': {'spotify': 'http://open.spotify.com/user/cult_fan/playlist/4kqDp9JAKbvsgFqA5CCRw4'},\n",
       "    'href': 'https://api.spotify.com/v1/users/cult_fan/playlists/4kqDp9JAKbvsgFqA5CCRw4',\n",
       "    'id': '4kqDp9JAKbvsgFqA5CCRw4',\n",
       "    'images': [{'height': 640,\n",
       "      'url': 'https://mosaic.scdn.co/640/fe1bf713b3a5635d9e4f5a24482d059dff69873368d2d98e80941b0d17c5bd53ef9efb0b3e42abe4bfcba0de791c1464f5d3e2372e85b4eed1f7f1cf4e6b01cb00328c66031195efaddb0a4dd836b8e4',\n",
       "      'width': 640},\n",
       "     {'height': 300,\n",
       "      'url': 'https://mosaic.scdn.co/300/fe1bf713b3a5635d9e4f5a24482d059dff69873368d2d98e80941b0d17c5bd53ef9efb0b3e42abe4bfcba0de791c1464f5d3e2372e85b4eed1f7f1cf4e6b01cb00328c66031195efaddb0a4dd836b8e4',\n",
       "      'width': 300},\n",
       "     {'height': 60,\n",
       "      'url': 'https://mosaic.scdn.co/60/fe1bf713b3a5635d9e4f5a24482d059dff69873368d2d98e80941b0d17c5bd53ef9efb0b3e42abe4bfcba0de791c1464f5d3e2372e85b4eed1f7f1cf4e6b01cb00328c66031195efaddb0a4dd836b8e4',\n",
       "      'width': 60}],\n",
       "    'name': '80s rock',\n",
       "    'owner': {'external_urls': {'spotify': 'http://open.spotify.com/user/cult_fan'},\n",
       "     'href': 'https://api.spotify.com/v1/users/cult_fan',\n",
       "     'id': 'cult_fan',\n",
       "     'type': 'user',\n",
       "     'uri': 'spotify:user:cult_fan'},\n",
       "    'public': None,\n",
       "    'snapshot_id': 'sUQTeE4exjqv2KrdePFRi/Ruj+RMKhEMV/mSJO4Kkr+/qwcNZJLPkTSJafu4f8ZQ',\n",
       "    'tracks': {'href': 'https://api.spotify.com/v1/users/cult_fan/playlists/4kqDp9JAKbvsgFqA5CCRw4/tracks',\n",
       "     'total': 109},\n",
       "    'type': 'playlist',\n",
       "    'uri': 'spotify:user:cult_fan:playlist:4kqDp9JAKbvsgFqA5CCRw4'},\n",
       "   {'collaborative': False,\n",
       "    'external_urls': {'spotify': 'http://open.spotify.com/user/spotify_uk_/playlist/4d9c5BkQVaG1kJiBSQJ68w'},\n",
       "    'href': 'https://api.spotify.com/v1/users/spotify_uk_/playlists/4d9c5BkQVaG1kJiBSQJ68w',\n",
       "    'id': '4d9c5BkQVaG1kJiBSQJ68w',\n",
       "    'images': [{'height': None,\n",
       "      'url': 'https://u.scdn.co/images/pl/default/0a1eabcfd770750abd32e3308aac6c4a4eb626db',\n",
       "      'width': None}],\n",
       "    'name': 'All Gold 80s',\n",
       "    'owner': {'external_urls': {'spotify': 'http://open.spotify.com/user/spotify_uk_'},\n",
       "     'href': 'https://api.spotify.com/v1/users/spotify_uk_',\n",
       "     'id': 'spotify_uk_',\n",
       "     'type': 'user',\n",
       "     'uri': 'spotify:user:spotify_uk_'},\n",
       "    'public': None,\n",
       "    'snapshot_id': 'pKqadNfb07wKQhT8rJFbqj7G0oMnt5joKpeumOORPw139PHKFBIkjcuDb2lsLrWZ',\n",
       "    'tracks': {'href': 'https://api.spotify.com/v1/users/spotify_uk_/playlists/4d9c5BkQVaG1kJiBSQJ68w/tracks',\n",
       "     'total': 99},\n",
       "    'type': 'playlist',\n",
       "    'uri': 'spotify:user:spotify_uk_:playlist:4d9c5BkQVaG1kJiBSQJ68w'},\n",
       "   {'collaborative': False,\n",
       "    'external_urls': {'spotify': 'http://open.spotify.com/user/1286553094/playlist/6UwtzUAvwXlo7UwAbcRTbq'},\n",
       "    'href': 'https://api.spotify.com/v1/users/1286553094/playlists/6UwtzUAvwXlo7UwAbcRTbq',\n",
       "    'id': '6UwtzUAvwXlo7UwAbcRTbq',\n",
       "    'images': [{'height': 640,\n",
       "      'url': 'https://mosaic.scdn.co/640/2886710f1bf14cc47b6d7588af406def6a31d6ebf88937e9c0c7329cef4b67364d16b28dc0ebcf0c14e45bc02528b145f78b37bc97b53647d899c7595fc4b1d3fa12a473b72599a2d950ad5696b20632',\n",
       "      'width': 640},\n",
       "     {'height': 300,\n",
       "      'url': 'https://mosaic.scdn.co/300/2886710f1bf14cc47b6d7588af406def6a31d6ebf88937e9c0c7329cef4b67364d16b28dc0ebcf0c14e45bc02528b145f78b37bc97b53647d899c7595fc4b1d3fa12a473b72599a2d950ad5696b20632',\n",
       "      'width': 300},\n",
       "     {'height': 60,\n",
       "      'url': 'https://mosaic.scdn.co/60/2886710f1bf14cc47b6d7588af406def6a31d6ebf88937e9c0c7329cef4b67364d16b28dc0ebcf0c14e45bc02528b145f78b37bc97b53647d899c7595fc4b1d3fa12a473b72599a2d950ad5696b20632',\n",
       "      'width': 60}],\n",
       "    'name': '80s Country',\n",
       "    'owner': {'external_urls': {'spotify': 'http://open.spotify.com/user/1286553094'},\n",
       "     'href': 'https://api.spotify.com/v1/users/1286553094',\n",
       "     'id': '1286553094',\n",
       "     'type': 'user',\n",
       "     'uri': 'spotify:user:1286553094'},\n",
       "    'public': None,\n",
       "    'snapshot_id': '4ALQxcBGX4ybPy9hmxW/BnOFUN/8Kf2BumdK4zVLrxyxXfb2JWmRpUQHEm6TcJ2/',\n",
       "    'tracks': {'href': 'https://api.spotify.com/v1/users/1286553094/playlists/6UwtzUAvwXlo7UwAbcRTbq/tracks',\n",
       "     'total': 253},\n",
       "    'type': 'playlist',\n",
       "    'uri': 'spotify:user:1286553094:playlist:6UwtzUAvwXlo7UwAbcRTbq'},\n",
       "   {'collaborative': False,\n",
       "    'external_urls': {'spotify': 'http://open.spotify.com/user/gavinballard/playlist/6CXPHSOAGsvpp7Tb6ICTya'},\n",
       "    'href': 'https://api.spotify.com/v1/users/gavinballard/playlists/6CXPHSOAGsvpp7Tb6ICTya',\n",
       "    'id': '6CXPHSOAGsvpp7Tb6ICTya',\n",
       "    'images': [{'height': 640,\n",
       "      'url': 'https://mosaic.scdn.co/640/17df8a01dd260e782edfebf9aa0f9adaa9833eb5305b29425f26d0200d27605d2a572200df89da45ff8d208d8049907f0def04e4729acc73fb319c4d63e47b9e1420e2effd4d4537c464c27e6e598f2e',\n",
       "      'width': 640},\n",
       "     {'height': 300,\n",
       "      'url': 'https://mosaic.scdn.co/300/17df8a01dd260e782edfebf9aa0f9adaa9833eb5305b29425f26d0200d27605d2a572200df89da45ff8d208d8049907f0def04e4729acc73fb319c4d63e47b9e1420e2effd4d4537c464c27e6e598f2e',\n",
       "      'width': 300},\n",
       "     {'height': 60,\n",
       "      'url': 'https://mosaic.scdn.co/60/17df8a01dd260e782edfebf9aa0f9adaa9833eb5305b29425f26d0200d27605d2a572200df89da45ff8d208d8049907f0def04e4729acc73fb319c4d63e47b9e1420e2effd4d4537c464c27e6e598f2e',\n",
       "      'width': 60}],\n",
       "    'name': '80s music',\n",
       "    'owner': {'external_urls': {'spotify': 'http://open.spotify.com/user/gavinballard'},\n",
       "     'href': 'https://api.spotify.com/v1/users/gavinballard',\n",
       "     'id': 'gavinballard',\n",
       "     'type': 'user',\n",
       "     'uri': 'spotify:user:gavinballard'},\n",
       "    'public': None,\n",
       "    'snapshot_id': 'XXQP/Htns+0hWRzM+W3CIMQmfMSuftPr5Q5O2F5ZLEZriCsm/9P5ALMi4iEjT5hP',\n",
       "    'tracks': {'href': 'https://api.spotify.com/v1/users/gavinballard/playlists/6CXPHSOAGsvpp7Tb6ICTya/tracks',\n",
       "     'total': 79},\n",
       "    'type': 'playlist',\n",
       "    'uri': 'spotify:user:gavinballard:playlist:6CXPHSOAGsvpp7Tb6ICTya'},\n",
       "   {'collaborative': False,\n",
       "    'external_urls': {'spotify': 'http://open.spotify.com/user/12185397786/playlist/4JNv7yR3y9fhp5z9Arjyxm'},\n",
       "    'href': 'https://api.spotify.com/v1/users/12185397786/playlists/4JNv7yR3y9fhp5z9Arjyxm',\n",
       "    'id': '4JNv7yR3y9fhp5z9Arjyxm',\n",
       "    'images': [{'height': 640,\n",
       "      'url': 'https://mosaic.scdn.co/640/56db426ab15853baa3f68ebe49165e20bab5f22463e47b9e1420e2effd4d4537c464c27e6e598f2e9310c784b7034957a8728d6cdcc51efc20678f7a1585831d467bf5cd1dcbb732ca634591cc4bc2e4',\n",
       "      'width': 640},\n",
       "     {'height': 300,\n",
       "      'url': 'https://mosaic.scdn.co/300/56db426ab15853baa3f68ebe49165e20bab5f22463e47b9e1420e2effd4d4537c464c27e6e598f2e9310c784b7034957a8728d6cdcc51efc20678f7a1585831d467bf5cd1dcbb732ca634591cc4bc2e4',\n",
       "      'width': 300},\n",
       "     {'height': 60,\n",
       "      'url': 'https://mosaic.scdn.co/60/56db426ab15853baa3f68ebe49165e20bab5f22463e47b9e1420e2effd4d4537c464c27e6e598f2e9310c784b7034957a8728d6cdcc51efc20678f7a1585831d467bf5cd1dcbb732ca634591cc4bc2e4',\n",
       "      'width': 60}],\n",
       "    'name': 'Rock 80s 🎸🎸😎😎',\n",
       "    'owner': {'external_urls': {'spotify': 'http://open.spotify.com/user/12185397786'},\n",
       "     'href': 'https://api.spotify.com/v1/users/12185397786',\n",
       "     'id': '12185397786',\n",
       "     'type': 'user',\n",
       "     'uri': 'spotify:user:12185397786'},\n",
       "    'public': None,\n",
       "    'snapshot_id': 'JdfdGuVEIC455zkc2PtjcIMQszxLPdGTdXaJ72DdWQT4W8Mlpiizsa3XrploSWnk',\n",
       "    'tracks': {'href': 'https://api.spotify.com/v1/users/12185397786/playlists/4JNv7yR3y9fhp5z9Arjyxm/tracks',\n",
       "     'total': 621},\n",
       "    'type': 'playlist',\n",
       "    'uri': 'spotify:user:12185397786:playlist:4JNv7yR3y9fhp5z9Arjyxm'},\n",
       "   {'collaborative': False,\n",
       "    'external_urls': {'spotify': 'http://open.spotify.com/user/1257890335/playlist/0qi0cNbn62Xo6eeqjdpTSD'},\n",
       "    'href': 'https://api.spotify.com/v1/users/1257890335/playlists/0qi0cNbn62Xo6eeqjdpTSD',\n",
       "    'id': '0qi0cNbn62Xo6eeqjdpTSD',\n",
       "    'images': [{'height': 640,\n",
       "      'url': 'https://mosaic.scdn.co/640/5f15adf7a6de16e804fe461957957bba83c0c2beb524f9a3cca59c3f42e4c3f82a7ce69bf80b5737a4ada225c340acef2b5b888c2687ff45140e5930d9c974ac4ea17f450023c262938dbb41e07d97dd',\n",
       "      'width': 640},\n",
       "     {'height': 300,\n",
       "      'url': 'https://mosaic.scdn.co/300/5f15adf7a6de16e804fe461957957bba83c0c2beb524f9a3cca59c3f42e4c3f82a7ce69bf80b5737a4ada225c340acef2b5b888c2687ff45140e5930d9c974ac4ea17f450023c262938dbb41e07d97dd',\n",
       "      'width': 300},\n",
       "     {'height': 60,\n",
       "      'url': 'https://mosaic.scdn.co/60/5f15adf7a6de16e804fe461957957bba83c0c2beb524f9a3cca59c3f42e4c3f82a7ce69bf80b5737a4ada225c340acef2b5b888c2687ff45140e5930d9c974ac4ea17f450023c262938dbb41e07d97dd',\n",
       "      'width': 60}],\n",
       "    'name': '60s, 70s, 80s Classic Rock',\n",
       "    'owner': {'external_urls': {'spotify': 'http://open.spotify.com/user/1257890335'},\n",
       "     'href': 'https://api.spotify.com/v1/users/1257890335',\n",
       "     'id': '1257890335',\n",
       "     'type': 'user',\n",
       "     'uri': 'spotify:user:1257890335'},\n",
       "    'public': None,\n",
       "    'snapshot_id': 'rHoacRrhJfW05lH2ro8EOllFIbFabz1N2LMi9sDZ01EpcGNkjX5sNFdl+c8m6FTS',\n",
       "    'tracks': {'href': 'https://api.spotify.com/v1/users/1257890335/playlists/0qi0cNbn62Xo6eeqjdpTSD/tracks',\n",
       "     'total': 252},\n",
       "    'type': 'playlist',\n",
       "    'uri': 'spotify:user:1257890335:playlist:0qi0cNbn62Xo6eeqjdpTSD'},\n",
       "   {'collaborative': False,\n",
       "    'external_urls': {'spotify': 'http://open.spotify.com/user/1246447961/playlist/4XzcgE9F8EqAGzzstU3udv'},\n",
       "    'href': 'https://api.spotify.com/v1/users/1246447961/playlists/4XzcgE9F8EqAGzzstU3udv',\n",
       "    'id': '4XzcgE9F8EqAGzzstU3udv',\n",
       "    'images': [{'height': 640,\n",
       "      'url': 'https://mosaic.scdn.co/640/e160b9fc08866c311b1fb5d380ec0b99fbfc1a72e9fc18dfea678ec8bb9ff6bd1af3dcd8109ec8827d9e6882ab1387a7b894adeac8846319e2c77adf25fd92ef537b369583b1b2cadead0faa15163186',\n",
       "      'width': 640},\n",
       "     {'height': 300,\n",
       "      'url': 'https://mosaic.scdn.co/300/e160b9fc08866c311b1fb5d380ec0b99fbfc1a72e9fc18dfea678ec8bb9ff6bd1af3dcd8109ec8827d9e6882ab1387a7b894adeac8846319e2c77adf25fd92ef537b369583b1b2cadead0faa15163186',\n",
       "      'width': 300},\n",
       "     {'height': 60,\n",
       "      'url': 'https://mosaic.scdn.co/60/e160b9fc08866c311b1fb5d380ec0b99fbfc1a72e9fc18dfea678ec8bb9ff6bd1af3dcd8109ec8827d9e6882ab1387a7b894adeac8846319e2c77adf25fd92ef537b369583b1b2cadead0faa15163186',\n",
       "      'width': 60}],\n",
       "    'name': '80s alternative',\n",
       "    'owner': {'external_urls': {'spotify': 'http://open.spotify.com/user/1246447961'},\n",
       "     'href': 'https://api.spotify.com/v1/users/1246447961',\n",
       "     'id': '1246447961',\n",
       "     'type': 'user',\n",
       "     'uri': 'spotify:user:1246447961'},\n",
       "    'public': None,\n",
       "    'snapshot_id': 'bVcN5Uxu3CkPdnSLUz5vlFahzaGnXoJXXi4az/ZL0ILHBNrh44sqeIubJcbw4kNZ',\n",
       "    'tracks': {'href': 'https://api.spotify.com/v1/users/1246447961/playlists/4XzcgE9F8EqAGzzstU3udv/tracks',\n",
       "     'total': 300},\n",
       "    'type': 'playlist',\n",
       "    'uri': 'spotify:user:1246447961:playlist:4XzcgE9F8EqAGzzstU3udv'},\n",
       "   {'collaborative': False,\n",
       "    'external_urls': {'spotify': 'http://open.spotify.com/user/1262277266/playlist/70N6EVTLSgsZJsW5tlP1bP'},\n",
       "    'href': 'https://api.spotify.com/v1/users/1262277266/playlists/70N6EVTLSgsZJsW5tlP1bP',\n",
       "    'id': '70N6EVTLSgsZJsW5tlP1bP',\n",
       "    'images': [{'height': 640,\n",
       "      'url': 'https://mosaic.scdn.co/640/a842801f34ac1d7db7483899e536d243cadf3cab565d3bd2e28fdbffb702a1c1c8af123f0b2af25d12168e7d4f2b515f6116cdb13a945f87c8ff22f22d30e0ac58fedb3ccd4c037c4497297b9286a3fb',\n",
       "      'width': 640},\n",
       "     {'height': 300,\n",
       "      'url': 'https://mosaic.scdn.co/300/a842801f34ac1d7db7483899e536d243cadf3cab565d3bd2e28fdbffb702a1c1c8af123f0b2af25d12168e7d4f2b515f6116cdb13a945f87c8ff22f22d30e0ac58fedb3ccd4c037c4497297b9286a3fb',\n",
       "      'width': 300},\n",
       "     {'height': 60,\n",
       "      'url': 'https://mosaic.scdn.co/60/a842801f34ac1d7db7483899e536d243cadf3cab565d3bd2e28fdbffb702a1c1c8af123f0b2af25d12168e7d4f2b515f6116cdb13a945f87c8ff22f22d30e0ac58fedb3ccd4c037c4497297b9286a3fb',\n",
       "      'width': 60}],\n",
       "    'name': '80s',\n",
       "    'owner': {'external_urls': {'spotify': 'http://open.spotify.com/user/1262277266'},\n",
       "     'href': 'https://api.spotify.com/v1/users/1262277266',\n",
       "     'id': '1262277266',\n",
       "     'type': 'user',\n",
       "     'uri': 'spotify:user:1262277266'},\n",
       "    'public': None,\n",
       "    'snapshot_id': 'sxeJeWcJ/CkhH/+t6cNTo8l9lS8blSfAjC+Fy+zwhqT8fskiabbP/bzDX7AdSuds',\n",
       "    'tracks': {'href': 'https://api.spotify.com/v1/users/1262277266/playlists/70N6EVTLSgsZJsW5tlP1bP/tracks',\n",
       "     'total': 121},\n",
       "    'type': 'playlist',\n",
       "    'uri': 'spotify:user:1262277266:playlist:70N6EVTLSgsZJsW5tlP1bP'},\n",
       "   {'collaborative': False,\n",
       "    'external_urls': {'spotify': 'http://open.spotify.com/user/baliztik/playlist/5MpyWoy2l7HUoT2oBcUtFE'},\n",
       "    'href': 'https://api.spotify.com/v1/users/baliztik/playlists/5MpyWoy2l7HUoT2oBcUtFE',\n",
       "    'id': '5MpyWoy2l7HUoT2oBcUtFE',\n",
       "    'images': [{'height': 640,\n",
       "      'url': 'https://mosaic.scdn.co/640/5fc4b1d3fa12a473b72599a2d950ad5696b2063224bac4eefc9be3644dfc67d734f3de86153a44124c60ccb9eddd9e020607ba96f3a250ccce8d3bc8a850dfdc045482732a5a8e63c30cedc5d7a9ce3f',\n",
       "      'width': 640},\n",
       "     {'height': 300,\n",
       "      'url': 'https://mosaic.scdn.co/300/5fc4b1d3fa12a473b72599a2d950ad5696b2063224bac4eefc9be3644dfc67d734f3de86153a44124c60ccb9eddd9e020607ba96f3a250ccce8d3bc8a850dfdc045482732a5a8e63c30cedc5d7a9ce3f',\n",
       "      'width': 300},\n",
       "     {'height': 60,\n",
       "      'url': 'https://mosaic.scdn.co/60/5fc4b1d3fa12a473b72599a2d950ad5696b2063224bac4eefc9be3644dfc67d734f3de86153a44124c60ccb9eddd9e020607ba96f3a250ccce8d3bc8a850dfdc045482732a5a8e63c30cedc5d7a9ce3f',\n",
       "      'width': 60}],\n",
       "    'name': '90s Country (and some 80s)',\n",
       "    'owner': {'external_urls': {'spotify': 'http://open.spotify.com/user/baliztik'},\n",
       "     'href': 'https://api.spotify.com/v1/users/baliztik',\n",
       "     'id': 'baliztik',\n",
       "     'type': 'user',\n",
       "     'uri': 'spotify:user:baliztik'},\n",
       "    'public': None,\n",
       "    'snapshot_id': 'XHtgdGFQEH6QQBgiXaKajbvc1yq/WHBXOsGk2kv5RUQkP7HICPTmjAb9lk1PaSkx',\n",
       "    'tracks': {'href': 'https://api.spotify.com/v1/users/baliztik/playlists/5MpyWoy2l7HUoT2oBcUtFE/tracks',\n",
       "     'total': 312},\n",
       "    'type': 'playlist',\n",
       "    'uri': 'spotify:user:baliztik:playlist:5MpyWoy2l7HUoT2oBcUtFE'},\n",
       "   {'collaborative': False,\n",
       "    'external_urls': {'spotify': 'http://open.spotify.com/user/12143691853/playlist/5t30PswiZDYfZAIrTwGr2V'},\n",
       "    'href': 'https://api.spotify.com/v1/users/12143691853/playlists/5t30PswiZDYfZAIrTwGr2V',\n",
       "    'id': '5t30PswiZDYfZAIrTwGr2V',\n",
       "    'images': [{'height': 640,\n",
       "      'url': 'https://mosaic.scdn.co/640/eb646ba4b6c6db5fcc180d091512bdcf497ed3f063e47b9e1420e2effd4d4537c464c27e6e598f2ed1fec99e6c187e2f67bc28d5367d5db9664b1835f7c286b445154de89205dcfd05e3db6647555d87',\n",
       "      'width': 640},\n",
       "     {'height': 300,\n",
       "      'url': 'https://mosaic.scdn.co/300/eb646ba4b6c6db5fcc180d091512bdcf497ed3f063e47b9e1420e2effd4d4537c464c27e6e598f2ed1fec99e6c187e2f67bc28d5367d5db9664b1835f7c286b445154de89205dcfd05e3db6647555d87',\n",
       "      'width': 300},\n",
       "     {'height': 60,\n",
       "      'url': 'https://mosaic.scdn.co/60/eb646ba4b6c6db5fcc180d091512bdcf497ed3f063e47b9e1420e2effd4d4537c464c27e6e598f2ed1fec99e6c187e2f67bc28d5367d5db9664b1835f7c286b445154de89205dcfd05e3db6647555d87',\n",
       "      'width': 60}],\n",
       "    'name': 'lovesongs 80s to 90s',\n",
       "    'owner': {'external_urls': {'spotify': 'http://open.spotify.com/user/12143691853'},\n",
       "     'href': 'https://api.spotify.com/v1/users/12143691853',\n",
       "     'id': '12143691853',\n",
       "     'type': 'user',\n",
       "     'uri': 'spotify:user:12143691853'},\n",
       "    'public': None,\n",
       "    'snapshot_id': 'ICOHKD+hRfxVFxlEwSCzo/A4Rqv/Cl1ca+idsz8YqeIvD6+PicyGQgWr3cY/prVs',\n",
       "    'tracks': {'href': 'https://api.spotify.com/v1/users/12143691853/playlists/5t30PswiZDYfZAIrTwGr2V/tracks',\n",
       "     'total': 90},\n",
       "    'type': 'playlist',\n",
       "    'uri': 'spotify:user:12143691853:playlist:5t30PswiZDYfZAIrTwGr2V'},\n",
       "   {'collaborative': False,\n",
       "    'external_urls': {'spotify': 'http://open.spotify.com/user/rulaaax/playlist/7zpof4bwOJiLM4xnRr61En'},\n",
       "    'href': 'https://api.spotify.com/v1/users/rulaaax/playlists/7zpof4bwOJiLM4xnRr61En',\n",
       "    'id': '7zpof4bwOJiLM4xnRr61En',\n",
       "    'images': [{'height': 640,\n",
       "      'url': 'https://mosaic.scdn.co/640/c5212b95548610054ce8d2de7c84af5748b4b6167a227725070032b4b744f3fab139755c688bd462c229ad52c90e5bed5efb19edb977b90fbdffa109f0bdb20468b32db634eeb6a8f1f242973a3abba7',\n",
       "      'width': 640},\n",
       "     {'height': 300,\n",
       "      'url': 'https://mosaic.scdn.co/300/c5212b95548610054ce8d2de7c84af5748b4b6167a227725070032b4b744f3fab139755c688bd462c229ad52c90e5bed5efb19edb977b90fbdffa109f0bdb20468b32db634eeb6a8f1f242973a3abba7',\n",
       "      'width': 300},\n",
       "     {'height': 60,\n",
       "      'url': 'https://mosaic.scdn.co/60/c5212b95548610054ce8d2de7c84af5748b4b6167a227725070032b4b744f3fab139755c688bd462c229ad52c90e5bed5efb19edb977b90fbdffa109f0bdb20468b32db634eeb6a8f1f242973a3abba7',\n",
       "      'width': 60}],\n",
       "    'name': 'Rock en español (80s, 90s)',\n",
       "    'owner': {'external_urls': {'spotify': 'http://open.spotify.com/user/rulaaax'},\n",
       "     'href': 'https://api.spotify.com/v1/users/rulaaax',\n",
       "     'id': 'rulaaax',\n",
       "     'type': 'user',\n",
       "     'uri': 'spotify:user:rulaaax'},\n",
       "    'public': None,\n",
       "    'snapshot_id': 'rFcJT5YEWKZUdzfXh3cg20lzMADaORVJj1LXQeDymNKuAfBIA2zr1wbBA/D0BoJ0',\n",
       "    'tracks': {'href': 'https://api.spotify.com/v1/users/rulaaax/playlists/7zpof4bwOJiLM4xnRr61En/tracks',\n",
       "     'total': 88},\n",
       "    'type': 'playlist',\n",
       "    'uri': 'spotify:user:rulaaax:playlist:7zpof4bwOJiLM4xnRr61En'},\n",
       "   {'collaborative': False,\n",
       "    'external_urls': {'spotify': 'http://open.spotify.com/user/robertstewartspiritgrocer/playlist/7jO2RBMDkEys22WpOECXY5'},\n",
       "    'href': 'https://api.spotify.com/v1/users/robertstewartspiritgrocer/playlists/7jO2RBMDkEys22WpOECXY5',\n",
       "    'id': '7jO2RBMDkEys22WpOECXY5',\n",
       "    'images': [{'height': 640,\n",
       "      'url': 'https://mosaic.scdn.co/640/9ade30687387caa79604141b5e33ee380ee30cd4d6371515705b0f5cf9f457021ff7589efaa16005fb69a42bfa126727837d5da49eae82efead9eefd3daf5475fe6260a42459a7d9b4af528fe0251e88',\n",
       "      'width': 640},\n",
       "     {'height': 300,\n",
       "      'url': 'https://mosaic.scdn.co/300/9ade30687387caa79604141b5e33ee380ee30cd4d6371515705b0f5cf9f457021ff7589efaa16005fb69a42bfa126727837d5da49eae82efead9eefd3daf5475fe6260a42459a7d9b4af528fe0251e88',\n",
       "      'width': 300},\n",
       "     {'height': 60,\n",
       "      'url': 'https://mosaic.scdn.co/60/9ade30687387caa79604141b5e33ee380ee30cd4d6371515705b0f5cf9f457021ff7589efaa16005fb69a42bfa126727837d5da49eae82efead9eefd3daf5475fe6260a42459a7d9b4af528fe0251e88',\n",
       "      'width': 60}],\n",
       "    'name': '80s-90s ',\n",
       "    'owner': {'external_urls': {'spotify': 'http://open.spotify.com/user/robertstewartspiritgrocer'},\n",
       "     'href': 'https://api.spotify.com/v1/users/robertstewartspiritgrocer',\n",
       "     'id': 'robertstewartspiritgrocer',\n",
       "     'type': 'user',\n",
       "     'uri': 'spotify:user:robertstewartspiritgrocer'},\n",
       "    'public': None,\n",
       "    'snapshot_id': 'ftApc852+yEw8+4ou/NJAzpDDIjfyl59e+j2SBeShGhO+rPaV5G+xLlQXYOqqAHx',\n",
       "    'tracks': {'href': 'https://api.spotify.com/v1/users/robertstewartspiritgrocer/playlists/7jO2RBMDkEys22WpOECXY5/tracks',\n",
       "     'total': 294},\n",
       "    'type': 'playlist',\n",
       "    'uri': 'spotify:user:robertstewartspiritgrocer:playlist:7jO2RBMDkEys22WpOECXY5'},\n",
       "   {'collaborative': False,\n",
       "    'external_urls': {'spotify': 'http://open.spotify.com/user/burrjt/playlist/29dTrOurPDrMcrnio2q6hZ'},\n",
       "    'href': 'https://api.spotify.com/v1/users/burrjt/playlists/29dTrOurPDrMcrnio2q6hZ',\n",
       "    'id': '29dTrOurPDrMcrnio2q6hZ',\n",
       "    'images': [{'height': 640,\n",
       "      'url': 'https://mosaic.scdn.co/640/63e47b9e1420e2effd4d4537c464c27e6e598f2e1670f7c53f10dc10110e399bac65e5e6c87ae6acaaa97f6897dd033430cce37221b68524e39f6382ad974be288ee95dcfb4d4c551cdef16cca201c8b',\n",
       "      'width': 640},\n",
       "     {'height': 300,\n",
       "      'url': 'https://mosaic.scdn.co/300/63e47b9e1420e2effd4d4537c464c27e6e598f2e1670f7c53f10dc10110e399bac65e5e6c87ae6acaaa97f6897dd033430cce37221b68524e39f6382ad974be288ee95dcfb4d4c551cdef16cca201c8b',\n",
       "      'width': 300},\n",
       "     {'height': 60,\n",
       "      'url': 'https://mosaic.scdn.co/60/63e47b9e1420e2effd4d4537c464c27e6e598f2e1670f7c53f10dc10110e399bac65e5e6c87ae6acaaa97f6897dd033430cce37221b68524e39f6382ad974be288ee95dcfb4d4c551cdef16cca201c8b',\n",
       "      'width': 60}],\n",
       "    'name': '80s / Classic Rock',\n",
       "    'owner': {'external_urls': {'spotify': 'http://open.spotify.com/user/burrjt'},\n",
       "     'href': 'https://api.spotify.com/v1/users/burrjt',\n",
       "     'id': 'burrjt',\n",
       "     'type': 'user',\n",
       "     'uri': 'spotify:user:burrjt'},\n",
       "    'public': None,\n",
       "    'snapshot_id': 'vtdJ3Uo7GscU47Q+RAD49UOrkBj4JnAH9plElh694AI72egnlHoJs5psY6Cuoxxb',\n",
       "    'tracks': {'href': 'https://api.spotify.com/v1/users/burrjt/playlists/29dTrOurPDrMcrnio2q6hZ/tracks',\n",
       "     'total': 241},\n",
       "    'type': 'playlist',\n",
       "    'uri': 'spotify:user:burrjt:playlist:29dTrOurPDrMcrnio2q6hZ'},\n",
       "   {'collaborative': False,\n",
       "    'external_urls': {'spotify': 'http://open.spotify.com/user/80shitsreloaded/playlist/0T9BIZapmj6FfugY55qTqR'},\n",
       "    'href': 'https://api.spotify.com/v1/users/80shitsreloaded/playlists/0T9BIZapmj6FfugY55qTqR',\n",
       "    'id': '0T9BIZapmj6FfugY55qTqR',\n",
       "    'images': [{'height': None,\n",
       "      'url': 'https://u.scdn.co/images/pl/default/e1eac2296fe80ef17dfb9f15a6a22b5a210eb8f1',\n",
       "      'width': None}],\n",
       "    'name': '80s Hits Reloaded',\n",
       "    'owner': {'external_urls': {'spotify': 'http://open.spotify.com/user/80shitsreloaded'},\n",
       "     'href': 'https://api.spotify.com/v1/users/80shitsreloaded',\n",
       "     'id': '80shitsreloaded',\n",
       "     'type': 'user',\n",
       "     'uri': 'spotify:user:80shitsreloaded'},\n",
       "    'public': None,\n",
       "    'snapshot_id': 'HoLpJzzURYowR1izUjxJOhqpvLpcOF0PYcXHfoqbRCLIROZk/CD5Tb580+8daF83',\n",
       "    'tracks': {'href': 'https://api.spotify.com/v1/users/80shitsreloaded/playlists/0T9BIZapmj6FfugY55qTqR/tracks',\n",
       "     'total': 91},\n",
       "    'type': 'playlist',\n",
       "    'uri': 'spotify:user:80shitsreloaded:playlist:0T9BIZapmj6FfugY55qTqR'},\n",
       "   {'collaborative': False,\n",
       "    'external_urls': {'spotify': 'http://open.spotify.com/user/joakim.brandt74/playlist/3Xo1Pcktk6o3NxJxmUjFbQ'},\n",
       "    'href': 'https://api.spotify.com/v1/users/joakim.brandt74/playlists/3Xo1Pcktk6o3NxJxmUjFbQ',\n",
       "    'id': '3Xo1Pcktk6o3NxJxmUjFbQ',\n",
       "    'images': [{'height': 640,\n",
       "      'url': 'https://mosaic.scdn.co/640/15365637e9a17ed5778cca2cae36bbde4e425568ac56ec0c862079d12a84648ee1ee4da6fea7418ab6970fee648032546ee8aeedbbdab2d9a2bc6e0feb0b1c38c2c4b6309caea3ead6a23da8a5159885',\n",
       "      'width': 640},\n",
       "     {'height': 300,\n",
       "      'url': 'https://mosaic.scdn.co/300/15365637e9a17ed5778cca2cae36bbde4e425568ac56ec0c862079d12a84648ee1ee4da6fea7418ab6970fee648032546ee8aeedbbdab2d9a2bc6e0feb0b1c38c2c4b6309caea3ead6a23da8a5159885',\n",
       "      'width': 300},\n",
       "     {'height': 60,\n",
       "      'url': 'https://mosaic.scdn.co/60/15365637e9a17ed5778cca2cae36bbde4e425568ac56ec0c862079d12a84648ee1ee4da6fea7418ab6970fee648032546ee8aeedbbdab2d9a2bc6e0feb0b1c38c2c4b6309caea3ead6a23da8a5159885',\n",
       "      'width': 60}],\n",
       "    'name': '80s',\n",
       "    'owner': {'external_urls': {'spotify': 'http://open.spotify.com/user/joakim.brandt74'},\n",
       "     'href': 'https://api.spotify.com/v1/users/joakim.brandt74',\n",
       "     'id': 'joakim.brandt74',\n",
       "     'type': 'user',\n",
       "     'uri': 'spotify:user:joakim.brandt74'},\n",
       "    'public': None,\n",
       "    'snapshot_id': 'kPPBDIcpN39ejGCdXkO9TpoVkhy1gM6fv/+fnFmf0JPqgFsvqrJ5Uo9gf6GvPxeo',\n",
       "    'tracks': {'href': 'https://api.spotify.com/v1/users/joakim.brandt74/playlists/3Xo1Pcktk6o3NxJxmUjFbQ/tracks',\n",
       "     'total': 204},\n",
       "    'type': 'playlist',\n",
       "    'uri': 'spotify:user:joakim.brandt74:playlist:3Xo1Pcktk6o3NxJxmUjFbQ'},\n",
       "   {'collaborative': False,\n",
       "    'external_urls': {'spotify': 'http://open.spotify.com/user/1163425103/playlist/21n6LRgHoZerquVm55MI00'},\n",
       "    'href': 'https://api.spotify.com/v1/users/1163425103/playlists/21n6LRgHoZerquVm55MI00',\n",
       "    'id': '21n6LRgHoZerquVm55MI00',\n",
       "    'images': [{'height': 640,\n",
       "      'url': 'https://mosaic.scdn.co/640/478ae746dc59e525e9f2d697eb394e832531f507eb0b1c38c2c4b6309caea3ead6a23da8a51598856bb8a69c5de907cd33cecf3faa478550db5e54ad61e95b214e0afa7e8218284082dce0203c4bc14c',\n",
       "      'width': 640},\n",
       "     {'height': 300,\n",
       "      'url': 'https://mosaic.scdn.co/300/478ae746dc59e525e9f2d697eb394e832531f507eb0b1c38c2c4b6309caea3ead6a23da8a51598856bb8a69c5de907cd33cecf3faa478550db5e54ad61e95b214e0afa7e8218284082dce0203c4bc14c',\n",
       "      'width': 300},\n",
       "     {'height': 60,\n",
       "      'url': 'https://mosaic.scdn.co/60/478ae746dc59e525e9f2d697eb394e832531f507eb0b1c38c2c4b6309caea3ead6a23da8a51598856bb8a69c5de907cd33cecf3faa478550db5e54ad61e95b214e0afa7e8218284082dce0203c4bc14c',\n",
       "      'width': 60}],\n",
       "    'name': '80s hits',\n",
       "    'owner': {'external_urls': {'spotify': 'http://open.spotify.com/user/1163425103'},\n",
       "     'href': 'https://api.spotify.com/v1/users/1163425103',\n",
       "     'id': '1163425103',\n",
       "     'type': 'user',\n",
       "     'uri': 'spotify:user:1163425103'},\n",
       "    'public': None,\n",
       "    'snapshot_id': 'AXQ6H9apvwwLHZe9/565ti6qrDNRi8u/x161W3SLzHNIuu94jmHQLrJjMjPKMhK3',\n",
       "    'tracks': {'href': 'https://api.spotify.com/v1/users/1163425103/playlists/21n6LRgHoZerquVm55MI00/tracks',\n",
       "     'total': 169},\n",
       "    'type': 'playlist',\n",
       "    'uri': 'spotify:user:1163425103:playlist:21n6LRgHoZerquVm55MI00'},\n",
       "   {'collaborative': False,\n",
       "    'external_urls': {'spotify': 'http://open.spotify.com/user/chuanpablo/playlist/0alZsOR3dqFG96fRTPraai'},\n",
       "    'href': 'https://api.spotify.com/v1/users/chuanpablo/playlists/0alZsOR3dqFG96fRTPraai',\n",
       "    'id': '0alZsOR3dqFG96fRTPraai',\n",
       "    'images': [{'height': 640,\n",
       "      'url': 'https://mosaic.scdn.co/640/63e47b9e1420e2effd4d4537c464c27e6e598f2efbaa93c80441950bc77d2344fff83db911b8e3abe7584b1e5d378711cd30ae642ebeadfd7c6d792a5e2d4c9fce0dfa3689bd0a20754de696c69a4658',\n",
       "      'width': 640},\n",
       "     {'height': 300,\n",
       "      'url': 'https://mosaic.scdn.co/300/63e47b9e1420e2effd4d4537c464c27e6e598f2efbaa93c80441950bc77d2344fff83db911b8e3abe7584b1e5d378711cd30ae642ebeadfd7c6d792a5e2d4c9fce0dfa3689bd0a20754de696c69a4658',\n",
       "      'width': 300},\n",
       "     {'height': 60,\n",
       "      'url': 'https://mosaic.scdn.co/60/63e47b9e1420e2effd4d4537c464c27e6e598f2efbaa93c80441950bc77d2344fff83db911b8e3abe7584b1e5d378711cd30ae642ebeadfd7c6d792a5e2d4c9fce0dfa3689bd0a20754de696c69a4658',\n",
       "      'width': 60}],\n",
       "    'name': '70s 80s Rock',\n",
       "    'owner': {'external_urls': {'spotify': 'http://open.spotify.com/user/chuanpablo'},\n",
       "     'href': 'https://api.spotify.com/v1/users/chuanpablo',\n",
       "     'id': 'chuanpablo',\n",
       "     'type': 'user',\n",
       "     'uri': 'spotify:user:chuanpablo'},\n",
       "    'public': None,\n",
       "    'snapshot_id': 'i4mSgpvCo+hDO/i4jumo+SXFbTZyopIrV4uBe3BVU1rnr3m6TNCFQXlLaQhFbge+',\n",
       "    'tracks': {'href': 'https://api.spotify.com/v1/users/chuanpablo/playlists/0alZsOR3dqFG96fRTPraai/tracks',\n",
       "     'total': 306},\n",
       "    'type': 'playlist',\n",
       "    'uri': 'spotify:user:chuanpablo:playlist:0alZsOR3dqFG96fRTPraai'},\n",
       "   {'collaborative': False,\n",
       "    'external_urls': {'spotify': 'http://open.spotify.com/user/11101457460/playlist/1UgJJcWVHMEmTisNPaE8bP'},\n",
       "    'href': 'https://api.spotify.com/v1/users/11101457460/playlists/1UgJJcWVHMEmTisNPaE8bP',\n",
       "    'id': '1UgJJcWVHMEmTisNPaE8bP',\n",
       "    'images': [{'height': 640,\n",
       "      'url': 'https://mosaic.scdn.co/640/2c8cf891d246b0aadf95a2c483b5b243aeda8a41f63a57e509a224ea9e2e4fedaf24f8f57b85ab9a422d57ef1a37ccf0c93f2035080d0fc727662bfe728e70954e523243ac9f05672e393ec85db5279f',\n",
       "      'width': 640},\n",
       "     {'height': 300,\n",
       "      'url': 'https://mosaic.scdn.co/300/2c8cf891d246b0aadf95a2c483b5b243aeda8a41f63a57e509a224ea9e2e4fedaf24f8f57b85ab9a422d57ef1a37ccf0c93f2035080d0fc727662bfe728e70954e523243ac9f05672e393ec85db5279f',\n",
       "      'width': 300},\n",
       "     {'height': 60,\n",
       "      'url': 'https://mosaic.scdn.co/60/2c8cf891d246b0aadf95a2c483b5b243aeda8a41f63a57e509a224ea9e2e4fedaf24f8f57b85ab9a422d57ef1a37ccf0c93f2035080d0fc727662bfe728e70954e523243ac9f05672e393ec85db5279f',\n",
       "      'width': 60}],\n",
       "    'name': 'POP 80S',\n",
       "    'owner': {'external_urls': {'spotify': 'http://open.spotify.com/user/11101457460'},\n",
       "     'href': 'https://api.spotify.com/v1/users/11101457460',\n",
       "     'id': '11101457460',\n",
       "     'type': 'user',\n",
       "     'uri': 'spotify:user:11101457460'},\n",
       "    'public': None,\n",
       "    'snapshot_id': 'yvSMbmVT7lH8NsknfYOmjZIA9MGPW6ZiEzA1BPO+zcT9cPtMFkkPvdQ9BucVrJDt',\n",
       "    'tracks': {'href': 'https://api.spotify.com/v1/users/11101457460/playlists/1UgJJcWVHMEmTisNPaE8bP/tracks',\n",
       "     'total': 312},\n",
       "    'type': 'playlist',\n",
       "    'uri': 'spotify:user:11101457460:playlist:1UgJJcWVHMEmTisNPaE8bP'}],\n",
       "  'limit': 20,\n",
       "  'next': 'https://api.spotify.com/v1/search?query=80s&offset=20&limit=20&type=playlist',\n",
       "  'offset': 0,\n",
       "  'previous': None,\n",
       "  'total': 4173}}"
      ]
     },
     "execution_count": 33,
     "metadata": {},
     "output_type": "execute_result"
    }
   ],
   "source": [
    "data"
   ]
  },
  {
   "cell_type": "code",
   "execution_count": 34,
   "metadata": {
    "collapsed": false
   },
   "outputs": [
    {
     "data": {
      "text/plain": [
       "dict"
      ]
     },
     "execution_count": 34,
     "metadata": {},
     "output_type": "execute_result"
    }
   ],
   "source": [
    "type(data)"
   ]
  },
  {
   "cell_type": "code",
   "execution_count": 35,
   "metadata": {
    "collapsed": true
   },
   "outputs": [],
   "source": [
    "biggie_response = requests.get('https://api.spotify.com/v1/search?query=biggie&type=artist')\n",
    "biggie_data = biggie_response.json()"
   ]
  },
  {
   "cell_type": "code",
   "execution_count": 37,
   "metadata": {
    "collapsed": false
   },
   "outputs": [
    {
     "data": {
      "text/plain": [
       "dict_keys(['artists'])"
      ]
     },
     "execution_count": 37,
     "metadata": {},
     "output_type": "execute_result"
    }
   ],
   "source": [
    "biggie_data.keys()"
   ]
  },
  {
   "cell_type": "code",
   "execution_count": 38,
   "metadata": {
    "collapsed": false
   },
   "outputs": [
    {
     "name": "stdout",
     "output_type": "stream",
     "text": [
      "dict_keys(['popularity', 'followers', 'name', 'genres', 'uri', 'type', 'external_urls', 'images', 'href', 'id'])\n"
     ]
    }
   ],
   "source": [
    "biggie_artists = biggie_data['artists']['items']\n",
    "print (biggie_artists[0].keys())"
   ]
  },
  {
   "cell_type": "code",
   "execution_count": 39,
   "metadata": {
    "collapsed": false
   },
   "outputs": [
    {
     "name": "stdout",
     "output_type": "stream",
     "text": [
      "The Notorious B.I.G. 76 5me0Irg2ANcsgc93uaYrpb\n",
      "Biggie D 20 2dGv0jCarI6vXDCNzAVHns\n",
      "Biggie 23 6FTvY2Rxnycti33aFW7l0K\n",
      "Biggie Irie 16 6WxHgksj5K5dxZ4rv2yQsW\n",
      "Fabolous|Biggie|Busta|Nate Dogg 11 3ukMCckYBLQS1ifA8AUsI3\n",
      "Biggie Smalls 12 1RpIWJHxLsDE8YfFcRaBKw\n",
      "Biggie Paul 18 1OyAhAPFH8Z4bIJewzy3mE\n",
      "Biggie the Kid 4 35B4rRFHwIJrmeXLNN1hF1\n",
      "Alief Biggie 5 6jw8vKhvxItIadtspdF7K5\n",
      "Papa Biggie 0 5gNkiKzLO3p5mevQHw2b0q\n",
      "Mister Biggie 0 0wzeEbcsUKiP1mZLkeC3iB\n",
      "Biggie & Foldy 0 0ylErua0QWjJm1xExk8NCa\n",
      "Biggie Bash 6 52bcshIAYPMvoEnEmwus6N\n",
      "Dj Majah & Blaq Biggie Blaq 2 2FU57JKnCnLVaSXaCiTaY8\n",
      "Biggie Tembo 0 3WbEnNpaSNPnYzHRXj73WS\n",
      "Louis Biggie 0 10WpL7wK50c2RMbaSjPAT5\n",
      "Biggie Da Roxter 0 4KtKqs3wbli7oTsLjpuRKq\n",
      "Biggie Dutch 0 0cExlEbrUiYO6Wq1VDyC0D\n",
      "Biggie Dutch feat. Marina Wilde 0 1BGFuzglzV871bnwTMVLzR\n",
      "MC Biggie 0 0cbg8Q3ul7S0EOg53foHP1\n"
     ]
    }
   ],
   "source": [
    "for artists in biggie_artists:\n",
    "    print (artists['name'], artists['popularity'],artists['id'])"
   ]
  },
  {
   "cell_type": "code",
   "execution_count": 40,
   "metadata": {
    "collapsed": true
   },
   "outputs": [],
   "source": [
    "# Now lets go in details\n",
    "# GET\t/v1/artists/{id}/top-tracks\n",
    "# Always get rid of {} in order to \n",
    "trackdata = requests.get(\"https://api.spotify.com/v1/artists/5me0Irg2ANcsgc93uaYrpb/top-tracks\")\n",
    "data = trackdata.json()"
   ]
  },
  {
   "cell_type": "code",
   "execution_count": 41,
   "metadata": {
    "collapsed": false
   },
   "outputs": [
    {
     "name": "stdout",
     "output_type": "stream",
     "text": [
      "{'error': {'message': 'missing country parameter', 'status': 400}}\n"
     ]
    }
   ],
   "source": [
    "print(data)"
   ]
  },
  {
   "cell_type": "code",
   "execution_count": 42,
   "metadata": {
    "collapsed": false
   },
   "outputs": [
    {
     "name": "stdout",
     "output_type": "stream",
     "text": [
      "dict_keys(['disc_number', 'available_markets', 'duration_ms', 'popularity', 'external_ids', 'uri', 'track_number', 'preview_url', 'artists', 'explicit', 'name', 'type', 'album', 'external_urls', 'href', 'id'])\n"
     ]
    }
   ],
   "source": [
    "trackdata = requests.get(\"https://api.spotify.com/v1/artists/5me0Irg2ANcsgc93uaYrpb/top-tracks?country=US\")\n",
    "data = trackdata.json()\n",
    "print(data['tracks'][0].keys())\n"
   ]
  },
  {
   "cell_type": "code",
   "execution_count": 44,
   "metadata": {
    "collapsed": false
   },
   "outputs": [
    {
     "name": "stdout",
     "output_type": "stream",
     "text": [
      "Old Thing Back (feat. Ja Rule and Ralph Tresvant)\n",
      "Hypnotize\n",
      "Mo Money Mo Problems (feat. Mase & Puff Daddy)\n",
      "Juicy\n",
      "Big Poppa\n",
      "Notorious Thugs\n",
      "Sky's The Limit (feat. 112)\n",
      "Gimme The Loot\n",
      "Get Money - Performed by Junior M.A.F.I.A. Explicit\n",
      "Suicidal Thoughts\n"
     ]
    }
   ],
   "source": [
    "tracks = data['tracks']\n",
    "for track in tracks:\n",
    "    print(track['name'])"
   ]
  },
  {
   "cell_type": "code",
   "execution_count": 45,
   "metadata": {
    "collapsed": false
   },
   "outputs": [
    {
     "name": "stdout",
     "output_type": "stream",
     "text": [
      "Hunnits (feat. Philthy Rich) True\n",
      "Troubled Man True\n",
      "Hustle Man (feat. Mozzy & D-Lo) True\n",
      "On My Block (feat. Big Oso Loc) True\n",
      "Lay It Down (feat. Loon the Goon) True\n",
      "Total Track # : 5\n",
      "Total Explicit Track # : 5\n"
     ]
    }
   ],
   "source": [
    "# How explicit is Biggie the Kid? : 35B4rRFHwIJrmeXLNN1hF1\n",
    "response = requests.get(\"https://api.spotify.com/v1/artists/35B4rRFHwIJrmeXLNN1hF1/top-tracks?country=US\")\n",
    "data= response.json()\n",
    "tracks = data['tracks']\n",
    "\n",
    "# Counting problem !!!\n",
    "# Initial condition (aka out start value)\n",
    "\n",
    "count = 0 # I do not know any tracks\n",
    "explicit_count = 0\n",
    "\n",
    "for track in tracks:\n",
    "    print(track['name'],track['explicit']) # find the first\n",
    "    count = count + 1 # count everytime trhough the loop\n",
    "    if track['explicit'] : # Since it is boolean itself, you do not need to write '==True'\n",
    "        explicit_count = explicit_count +1\n",
    "\n",
    "print ('Total Track # :',count)\n",
    "print ('Total Explicit Track # :', explicit_count)"
   ]
  },
  {
   "cell_type": "code",
   "execution_count": 46,
   "metadata": {
    "collapsed": false
   },
   "outputs": [
    {
     "name": "stdout",
     "output_type": "stream",
     "text": [
      "Old Thing Back (feat. Ja Rule and Ralph Tresvant) True\n",
      "Hypnotize True\n",
      "Mo Money Mo Problems (feat. Mase & Puff Daddy) True\n",
      "Juicy True\n",
      "Big Poppa True\n",
      "Notorious Thugs True\n",
      "Sky's The Limit (feat. 112) True\n",
      "Gimme The Loot True\n",
      "Get Money - Performed by Junior M.A.F.I.A. Explicit True\n",
      "Suicidal Thoughts True\n",
      "Total Track # : 10\n",
      "Total Explicit Track # : 10\n",
      "Clean Track # : 0\n"
     ]
    }
   ],
   "source": [
    "# How explicit is Notorious BIG? : 5me0Irg2ANcsgc93uaYrpb\n",
    "response = requests.get(\"https://api.spotify.com/v1/artists/5me0Irg2ANcsgc93uaYrpb/top-tracks?country=US\")\n",
    "data= response.json()\n",
    "tracks = data['tracks']\n",
    "\n",
    "# Counting problem !!!\n",
    "# Initial condition (aka out start value)\n",
    "\n",
    "count = 0 # I do not know any tracks\n",
    "explicit_count = 0\n",
    "\n",
    "for track in tracks:\n",
    "    print(track['name'],track['explicit']) # find the first\n",
    "    count = count + 1 # count everytime trhough the loop\n",
    "    if track['explicit'] : # Since it is boolean itself, you do not need to write '==True'\n",
    "        explicit_count = explicit_count +1\n",
    "\n",
    "print ('Total Track # :',count)\n",
    "print ('Total Explicit Track # :', explicit_count)\n",
    "print ('Clean Track # :', count - explicit_count )"
   ]
  },
  {
   "cell_type": "code",
   "execution_count": 47,
   "metadata": {
    "collapsed": true
   },
   "outputs": [],
   "source": [
    "# 이런식으로 풀어도 됨.\n",
    "artist_id = '5me0Irg2ANcsgc93uaYrpb'\n",
    "response = requests.get(\"https://api.spotify.com/v1/artists/\"+artist_id+\"/top-tracks?country=US\")"
   ]
  },
  {
   "cell_type": "markdown",
   "metadata": {
    "collapsed": true
   },
   "source": [
    "## APIs\n",
    "\n",
    "Start a new python script (name it as you please) and start a virtual environment in the directory where that file is located and call it ‘apis’ (`mkvirtualenv apis`).\n",
    "\n",
    "*   **An aside: the reason why we’re using a virtual environment:** virtual environments allow us to partition off what we need so that when you upgrade things in the future, it doesn’t break things from the past.\n",
    "\n",
    "API stands for **application programming interface**.\n",
    "\n",
    "### Importing requests\n",
    "\n",
    "We’re going to use a library called **requests** to work with APIs. You don’t have to write 100s of lines of code to make a request to a website because we have the code that someone else already wrote (you can even view the code for **requests** on [Github](https://github.com/kennethreitz/requests)).\n",
    "\n",
    "(We’re going to be using the following 3 lines of code over and over again! Well, we’ll change the URL we pass, but mostly use variations of the lines below.)\n",
    "\n",
    "\n",
    "    import requests\n",
    "\n",
    "    response = requests.get('http://www.nytimes.com')\n",
    "    print(response.text)\n",
    "\n",
    "\n",
    "\n",
    "But this won’t work until we install the **requests** package on our computer. `pip3 install requests` (make sure you are in a virtual environment when you do this).\n",
    "\n",
    "A **scraper** teaches your computer to how to interpret what it gets back from `response.text` from a website! An **API** gets you data back from a source in a format that your computer can understand. APIs usually come with **documentation** that tells you how its data is structured.\n",
    "\n",
    "### Example: Let’s go check out the [Spotify API](https://developer.spotify.com/web-api/)\n",
    "\n",
    "    import requests\n",
    "    response = requests.get('https://api.spotify.com/v1/search?query=80s&type=playlist')\n",
    "\n",
    "\n",
    "*   **API Endpoint:** This just means ‘URL that your computer can visit’\n",
    "    *   Everything to the right of the ? are the **parameters**\n",
    "    *   To the left, we have the **URL**\n",
    "*   **API Endpoint Reference:** The API Endpoint reference tells us all the parameters we can use. This is usually a good first stop when you begin working with a particular API – **read their documentation!**\n",
    "\n",
    "    data = response.json()\n",
    "    print(data.keys())\n",
    "\n",
    "\n",
    "Note that we are passing `response.json()` to data, rather than response.text – given the format of the data we get back from Spotify, we know (now) that we need to interpret it as JSON (stands for JavaScript Object Notation)!\n",
    "\n",
    "Whenever we get new “data”, we’re going to be using our tried and test methods to “poke through” and get a better understanding of what that data actually looks like. A few of our favorite ways of investigating the data:\n",
    "\n",
    "    print(type(data['playlists']))  # Tells us its a dictionary\n",
    "    # So we know we can print its keys\n",
    "    print(data['playlists'].keys())  # we know we want the items key!\n",
    "\n",
    "    playlists = data['playlists']['items']\n",
    "    print(type(playlists))  # it's a list\n",
    "\n",
    "    for playlist in playlists:\n",
    "        print(playlist['name'], playlist['href'])\n",
    "\n",
    "\n",
    "**Print, print, print**! And for APIs, you can always use the **documentation** to guide your investigations.\n",
    "\n",
    "### API authorization\n",
    "\n",
    "*   Some APIs require authorizations to access their data – this is the case for some of Spotify’s data, which uses an authentication tool called OAuth. Basically, they want to know who you are.\n",
    "*   Other APIs have simplied their authentication process – they’ll issue you an API key, which serves as a unique identifier that again, allows them to know who is accessing their data.\n",
    "\n",
    "## Starting exploratory data analysis\n",
    "\n",
    "We’re going to move to ipython/Jupyter notebook to look through our Spotify data. Jupyter is notebooks are particularly great for **exploratory data analysis**. Instead of running our entire script each time we make a small change, Jupyter notebooks allow us to run our code in smaller cells.\n",
    "\n",
    "**A note for exploratory data analysis**: don’t just blindly poke around your data. Instead, form a question and try to get the answer out of your data."
   ]
  },
  {
   "cell_type": "markdown",
   "metadata": {},
   "source": [
    "\n",
    "---\n",
    "# Class 03. Github & Intro to Json(Spotify Data)\n",
    "**June 01 2016**  \n",
    "Official classnotes : [Introduction to Git](http://jonathansoma.com/lede/foundations/classes/03/class/)"
   ]
  },
  {
   "cell_type": "markdown",
   "metadata": {},
   "source": [
    "Class Topics\n",
    "- GIT 설치 (뒤 Class Note를 살펴볼것)\n",
    "- SPOTIFY DATA (JSON 살펴보기)"
   ]
  },
  {
   "cell_type": "code",
   "execution_count": 1,
   "metadata": {
    "collapsed": true
   },
   "outputs": [],
   "source": [
    "# Data Given\n",
    "data = {'artists': {'total': 361, 'limit': 20, 'previous': None, 'next': 'https://api.spotify.com/v1/search?query=drake&offset=20&limit=20&type=artist', 'href': 'https://api.spotify.com/v1/search?query=drake&offset=0&limit=20&type=artist', 'offset': 0, 'items': [{'type': 'artist', 'images': [{'height': 997, 'width': 1000, 'url': 'https://i.scdn.co/image/d90899d09be8083e52f87d9f6a30fd5750bc0a4d'}, {'height': 638, 'width': 640, 'url': 'https://i.scdn.co/image/068ae749ee9825fcecc1a0f82ead09aaa8440228'}, {'height': 199, 'width': 200, 'url': 'https://i.scdn.co/image/94c531c2ed71ce23d704d7f63a168c0287bbbb23'}, {'height': 64, 'width': 64, 'url': 'https://i.scdn.co/image/d1d6016c698703ba4933461ff5acbfe112877b48'}], 'popularity': 100, 'uri': 'spotify:artist:3TVXtAsR1Inumwj472S9r4', 'name': 'Drake', 'followers': {'href': None, 'total': 5771130}, 'genres': ['indie r&b', 'pop rap'], 'href': 'https://api.spotify.com/v1/artists/3TVXtAsR1Inumwj472S9r4', 'id': '3TVXtAsR1Inumwj472S9r4', 'external_urls': {'spotify': 'https://open.spotify.com/artist/3TVXtAsR1Inumwj472S9r4'}}, {'type': 'artist', 'images': [{'height': 1484, 'width': 1000, 'url': 'https://i.scdn.co/image/39692b2b6f17854a2b2ed55de88102b185db18a5'}, {'height': 950, 'width': 640, 'url': 'https://i.scdn.co/image/e1997083cbfa8a36efdbd4118e47e0d79058e4ad'}, {'height': 297, 'width': 200, 'url': 'https://i.scdn.co/image/b7768f961e4a00b2d8358ccfcd97dcb9cbdac9ee'}, {'height': 95, 'width': 64, 'url': 'https://i.scdn.co/image/c3592435112aea7fe9fe9bd5b091548c0218e426'}], 'popularity': 58, 'uri': 'spotify:artist:5c3GLXai8YOMid29ZEuR9y', 'name': 'Nick Drake', 'followers': {'href': None, 'total': 162874}, 'genres': [], 'href': 'https://api.spotify.com/v1/artists/5c3GLXai8YOMid29ZEuR9y', 'id': '5c3GLXai8YOMid29ZEuR9y', 'external_urls': {'spotify': 'https://open.spotify.com/artist/5c3GLXai8YOMid29ZEuR9y'}}, {'type': 'artist', 'images': [{'height': 563, 'width': 1000, 'url': 'https://i.scdn.co/image/d63ac9fa12d21eedf751f45ed7fd1ae74dee14dd'}, {'height': 360, 'width': 640, 'url': 'https://i.scdn.co/image/58873e8423e7820214ecefa540adfbeece54bd78'}, {'height': 113, 'width': 200, 'url': 'https://i.scdn.co/image/de0dfa90f15929a6dfa38026ebadfafa55c8af68'}, {'height': 36, 'width': 64, 'url': 'https://i.scdn.co/image/e31d5031397abc11fd55cc2cab64439d07d850f9'}], 'popularity': 49, 'uri': 'spotify:artist:29ijED2bnnprp2TciAK1aO', 'name': 'Drake White', 'followers': {'href': None, 'total': 6429}, 'genres': [], 'href': 'https://api.spotify.com/v1/artists/29ijED2bnnprp2TciAK1aO', 'id': '29ijED2bnnprp2TciAK1aO', 'external_urls': {'spotify': 'https://open.spotify.com/artist/29ijED2bnnprp2TciAK1aO'}}, {'type': 'artist', 'images': [{'height': 640, 'width': 640, 'url': 'https://i.scdn.co/image/3954171b526768826cd09d2249cd8c0428e54839'}, {'height': 300, 'width': 300, 'url': 'https://i.scdn.co/image/a3bbcc9519a74b8621df2cc2b1ef25abfd5de670'}, {'height': 64, 'width': 64, 'url': 'https://i.scdn.co/image/61e1e73d925e69ea504c09c448fd70f76d3a750b'}], 'popularity': 55, 'uri': 'spotify:artist:2Iqn8dbh4BvojpUyzWYnHg', 'name': 'Drake', 'followers': {'href': None, 'total': 804}, 'genres': [], 'href': 'https://api.spotify.com/v1/artists/2Iqn8dbh4BvojpUyzWYnHg', 'id': '2Iqn8dbh4BvojpUyzWYnHg', 'external_urls': {'spotify': 'https://open.spotify.com/artist/2Iqn8dbh4BvojpUyzWYnHg'}}, {'type': 'artist', 'images': [{'height': 1500, 'width': 1000, 'url': 'https://i.scdn.co/image/69b912fb1875aed3316098d40dccb3565017306d'}, {'height': 960, 'width': 640, 'url': 'https://i.scdn.co/image/17a4baa53578c2b0ce9f3e9816dc143f69adc011'}, {'height': 300, 'width': 200, 'url': 'https://i.scdn.co/image/8d151cd5c0dc30136637609b0a3e24d5881c1528'}, {'height': 96, 'width': 64, 'url': 'https://i.scdn.co/image/24126809e024c6628f990cf7eefbe4088c72b94a'}], 'popularity': 46, 'uri': 'spotify:artist:03ilIKH0i08IxmjKcn63ne', 'name': 'Drake Bell', 'followers': {'href': None, 'total': 68902}, 'genres': [], 'href': 'https://api.spotify.com/v1/artists/03ilIKH0i08IxmjKcn63ne', 'id': '03ilIKH0i08IxmjKcn63ne', 'external_urls': {'spotify': 'https://open.spotify.com/artist/03ilIKH0i08IxmjKcn63ne'}}, {'type': 'artist', 'images': [{'height': 640, 'width': 640, 'url': 'https://i.scdn.co/image/8e9cea48d0e6cbf215f111066178eab2cb1e348e'}, {'height': 300, 'width': 300, 'url': 'https://i.scdn.co/image/5704ba810662d682040160ef8036603ed813153c'}, {'height': 64, 'width': 64, 'url': 'https://i.scdn.co/image/d67b71534401fc52bc59ead89238b7106105b0c0'}], 'popularity': 44, 'uri': 'spotify:artist:2m5ti7YuYYCVs8xfZgnVkx', 'name': 'Drake', 'followers': {'href': None, 'total': 12002}, 'genres': [], 'href': 'https://api.spotify.com/v1/artists/2m5ti7YuYYCVs8xfZgnVkx', 'id': '2m5ti7YuYYCVs8xfZgnVkx', 'external_urls': {'spotify': 'https://open.spotify.com/artist/2m5ti7YuYYCVs8xfZgnVkx'}}, {'type': 'artist', 'images': [{'height': 640, 'width': 640, 'url': 'https://i.scdn.co/image/8628c47700634d55d680ac24661355eb54a80f64'}, {'height': 300, 'width': 300, 'url': 'https://i.scdn.co/image/8d76f3c3b4515dec094e17e1f047199f692930fd'}, {'height': 64, 'width': 64, 'url': 'https://i.scdn.co/image/81b13cb7b3f67034cb8b24e1e903039e0d5cdf2c'}], 'popularity': 36, 'uri': 'spotify:artist:0Jm1S6ygzF2F9XYWJCf6Hu', 'name': 'Drake Chisholm', 'followers': {'href': None, 'total': 131}, 'genres': [], 'href': 'https://api.spotify.com/v1/artists/0Jm1S6ygzF2F9XYWJCf6Hu', 'id': '0Jm1S6ygzF2F9XYWJCf6Hu', 'external_urls': {'spotify': 'https://open.spotify.com/artist/0Jm1S6ygzF2F9XYWJCf6Hu'}}, {'type': 'artist', 'images': [{'height': 640, 'width': 640, 'url': 'https://i.scdn.co/image/04e190e7c4bf77f01c4d68fb7db9f777cfde9eb0'}, {'height': 300, 'width': 300, 'url': 'https://i.scdn.co/image/ce4092fc8a34b0360d07c7444aaa53e4311b481a'}, {'height': 64, 'width': 64, 'url': 'https://i.scdn.co/image/c825b69068180726adcfe0bcd6463c2c2e3fc9cb'}], 'popularity': 37, 'uri': 'spotify:artist:3KLA7mvD10XxcjRbo3uTdB', 'name': 'Christopher Drake', 'followers': {'href': None, 'total': 1522}, 'genres': [], 'href': 'https://api.spotify.com/v1/artists/3KLA7mvD10XxcjRbo3uTdB', 'id': '3KLA7mvD10XxcjRbo3uTdB', 'external_urls': {'spotify': 'https://open.spotify.com/artist/3KLA7mvD10XxcjRbo3uTdB'}}, {'type': 'artist', 'images': [], 'popularity': 35, 'uri': 'spotify:artist:2y7pPMQioLwMFUKhK9Pyow', 'name': 'Eleni Drake', 'followers': {'href': None, 'total': 37}, 'genres': [], 'href': 'https://api.spotify.com/v1/artists/2y7pPMQioLwMFUKhK9Pyow', 'id': '2y7pPMQioLwMFUKhK9Pyow', 'external_urls': {'spotify': 'https://open.spotify.com/artist/2y7pPMQioLwMFUKhK9Pyow'}}, {'type': 'artist', 'images': [], 'popularity': 26, 'uri': 'spotify:artist:5wzXzlWJdkALT4P8pywiau', 'name': 'Seth Drake', 'followers': {'href': None, 'total': 39}, 'genres': [], 'href': 'https://api.spotify.com/v1/artists/5wzXzlWJdkALT4P8pywiau', 'id': '5wzXzlWJdkALT4P8pywiau', 'external_urls': {'spotify': 'https://open.spotify.com/artist/5wzXzlWJdkALT4P8pywiau'}}, {'type': 'artist', 'images': [], 'popularity': 23, 'uri': 'spotify:artist:1xDIDfyzRo8HNGsLp4JfzO', 'name': 'Ludwig Von Drake', 'followers': {'href': None, 'total': 170}, 'genres': [], 'href': 'https://api.spotify.com/v1/artists/1xDIDfyzRo8HNGsLp4JfzO', 'id': '1xDIDfyzRo8HNGsLp4JfzO', 'external_urls': {'spotify': 'https://open.spotify.com/artist/1xDIDfyzRo8HNGsLp4JfzO'}}, {'type': 'artist', 'images': [], 'popularity': 26, 'uri': 'spotify:artist:2HT2RkwWZ38SYMzBcLE9Ty', 'name': 'Romeo Santos Ft Drake', 'followers': {'href': None, 'total': 859}, 'genres': [], 'href': 'https://api.spotify.com/v1/artists/2HT2RkwWZ38SYMzBcLE9Ty', 'id': '2HT2RkwWZ38SYMzBcLE9Ty', 'external_urls': {'spotify': 'https://open.spotify.com/artist/2HT2RkwWZ38SYMzBcLE9Ty'}}, {'type': 'artist', 'images': [], 'popularity': 22, 'uri': 'spotify:artist:1t2vamW3e4TNHlKeDMmaUA', 'name': 'Lil Wayne feat. Drake', 'followers': {'href': None, 'total': 1710}, 'genres': [], 'href': 'https://api.spotify.com/v1/artists/1t2vamW3e4TNHlKeDMmaUA', 'id': '1t2vamW3e4TNHlKeDMmaUA', 'external_urls': {'spotify': 'https://open.spotify.com/artist/1t2vamW3e4TNHlKeDMmaUA'}}, {'type': 'artist', 'images': [{'height': 226, 'width': 200, 'url': 'https://i.scdn.co/image/1ca5bc28ffd6eaa4b8941dfa7a3da0ac92e064f0'}, {'height': 72, 'width': 64, 'url': 'https://i.scdn.co/image/f30f7717b686edafd3a59a6e894f2d871b79438e'}], 'popularity': 26, 'uri': 'spotify:artist:3uCTdq9rOnPCAlJMc4OzGn', 'name': 'Julius Drake', 'followers': {'href': None, 'total': 1120}, 'genres': [], 'href': 'https://api.spotify.com/v1/artists/3uCTdq9rOnPCAlJMc4OzGn', 'id': '3uCTdq9rOnPCAlJMc4OzGn', 'external_urls': {'spotify': 'https://open.spotify.com/artist/3uCTdq9rOnPCAlJMc4OzGn'}}, {'type': 'artist', 'images': [{'height': 300, 'width': 500, 'url': 'https://i.scdn.co/image/83e02935a38a48b49ab11cea406cb9bf979122dd'}, {'height': 120, 'width': 200, 'url': 'https://i.scdn.co/image/1b565bc973abcf36a346eb01d6acd37de5aca33e'}, {'height': 38, 'width': 63, 'url': 'https://i.scdn.co/image/6b7629f368fab6cfdcdbdd4fd821549fbbcb808d'}], 'popularity': 25, 'uri': 'spotify:artist:1789Un2gEvELbBTnHoS9Rl', 'name': 'Molly Drake', 'followers': {'href': None, 'total': 2157}, 'genres': [], 'href': 'https://api.spotify.com/v1/artists/1789Un2gEvELbBTnHoS9Rl', 'id': '1789Un2gEvELbBTnHoS9Rl', 'external_urls': {'spotify': 'https://open.spotify.com/artist/1789Un2gEvELbBTnHoS9Rl'}}, {'type': 'artist', 'images': [], 'popularity': 17, 'uri': 'spotify:artist:5QDvl1vOkRT0hL6eFmCN9q', 'name': 'Bassnectar & Seth Drake', 'followers': {'href': None, 'total': 658}, 'genres': [], 'href': 'https://api.spotify.com/v1/artists/5QDvl1vOkRT0hL6eFmCN9q', 'id': '5QDvl1vOkRT0hL6eFmCN9q', 'external_urls': {'spotify': 'https://open.spotify.com/artist/5QDvl1vOkRT0hL6eFmCN9q'}}, {'type': 'artist', 'images': [{'height': 640, 'width': 640, 'url': 'https://i.scdn.co/image/757dac6c0599ab1e8809f2e5112bd3655d8aaa10'}, {'height': 300, 'width': 300, 'url': 'https://i.scdn.co/image/051471b0f717d7ed73875f26145f173ec6393160'}, {'height': 64, 'width': 64, 'url': 'https://i.scdn.co/image/5421ca18d723b4e89ddf1eae7b5fe57b16739c77'}], 'popularity': 15, 'uri': 'spotify:artist:7DDaQqjdIkLxhp1jQyxLux', 'name': 'Alfred Drake', 'followers': {'href': None, 'total': 400}, 'genres': [], 'href': 'https://api.spotify.com/v1/artists/7DDaQqjdIkLxhp1jQyxLux', 'id': '7DDaQqjdIkLxhp1jQyxLux', 'external_urls': {'spotify': 'https://open.spotify.com/artist/7DDaQqjdIkLxhp1jQyxLux'}}, {'type': 'artist', 'images': [{'height': 600, 'width': 600, 'url': 'https://i.scdn.co/image/59145c35666291e0ebab5289681383d121bb28b4'}, {'height': 300, 'width': 300, 'url': 'https://i.scdn.co/image/cb9c94e29279d861512b94ba180b0408975b28b8'}, {'height': 64, 'width': 64, 'url': 'https://i.scdn.co/image/63a4904e60531f93e09cd05ce87073a277c1cfdc'}], 'popularity': 23, 'uri': 'spotify:artist:2ekAQJaUrnLWfvamRRQwom', 'name': 'Drakensang', 'followers': {'href': None, 'total': 330}, 'genres': [], 'href': 'https://api.spotify.com/v1/artists/2ekAQJaUrnLWfvamRRQwom', 'id': '2ekAQJaUrnLWfvamRRQwom', 'external_urls': {'spotify': 'https://open.spotify.com/artist/2ekAQJaUrnLWfvamRRQwom'}}, {'type': 'artist', 'images': [{'height': 640, 'width': 640, 'url': 'https://i.scdn.co/image/f4a7ebf688bd4340eda55fea95309953394d355c'}, {'height': 300, 'width': 300, 'url': 'https://i.scdn.co/image/0408b4c1d05369019b7f163fbd379276354c10d8'}, {'height': 64, 'width': 64, 'url': 'https://i.scdn.co/image/57c0c9442e28943425cc4b28a48b9c6dbb4a7ebb'}], 'popularity': 21, 'uri': 'spotify:artist:7rvB7ONJSqlmaCrcbhelir', 'name': 'Jamie Drake', 'followers': {'href': None, 'total': 50}, 'genres': [], 'href': 'https://api.spotify.com/v1/artists/7rvB7ONJSqlmaCrcbhelir', 'id': '7rvB7ONJSqlmaCrcbhelir', 'external_urls': {'spotify': 'https://open.spotify.com/artist/7rvB7ONJSqlmaCrcbhelir'}}, {'type': 'artist', 'images': [{'height': 765, 'width': 600, 'url': 'https://i.scdn.co/image/290358e27f69ab57772eaea3042eda8aa53e40fd'}, {'height': 255, 'width': 200, 'url': 'https://i.scdn.co/image/d3b0616a6273bb187f83e851803ed815e4c975d8'}, {'height': 82, 'width': 64, 'url': 'https://i.scdn.co/image/efc86ded885372e547726b93acd47df882f856f5'}], 'popularity': 11, 'uri': 'spotify:artist:46GXJl0nSqR7iavieZqpuc', 'name': 'Dusty Drake', 'followers': {'href': None, 'total': 164}, 'genres': [], 'href': 'https://api.spotify.com/v1/artists/46GXJl0nSqR7iavieZqpuc', 'id': '46GXJl0nSqR7iavieZqpuc', 'external_urls': {'spotify': 'https://open.spotify.com/artist/46GXJl0nSqR7iavieZqpuc'}}]}}\n"
   ]
  },
  {
   "cell_type": "code",
   "execution_count": 2,
   "metadata": {
    "collapsed": false,
    "scrolled": true
   },
   "outputs": [
    {
     "name": "stdout",
     "output_type": "stream",
     "text": [
      "{'artists': {'items': [{'external_urls': {'spotify': 'https://open.spotify.com/artist/3TVXtAsR1Inumwj472S9r4'}, 'popularity': 100, 'name': 'Drake', 'genres': ['indie r&b', 'pop rap'], 'uri': 'spotify:artist:3TVXtAsR1Inumwj472S9r4', 'type': 'artist', 'href': 'https://api.spotify.com/v1/artists/3TVXtAsR1Inumwj472S9r4', 'images': [{'width': 1000, 'height': 997, 'url': 'https://i.scdn.co/image/d90899d09be8083e52f87d9f6a30fd5750bc0a4d'}, {'width': 640, 'height': 638, 'url': 'https://i.scdn.co/image/068ae749ee9825fcecc1a0f82ead09aaa8440228'}, {'width': 200, 'height': 199, 'url': 'https://i.scdn.co/image/94c531c2ed71ce23d704d7f63a168c0287bbbb23'}, {'width': 64, 'height': 64, 'url': 'https://i.scdn.co/image/d1d6016c698703ba4933461ff5acbfe112877b48'}], 'followers': {'total': 5771130, 'href': None}, 'id': '3TVXtAsR1Inumwj472S9r4'}, {'external_urls': {'spotify': 'https://open.spotify.com/artist/5c3GLXai8YOMid29ZEuR9y'}, 'popularity': 58, 'name': 'Nick Drake', 'genres': [], 'uri': 'spotify:artist:5c3GLXai8YOMid29ZEuR9y', 'type': 'artist', 'href': 'https://api.spotify.com/v1/artists/5c3GLXai8YOMid29ZEuR9y', 'images': [{'width': 1000, 'height': 1484, 'url': 'https://i.scdn.co/image/39692b2b6f17854a2b2ed55de88102b185db18a5'}, {'width': 640, 'height': 950, 'url': 'https://i.scdn.co/image/e1997083cbfa8a36efdbd4118e47e0d79058e4ad'}, {'width': 200, 'height': 297, 'url': 'https://i.scdn.co/image/b7768f961e4a00b2d8358ccfcd97dcb9cbdac9ee'}, {'width': 64, 'height': 95, 'url': 'https://i.scdn.co/image/c3592435112aea7fe9fe9bd5b091548c0218e426'}], 'followers': {'total': 162874, 'href': None}, 'id': '5c3GLXai8YOMid29ZEuR9y'}, {'external_urls': {'spotify': 'https://open.spotify.com/artist/29ijED2bnnprp2TciAK1aO'}, 'popularity': 49, 'name': 'Drake White', 'genres': [], 'uri': 'spotify:artist:29ijED2bnnprp2TciAK1aO', 'type': 'artist', 'href': 'https://api.spotify.com/v1/artists/29ijED2bnnprp2TciAK1aO', 'images': [{'width': 1000, 'height': 563, 'url': 'https://i.scdn.co/image/d63ac9fa12d21eedf751f45ed7fd1ae74dee14dd'}, {'width': 640, 'height': 360, 'url': 'https://i.scdn.co/image/58873e8423e7820214ecefa540adfbeece54bd78'}, {'width': 200, 'height': 113, 'url': 'https://i.scdn.co/image/de0dfa90f15929a6dfa38026ebadfafa55c8af68'}, {'width': 64, 'height': 36, 'url': 'https://i.scdn.co/image/e31d5031397abc11fd55cc2cab64439d07d850f9'}], 'followers': {'total': 6429, 'href': None}, 'id': '29ijED2bnnprp2TciAK1aO'}, {'external_urls': {'spotify': 'https://open.spotify.com/artist/2Iqn8dbh4BvojpUyzWYnHg'}, 'popularity': 55, 'name': 'Drake', 'genres': [], 'uri': 'spotify:artist:2Iqn8dbh4BvojpUyzWYnHg', 'type': 'artist', 'href': 'https://api.spotify.com/v1/artists/2Iqn8dbh4BvojpUyzWYnHg', 'images': [{'width': 640, 'height': 640, 'url': 'https://i.scdn.co/image/3954171b526768826cd09d2249cd8c0428e54839'}, {'width': 300, 'height': 300, 'url': 'https://i.scdn.co/image/a3bbcc9519a74b8621df2cc2b1ef25abfd5de670'}, {'width': 64, 'height': 64, 'url': 'https://i.scdn.co/image/61e1e73d925e69ea504c09c448fd70f76d3a750b'}], 'followers': {'total': 804, 'href': None}, 'id': '2Iqn8dbh4BvojpUyzWYnHg'}, {'external_urls': {'spotify': 'https://open.spotify.com/artist/03ilIKH0i08IxmjKcn63ne'}, 'popularity': 46, 'name': 'Drake Bell', 'genres': [], 'uri': 'spotify:artist:03ilIKH0i08IxmjKcn63ne', 'type': 'artist', 'href': 'https://api.spotify.com/v1/artists/03ilIKH0i08IxmjKcn63ne', 'images': [{'width': 1000, 'height': 1500, 'url': 'https://i.scdn.co/image/69b912fb1875aed3316098d40dccb3565017306d'}, {'width': 640, 'height': 960, 'url': 'https://i.scdn.co/image/17a4baa53578c2b0ce9f3e9816dc143f69adc011'}, {'width': 200, 'height': 300, 'url': 'https://i.scdn.co/image/8d151cd5c0dc30136637609b0a3e24d5881c1528'}, {'width': 64, 'height': 96, 'url': 'https://i.scdn.co/image/24126809e024c6628f990cf7eefbe4088c72b94a'}], 'followers': {'total': 68902, 'href': None}, 'id': '03ilIKH0i08IxmjKcn63ne'}, {'external_urls': {'spotify': 'https://open.spotify.com/artist/2m5ti7YuYYCVs8xfZgnVkx'}, 'popularity': 44, 'name': 'Drake', 'genres': [], 'uri': 'spotify:artist:2m5ti7YuYYCVs8xfZgnVkx', 'type': 'artist', 'href': 'https://api.spotify.com/v1/artists/2m5ti7YuYYCVs8xfZgnVkx', 'images': [{'width': 640, 'height': 640, 'url': 'https://i.scdn.co/image/8e9cea48d0e6cbf215f111066178eab2cb1e348e'}, {'width': 300, 'height': 300, 'url': 'https://i.scdn.co/image/5704ba810662d682040160ef8036603ed813153c'}, {'width': 64, 'height': 64, 'url': 'https://i.scdn.co/image/d67b71534401fc52bc59ead89238b7106105b0c0'}], 'followers': {'total': 12002, 'href': None}, 'id': '2m5ti7YuYYCVs8xfZgnVkx'}, {'external_urls': {'spotify': 'https://open.spotify.com/artist/0Jm1S6ygzF2F9XYWJCf6Hu'}, 'popularity': 36, 'name': 'Drake Chisholm', 'genres': [], 'uri': 'spotify:artist:0Jm1S6ygzF2F9XYWJCf6Hu', 'type': 'artist', 'href': 'https://api.spotify.com/v1/artists/0Jm1S6ygzF2F9XYWJCf6Hu', 'images': [{'width': 640, 'height': 640, 'url': 'https://i.scdn.co/image/8628c47700634d55d680ac24661355eb54a80f64'}, {'width': 300, 'height': 300, 'url': 'https://i.scdn.co/image/8d76f3c3b4515dec094e17e1f047199f692930fd'}, {'width': 64, 'height': 64, 'url': 'https://i.scdn.co/image/81b13cb7b3f67034cb8b24e1e903039e0d5cdf2c'}], 'followers': {'total': 131, 'href': None}, 'id': '0Jm1S6ygzF2F9XYWJCf6Hu'}, {'external_urls': {'spotify': 'https://open.spotify.com/artist/3KLA7mvD10XxcjRbo3uTdB'}, 'popularity': 37, 'name': 'Christopher Drake', 'genres': [], 'uri': 'spotify:artist:3KLA7mvD10XxcjRbo3uTdB', 'type': 'artist', 'href': 'https://api.spotify.com/v1/artists/3KLA7mvD10XxcjRbo3uTdB', 'images': [{'width': 640, 'height': 640, 'url': 'https://i.scdn.co/image/04e190e7c4bf77f01c4d68fb7db9f777cfde9eb0'}, {'width': 300, 'height': 300, 'url': 'https://i.scdn.co/image/ce4092fc8a34b0360d07c7444aaa53e4311b481a'}, {'width': 64, 'height': 64, 'url': 'https://i.scdn.co/image/c825b69068180726adcfe0bcd6463c2c2e3fc9cb'}], 'followers': {'total': 1522, 'href': None}, 'id': '3KLA7mvD10XxcjRbo3uTdB'}, {'external_urls': {'spotify': 'https://open.spotify.com/artist/2y7pPMQioLwMFUKhK9Pyow'}, 'popularity': 35, 'name': 'Eleni Drake', 'genres': [], 'uri': 'spotify:artist:2y7pPMQioLwMFUKhK9Pyow', 'type': 'artist', 'href': 'https://api.spotify.com/v1/artists/2y7pPMQioLwMFUKhK9Pyow', 'images': [], 'followers': {'total': 37, 'href': None}, 'id': '2y7pPMQioLwMFUKhK9Pyow'}, {'external_urls': {'spotify': 'https://open.spotify.com/artist/5wzXzlWJdkALT4P8pywiau'}, 'popularity': 26, 'name': 'Seth Drake', 'genres': [], 'uri': 'spotify:artist:5wzXzlWJdkALT4P8pywiau', 'type': 'artist', 'href': 'https://api.spotify.com/v1/artists/5wzXzlWJdkALT4P8pywiau', 'images': [], 'followers': {'total': 39, 'href': None}, 'id': '5wzXzlWJdkALT4P8pywiau'}, {'external_urls': {'spotify': 'https://open.spotify.com/artist/1xDIDfyzRo8HNGsLp4JfzO'}, 'popularity': 23, 'name': 'Ludwig Von Drake', 'genres': [], 'uri': 'spotify:artist:1xDIDfyzRo8HNGsLp4JfzO', 'type': 'artist', 'href': 'https://api.spotify.com/v1/artists/1xDIDfyzRo8HNGsLp4JfzO', 'images': [], 'followers': {'total': 170, 'href': None}, 'id': '1xDIDfyzRo8HNGsLp4JfzO'}, {'external_urls': {'spotify': 'https://open.spotify.com/artist/2HT2RkwWZ38SYMzBcLE9Ty'}, 'popularity': 26, 'name': 'Romeo Santos Ft Drake', 'genres': [], 'uri': 'spotify:artist:2HT2RkwWZ38SYMzBcLE9Ty', 'type': 'artist', 'href': 'https://api.spotify.com/v1/artists/2HT2RkwWZ38SYMzBcLE9Ty', 'images': [], 'followers': {'total': 859, 'href': None}, 'id': '2HT2RkwWZ38SYMzBcLE9Ty'}, {'external_urls': {'spotify': 'https://open.spotify.com/artist/1t2vamW3e4TNHlKeDMmaUA'}, 'popularity': 22, 'name': 'Lil Wayne feat. Drake', 'genres': [], 'uri': 'spotify:artist:1t2vamW3e4TNHlKeDMmaUA', 'type': 'artist', 'href': 'https://api.spotify.com/v1/artists/1t2vamW3e4TNHlKeDMmaUA', 'images': [], 'followers': {'total': 1710, 'href': None}, 'id': '1t2vamW3e4TNHlKeDMmaUA'}, {'external_urls': {'spotify': 'https://open.spotify.com/artist/3uCTdq9rOnPCAlJMc4OzGn'}, 'popularity': 26, 'name': 'Julius Drake', 'genres': [], 'uri': 'spotify:artist:3uCTdq9rOnPCAlJMc4OzGn', 'type': 'artist', 'href': 'https://api.spotify.com/v1/artists/3uCTdq9rOnPCAlJMc4OzGn', 'images': [{'width': 200, 'height': 226, 'url': 'https://i.scdn.co/image/1ca5bc28ffd6eaa4b8941dfa7a3da0ac92e064f0'}, {'width': 64, 'height': 72, 'url': 'https://i.scdn.co/image/f30f7717b686edafd3a59a6e894f2d871b79438e'}], 'followers': {'total': 1120, 'href': None}, 'id': '3uCTdq9rOnPCAlJMc4OzGn'}, {'external_urls': {'spotify': 'https://open.spotify.com/artist/1789Un2gEvELbBTnHoS9Rl'}, 'popularity': 25, 'name': 'Molly Drake', 'genres': [], 'uri': 'spotify:artist:1789Un2gEvELbBTnHoS9Rl', 'type': 'artist', 'href': 'https://api.spotify.com/v1/artists/1789Un2gEvELbBTnHoS9Rl', 'images': [{'width': 500, 'height': 300, 'url': 'https://i.scdn.co/image/83e02935a38a48b49ab11cea406cb9bf979122dd'}, {'width': 200, 'height': 120, 'url': 'https://i.scdn.co/image/1b565bc973abcf36a346eb01d6acd37de5aca33e'}, {'width': 63, 'height': 38, 'url': 'https://i.scdn.co/image/6b7629f368fab6cfdcdbdd4fd821549fbbcb808d'}], 'followers': {'total': 2157, 'href': None}, 'id': '1789Un2gEvELbBTnHoS9Rl'}, {'external_urls': {'spotify': 'https://open.spotify.com/artist/5QDvl1vOkRT0hL6eFmCN9q'}, 'popularity': 17, 'name': 'Bassnectar & Seth Drake', 'genres': [], 'uri': 'spotify:artist:5QDvl1vOkRT0hL6eFmCN9q', 'type': 'artist', 'href': 'https://api.spotify.com/v1/artists/5QDvl1vOkRT0hL6eFmCN9q', 'images': [], 'followers': {'total': 658, 'href': None}, 'id': '5QDvl1vOkRT0hL6eFmCN9q'}, {'external_urls': {'spotify': 'https://open.spotify.com/artist/7DDaQqjdIkLxhp1jQyxLux'}, 'popularity': 15, 'name': 'Alfred Drake', 'genres': [], 'uri': 'spotify:artist:7DDaQqjdIkLxhp1jQyxLux', 'type': 'artist', 'href': 'https://api.spotify.com/v1/artists/7DDaQqjdIkLxhp1jQyxLux', 'images': [{'width': 640, 'height': 640, 'url': 'https://i.scdn.co/image/757dac6c0599ab1e8809f2e5112bd3655d8aaa10'}, {'width': 300, 'height': 300, 'url': 'https://i.scdn.co/image/051471b0f717d7ed73875f26145f173ec6393160'}, {'width': 64, 'height': 64, 'url': 'https://i.scdn.co/image/5421ca18d723b4e89ddf1eae7b5fe57b16739c77'}], 'followers': {'total': 400, 'href': None}, 'id': '7DDaQqjdIkLxhp1jQyxLux'}, {'external_urls': {'spotify': 'https://open.spotify.com/artist/2ekAQJaUrnLWfvamRRQwom'}, 'popularity': 23, 'name': 'Drakensang', 'genres': [], 'uri': 'spotify:artist:2ekAQJaUrnLWfvamRRQwom', 'type': 'artist', 'href': 'https://api.spotify.com/v1/artists/2ekAQJaUrnLWfvamRRQwom', 'images': [{'width': 600, 'height': 600, 'url': 'https://i.scdn.co/image/59145c35666291e0ebab5289681383d121bb28b4'}, {'width': 300, 'height': 300, 'url': 'https://i.scdn.co/image/cb9c94e29279d861512b94ba180b0408975b28b8'}, {'width': 64, 'height': 64, 'url': 'https://i.scdn.co/image/63a4904e60531f93e09cd05ce87073a277c1cfdc'}], 'followers': {'total': 330, 'href': None}, 'id': '2ekAQJaUrnLWfvamRRQwom'}, {'external_urls': {'spotify': 'https://open.spotify.com/artist/7rvB7ONJSqlmaCrcbhelir'}, 'popularity': 21, 'name': 'Jamie Drake', 'genres': [], 'uri': 'spotify:artist:7rvB7ONJSqlmaCrcbhelir', 'type': 'artist', 'href': 'https://api.spotify.com/v1/artists/7rvB7ONJSqlmaCrcbhelir', 'images': [{'width': 640, 'height': 640, 'url': 'https://i.scdn.co/image/f4a7ebf688bd4340eda55fea95309953394d355c'}, {'width': 300, 'height': 300, 'url': 'https://i.scdn.co/image/0408b4c1d05369019b7f163fbd379276354c10d8'}, {'width': 64, 'height': 64, 'url': 'https://i.scdn.co/image/57c0c9442e28943425cc4b28a48b9c6dbb4a7ebb'}], 'followers': {'total': 50, 'href': None}, 'id': '7rvB7ONJSqlmaCrcbhelir'}, {'external_urls': {'spotify': 'https://open.spotify.com/artist/46GXJl0nSqR7iavieZqpuc'}, 'popularity': 11, 'name': 'Dusty Drake', 'genres': [], 'uri': 'spotify:artist:46GXJl0nSqR7iavieZqpuc', 'type': 'artist', 'href': 'https://api.spotify.com/v1/artists/46GXJl0nSqR7iavieZqpuc', 'images': [{'width': 600, 'height': 765, 'url': 'https://i.scdn.co/image/290358e27f69ab57772eaea3042eda8aa53e40fd'}, {'width': 200, 'height': 255, 'url': 'https://i.scdn.co/image/d3b0616a6273bb187f83e851803ed815e4c975d8'}, {'width': 64, 'height': 82, 'url': 'https://i.scdn.co/image/efc86ded885372e547726b93acd47df882f856f5'}], 'followers': {'total': 164, 'href': None}, 'id': '46GXJl0nSqR7iavieZqpuc'}], 'previous': None, 'limit': 20, 'total': 361, 'next': 'https://api.spotify.com/v1/search?query=drake&offset=20&limit=20&type=artist', 'href': 'https://api.spotify.com/v1/search?query=drake&offset=0&limit=20&type=artist', 'offset': 0}}\n"
     ]
    }
   ],
   "source": [
    "# try to look at data\n",
    "print (data)"
   ]
  },
  {
   "cell_type": "code",
   "execution_count": 3,
   "metadata": {
    "collapsed": false
   },
   "outputs": [
    {
     "name": "stdout",
     "output_type": "stream",
     "text": [
      "<class 'dict'>\n"
     ]
    }
   ],
   "source": [
    "# that's a little overwhelming,\n",
    "# let's examine the data type of ... data\n",
    "print (type (data))"
   ]
  },
  {
   "cell_type": "code",
   "execution_count": 6,
   "metadata": {
    "collapsed": false
   },
   "outputs": [
    {
     "name": "stdout",
     "output_type": "stream",
     "text": [
      "<built-in method keys of dict object at 0x0000000004E08BC8>\n",
      "dict_keys(['artists'])\n"
     ]
    }
   ],
   "source": [
    "#try to get the keys out\n",
    "print(data.keys)\n",
    "\n",
    "# it's a METHOD so we need to use parens, een if they are empty\n",
    "# if you see 'built-in method blah blah' use ()\n",
    "print(data.keys())"
   ]
  },
  {
   "cell_type": "code",
   "execution_count": 7,
   "metadata": {
    "collapsed": false,
    "scrolled": true
   },
   "outputs": [
    {
     "name": "stdout",
     "output_type": "stream",
     "text": [
      "{'items': [{'external_urls': {'spotify': 'https://open.spotify.com/artist/3TVXtAsR1Inumwj472S9r4'}, 'popularity': 100, 'name': 'Drake', 'genres': ['indie r&b', 'pop rap'], 'uri': 'spotify:artist:3TVXtAsR1Inumwj472S9r4', 'type': 'artist', 'href': 'https://api.spotify.com/v1/artists/3TVXtAsR1Inumwj472S9r4', 'images': [{'width': 1000, 'height': 997, 'url': 'https://i.scdn.co/image/d90899d09be8083e52f87d9f6a30fd5750bc0a4d'}, {'width': 640, 'height': 638, 'url': 'https://i.scdn.co/image/068ae749ee9825fcecc1a0f82ead09aaa8440228'}, {'width': 200, 'height': 199, 'url': 'https://i.scdn.co/image/94c531c2ed71ce23d704d7f63a168c0287bbbb23'}, {'width': 64, 'height': 64, 'url': 'https://i.scdn.co/image/d1d6016c698703ba4933461ff5acbfe112877b48'}], 'followers': {'total': 5771130, 'href': None}, 'id': '3TVXtAsR1Inumwj472S9r4'}, {'external_urls': {'spotify': 'https://open.spotify.com/artist/5c3GLXai8YOMid29ZEuR9y'}, 'popularity': 58, 'name': 'Nick Drake', 'genres': [], 'uri': 'spotify:artist:5c3GLXai8YOMid29ZEuR9y', 'type': 'artist', 'href': 'https://api.spotify.com/v1/artists/5c3GLXai8YOMid29ZEuR9y', 'images': [{'width': 1000, 'height': 1484, 'url': 'https://i.scdn.co/image/39692b2b6f17854a2b2ed55de88102b185db18a5'}, {'width': 640, 'height': 950, 'url': 'https://i.scdn.co/image/e1997083cbfa8a36efdbd4118e47e0d79058e4ad'}, {'width': 200, 'height': 297, 'url': 'https://i.scdn.co/image/b7768f961e4a00b2d8358ccfcd97dcb9cbdac9ee'}, {'width': 64, 'height': 95, 'url': 'https://i.scdn.co/image/c3592435112aea7fe9fe9bd5b091548c0218e426'}], 'followers': {'total': 162874, 'href': None}, 'id': '5c3GLXai8YOMid29ZEuR9y'}, {'external_urls': {'spotify': 'https://open.spotify.com/artist/29ijED2bnnprp2TciAK1aO'}, 'popularity': 49, 'name': 'Drake White', 'genres': [], 'uri': 'spotify:artist:29ijED2bnnprp2TciAK1aO', 'type': 'artist', 'href': 'https://api.spotify.com/v1/artists/29ijED2bnnprp2TciAK1aO', 'images': [{'width': 1000, 'height': 563, 'url': 'https://i.scdn.co/image/d63ac9fa12d21eedf751f45ed7fd1ae74dee14dd'}, {'width': 640, 'height': 360, 'url': 'https://i.scdn.co/image/58873e8423e7820214ecefa540adfbeece54bd78'}, {'width': 200, 'height': 113, 'url': 'https://i.scdn.co/image/de0dfa90f15929a6dfa38026ebadfafa55c8af68'}, {'width': 64, 'height': 36, 'url': 'https://i.scdn.co/image/e31d5031397abc11fd55cc2cab64439d07d850f9'}], 'followers': {'total': 6429, 'href': None}, 'id': '29ijED2bnnprp2TciAK1aO'}, {'external_urls': {'spotify': 'https://open.spotify.com/artist/2Iqn8dbh4BvojpUyzWYnHg'}, 'popularity': 55, 'name': 'Drake', 'genres': [], 'uri': 'spotify:artist:2Iqn8dbh4BvojpUyzWYnHg', 'type': 'artist', 'href': 'https://api.spotify.com/v1/artists/2Iqn8dbh4BvojpUyzWYnHg', 'images': [{'width': 640, 'height': 640, 'url': 'https://i.scdn.co/image/3954171b526768826cd09d2249cd8c0428e54839'}, {'width': 300, 'height': 300, 'url': 'https://i.scdn.co/image/a3bbcc9519a74b8621df2cc2b1ef25abfd5de670'}, {'width': 64, 'height': 64, 'url': 'https://i.scdn.co/image/61e1e73d925e69ea504c09c448fd70f76d3a750b'}], 'followers': {'total': 804, 'href': None}, 'id': '2Iqn8dbh4BvojpUyzWYnHg'}, {'external_urls': {'spotify': 'https://open.spotify.com/artist/03ilIKH0i08IxmjKcn63ne'}, 'popularity': 46, 'name': 'Drake Bell', 'genres': [], 'uri': 'spotify:artist:03ilIKH0i08IxmjKcn63ne', 'type': 'artist', 'href': 'https://api.spotify.com/v1/artists/03ilIKH0i08IxmjKcn63ne', 'images': [{'width': 1000, 'height': 1500, 'url': 'https://i.scdn.co/image/69b912fb1875aed3316098d40dccb3565017306d'}, {'width': 640, 'height': 960, 'url': 'https://i.scdn.co/image/17a4baa53578c2b0ce9f3e9816dc143f69adc011'}, {'width': 200, 'height': 300, 'url': 'https://i.scdn.co/image/8d151cd5c0dc30136637609b0a3e24d5881c1528'}, {'width': 64, 'height': 96, 'url': 'https://i.scdn.co/image/24126809e024c6628f990cf7eefbe4088c72b94a'}], 'followers': {'total': 68902, 'href': None}, 'id': '03ilIKH0i08IxmjKcn63ne'}, {'external_urls': {'spotify': 'https://open.spotify.com/artist/2m5ti7YuYYCVs8xfZgnVkx'}, 'popularity': 44, 'name': 'Drake', 'genres': [], 'uri': 'spotify:artist:2m5ti7YuYYCVs8xfZgnVkx', 'type': 'artist', 'href': 'https://api.spotify.com/v1/artists/2m5ti7YuYYCVs8xfZgnVkx', 'images': [{'width': 640, 'height': 640, 'url': 'https://i.scdn.co/image/8e9cea48d0e6cbf215f111066178eab2cb1e348e'}, {'width': 300, 'height': 300, 'url': 'https://i.scdn.co/image/5704ba810662d682040160ef8036603ed813153c'}, {'width': 64, 'height': 64, 'url': 'https://i.scdn.co/image/d67b71534401fc52bc59ead89238b7106105b0c0'}], 'followers': {'total': 12002, 'href': None}, 'id': '2m5ti7YuYYCVs8xfZgnVkx'}, {'external_urls': {'spotify': 'https://open.spotify.com/artist/0Jm1S6ygzF2F9XYWJCf6Hu'}, 'popularity': 36, 'name': 'Drake Chisholm', 'genres': [], 'uri': 'spotify:artist:0Jm1S6ygzF2F9XYWJCf6Hu', 'type': 'artist', 'href': 'https://api.spotify.com/v1/artists/0Jm1S6ygzF2F9XYWJCf6Hu', 'images': [{'width': 640, 'height': 640, 'url': 'https://i.scdn.co/image/8628c47700634d55d680ac24661355eb54a80f64'}, {'width': 300, 'height': 300, 'url': 'https://i.scdn.co/image/8d76f3c3b4515dec094e17e1f047199f692930fd'}, {'width': 64, 'height': 64, 'url': 'https://i.scdn.co/image/81b13cb7b3f67034cb8b24e1e903039e0d5cdf2c'}], 'followers': {'total': 131, 'href': None}, 'id': '0Jm1S6ygzF2F9XYWJCf6Hu'}, {'external_urls': {'spotify': 'https://open.spotify.com/artist/3KLA7mvD10XxcjRbo3uTdB'}, 'popularity': 37, 'name': 'Christopher Drake', 'genres': [], 'uri': 'spotify:artist:3KLA7mvD10XxcjRbo3uTdB', 'type': 'artist', 'href': 'https://api.spotify.com/v1/artists/3KLA7mvD10XxcjRbo3uTdB', 'images': [{'width': 640, 'height': 640, 'url': 'https://i.scdn.co/image/04e190e7c4bf77f01c4d68fb7db9f777cfde9eb0'}, {'width': 300, 'height': 300, 'url': 'https://i.scdn.co/image/ce4092fc8a34b0360d07c7444aaa53e4311b481a'}, {'width': 64, 'height': 64, 'url': 'https://i.scdn.co/image/c825b69068180726adcfe0bcd6463c2c2e3fc9cb'}], 'followers': {'total': 1522, 'href': None}, 'id': '3KLA7mvD10XxcjRbo3uTdB'}, {'external_urls': {'spotify': 'https://open.spotify.com/artist/2y7pPMQioLwMFUKhK9Pyow'}, 'popularity': 35, 'name': 'Eleni Drake', 'genres': [], 'uri': 'spotify:artist:2y7pPMQioLwMFUKhK9Pyow', 'type': 'artist', 'href': 'https://api.spotify.com/v1/artists/2y7pPMQioLwMFUKhK9Pyow', 'images': [], 'followers': {'total': 37, 'href': None}, 'id': '2y7pPMQioLwMFUKhK9Pyow'}, {'external_urls': {'spotify': 'https://open.spotify.com/artist/5wzXzlWJdkALT4P8pywiau'}, 'popularity': 26, 'name': 'Seth Drake', 'genres': [], 'uri': 'spotify:artist:5wzXzlWJdkALT4P8pywiau', 'type': 'artist', 'href': 'https://api.spotify.com/v1/artists/5wzXzlWJdkALT4P8pywiau', 'images': [], 'followers': {'total': 39, 'href': None}, 'id': '5wzXzlWJdkALT4P8pywiau'}, {'external_urls': {'spotify': 'https://open.spotify.com/artist/1xDIDfyzRo8HNGsLp4JfzO'}, 'popularity': 23, 'name': 'Ludwig Von Drake', 'genres': [], 'uri': 'spotify:artist:1xDIDfyzRo8HNGsLp4JfzO', 'type': 'artist', 'href': 'https://api.spotify.com/v1/artists/1xDIDfyzRo8HNGsLp4JfzO', 'images': [], 'followers': {'total': 170, 'href': None}, 'id': '1xDIDfyzRo8HNGsLp4JfzO'}, {'external_urls': {'spotify': 'https://open.spotify.com/artist/2HT2RkwWZ38SYMzBcLE9Ty'}, 'popularity': 26, 'name': 'Romeo Santos Ft Drake', 'genres': [], 'uri': 'spotify:artist:2HT2RkwWZ38SYMzBcLE9Ty', 'type': 'artist', 'href': 'https://api.spotify.com/v1/artists/2HT2RkwWZ38SYMzBcLE9Ty', 'images': [], 'followers': {'total': 859, 'href': None}, 'id': '2HT2RkwWZ38SYMzBcLE9Ty'}, {'external_urls': {'spotify': 'https://open.spotify.com/artist/1t2vamW3e4TNHlKeDMmaUA'}, 'popularity': 22, 'name': 'Lil Wayne feat. Drake', 'genres': [], 'uri': 'spotify:artist:1t2vamW3e4TNHlKeDMmaUA', 'type': 'artist', 'href': 'https://api.spotify.com/v1/artists/1t2vamW3e4TNHlKeDMmaUA', 'images': [], 'followers': {'total': 1710, 'href': None}, 'id': '1t2vamW3e4TNHlKeDMmaUA'}, {'external_urls': {'spotify': 'https://open.spotify.com/artist/3uCTdq9rOnPCAlJMc4OzGn'}, 'popularity': 26, 'name': 'Julius Drake', 'genres': [], 'uri': 'spotify:artist:3uCTdq9rOnPCAlJMc4OzGn', 'type': 'artist', 'href': 'https://api.spotify.com/v1/artists/3uCTdq9rOnPCAlJMc4OzGn', 'images': [{'width': 200, 'height': 226, 'url': 'https://i.scdn.co/image/1ca5bc28ffd6eaa4b8941dfa7a3da0ac92e064f0'}, {'width': 64, 'height': 72, 'url': 'https://i.scdn.co/image/f30f7717b686edafd3a59a6e894f2d871b79438e'}], 'followers': {'total': 1120, 'href': None}, 'id': '3uCTdq9rOnPCAlJMc4OzGn'}, {'external_urls': {'spotify': 'https://open.spotify.com/artist/1789Un2gEvELbBTnHoS9Rl'}, 'popularity': 25, 'name': 'Molly Drake', 'genres': [], 'uri': 'spotify:artist:1789Un2gEvELbBTnHoS9Rl', 'type': 'artist', 'href': 'https://api.spotify.com/v1/artists/1789Un2gEvELbBTnHoS9Rl', 'images': [{'width': 500, 'height': 300, 'url': 'https://i.scdn.co/image/83e02935a38a48b49ab11cea406cb9bf979122dd'}, {'width': 200, 'height': 120, 'url': 'https://i.scdn.co/image/1b565bc973abcf36a346eb01d6acd37de5aca33e'}, {'width': 63, 'height': 38, 'url': 'https://i.scdn.co/image/6b7629f368fab6cfdcdbdd4fd821549fbbcb808d'}], 'followers': {'total': 2157, 'href': None}, 'id': '1789Un2gEvELbBTnHoS9Rl'}, {'external_urls': {'spotify': 'https://open.spotify.com/artist/5QDvl1vOkRT0hL6eFmCN9q'}, 'popularity': 17, 'name': 'Bassnectar & Seth Drake', 'genres': [], 'uri': 'spotify:artist:5QDvl1vOkRT0hL6eFmCN9q', 'type': 'artist', 'href': 'https://api.spotify.com/v1/artists/5QDvl1vOkRT0hL6eFmCN9q', 'images': [], 'followers': {'total': 658, 'href': None}, 'id': '5QDvl1vOkRT0hL6eFmCN9q'}, {'external_urls': {'spotify': 'https://open.spotify.com/artist/7DDaQqjdIkLxhp1jQyxLux'}, 'popularity': 15, 'name': 'Alfred Drake', 'genres': [], 'uri': 'spotify:artist:7DDaQqjdIkLxhp1jQyxLux', 'type': 'artist', 'href': 'https://api.spotify.com/v1/artists/7DDaQqjdIkLxhp1jQyxLux', 'images': [{'width': 640, 'height': 640, 'url': 'https://i.scdn.co/image/757dac6c0599ab1e8809f2e5112bd3655d8aaa10'}, {'width': 300, 'height': 300, 'url': 'https://i.scdn.co/image/051471b0f717d7ed73875f26145f173ec6393160'}, {'width': 64, 'height': 64, 'url': 'https://i.scdn.co/image/5421ca18d723b4e89ddf1eae7b5fe57b16739c77'}], 'followers': {'total': 400, 'href': None}, 'id': '7DDaQqjdIkLxhp1jQyxLux'}, {'external_urls': {'spotify': 'https://open.spotify.com/artist/2ekAQJaUrnLWfvamRRQwom'}, 'popularity': 23, 'name': 'Drakensang', 'genres': [], 'uri': 'spotify:artist:2ekAQJaUrnLWfvamRRQwom', 'type': 'artist', 'href': 'https://api.spotify.com/v1/artists/2ekAQJaUrnLWfvamRRQwom', 'images': [{'width': 600, 'height': 600, 'url': 'https://i.scdn.co/image/59145c35666291e0ebab5289681383d121bb28b4'}, {'width': 300, 'height': 300, 'url': 'https://i.scdn.co/image/cb9c94e29279d861512b94ba180b0408975b28b8'}, {'width': 64, 'height': 64, 'url': 'https://i.scdn.co/image/63a4904e60531f93e09cd05ce87073a277c1cfdc'}], 'followers': {'total': 330, 'href': None}, 'id': '2ekAQJaUrnLWfvamRRQwom'}, {'external_urls': {'spotify': 'https://open.spotify.com/artist/7rvB7ONJSqlmaCrcbhelir'}, 'popularity': 21, 'name': 'Jamie Drake', 'genres': [], 'uri': 'spotify:artist:7rvB7ONJSqlmaCrcbhelir', 'type': 'artist', 'href': 'https://api.spotify.com/v1/artists/7rvB7ONJSqlmaCrcbhelir', 'images': [{'width': 640, 'height': 640, 'url': 'https://i.scdn.co/image/f4a7ebf688bd4340eda55fea95309953394d355c'}, {'width': 300, 'height': 300, 'url': 'https://i.scdn.co/image/0408b4c1d05369019b7f163fbd379276354c10d8'}, {'width': 64, 'height': 64, 'url': 'https://i.scdn.co/image/57c0c9442e28943425cc4b28a48b9c6dbb4a7ebb'}], 'followers': {'total': 50, 'href': None}, 'id': '7rvB7ONJSqlmaCrcbhelir'}, {'external_urls': {'spotify': 'https://open.spotify.com/artist/46GXJl0nSqR7iavieZqpuc'}, 'popularity': 11, 'name': 'Dusty Drake', 'genres': [], 'uri': 'spotify:artist:46GXJl0nSqR7iavieZqpuc', 'type': 'artist', 'href': 'https://api.spotify.com/v1/artists/46GXJl0nSqR7iavieZqpuc', 'images': [{'width': 600, 'height': 765, 'url': 'https://i.scdn.co/image/290358e27f69ab57772eaea3042eda8aa53e40fd'}, {'width': 200, 'height': 255, 'url': 'https://i.scdn.co/image/d3b0616a6273bb187f83e851803ed815e4c975d8'}, {'width': 64, 'height': 82, 'url': 'https://i.scdn.co/image/efc86ded885372e547726b93acd47df882f856f5'}], 'followers': {'total': 164, 'href': None}, 'id': '46GXJl0nSqR7iavieZqpuc'}], 'previous': None, 'limit': 20, 'total': 361, 'next': 'https://api.spotify.com/v1/search?query=drake&offset=20&limit=20&type=artist', 'href': 'https://api.spotify.com/v1/search?query=drake&offset=0&limit=20&type=artist', 'offset': 0}\n"
     ]
    }
   ],
   "source": [
    "# apparently it only has one, called 'artists'\n",
    "print (data['artists'])"
   ]
  },
  {
   "cell_type": "code",
   "execution_count": 8,
   "metadata": {
    "collapsed": false
   },
   "outputs": [
    {
     "name": "stdout",
     "output_type": "stream",
     "text": [
      "dict_keys(['items', 'previous', 'limit', 'total', 'next', 'href', 'offset'])\n"
     ]
    }
   ],
   "source": [
    "# it is also dictionary, so let's get the keys\n",
    "print (data['artists'].keys())"
   ]
  },
  {
   "cell_type": "code",
   "execution_count": 9,
   "metadata": {
    "collapsed": true
   },
   "outputs": [],
   "source": [
    "# if this seems confusing, you can alsp ,ale a new\n",
    "# variable out of data['artists']\n",
    "artist_data = data['artists']"
   ]
  },
  {
   "cell_type": "code",
   "execution_count": 10,
   "metadata": {
    "collapsed": false
   },
   "outputs": [
    {
     "name": "stdout",
     "output_type": "stream",
     "text": [
      "dict_keys(['items', 'previous', 'limit', 'total', 'next', 'href', 'offset'])\n"
     ]
    }
   ],
   "source": [
    "print (artist_data.keys())"
   ]
  },
  {
   "cell_type": "code",
   "execution_count": 12,
   "metadata": {
    "collapsed": false
   },
   "outputs": [
    {
     "name": "stdout",
     "output_type": "stream",
     "text": [
      "https://api.spotify.com/v1/search?query=drake&offset=20&limit=20&type=artist\n",
      "https://api.spotify.com/v1/search?query=drake&offset=0&limit=20&type=artist\n",
      "20\n"
     ]
    }
   ],
   "source": [
    "# 'next' is a key inside of data ['artists'], so\n",
    "# we can look at it by using the following\n",
    "print (data['artists']['next'])\n",
    "print (data['artists']['href'])\n",
    "print (data['artists']['limit'])"
   ]
  },
  {
   "cell_type": "code",
   "execution_count": 13,
   "metadata": {
    "collapsed": false,
    "scrolled": true
   },
   "outputs": [
    {
     "name": "stdout",
     "output_type": "stream",
     "text": [
      "[{'external_urls': {'spotify': 'https://open.spotify.com/artist/3TVXtAsR1Inumwj472S9r4'}, 'popularity': 100, 'name': 'Drake', 'genres': ['indie r&b', 'pop rap'], 'uri': 'spotify:artist:3TVXtAsR1Inumwj472S9r4', 'type': 'artist', 'href': 'https://api.spotify.com/v1/artists/3TVXtAsR1Inumwj472S9r4', 'images': [{'width': 1000, 'height': 997, 'url': 'https://i.scdn.co/image/d90899d09be8083e52f87d9f6a30fd5750bc0a4d'}, {'width': 640, 'height': 638, 'url': 'https://i.scdn.co/image/068ae749ee9825fcecc1a0f82ead09aaa8440228'}, {'width': 200, 'height': 199, 'url': 'https://i.scdn.co/image/94c531c2ed71ce23d704d7f63a168c0287bbbb23'}, {'width': 64, 'height': 64, 'url': 'https://i.scdn.co/image/d1d6016c698703ba4933461ff5acbfe112877b48'}], 'followers': {'total': 5771130, 'href': None}, 'id': '3TVXtAsR1Inumwj472S9r4'}, {'external_urls': {'spotify': 'https://open.spotify.com/artist/5c3GLXai8YOMid29ZEuR9y'}, 'popularity': 58, 'name': 'Nick Drake', 'genres': [], 'uri': 'spotify:artist:5c3GLXai8YOMid29ZEuR9y', 'type': 'artist', 'href': 'https://api.spotify.com/v1/artists/5c3GLXai8YOMid29ZEuR9y', 'images': [{'width': 1000, 'height': 1484, 'url': 'https://i.scdn.co/image/39692b2b6f17854a2b2ed55de88102b185db18a5'}, {'width': 640, 'height': 950, 'url': 'https://i.scdn.co/image/e1997083cbfa8a36efdbd4118e47e0d79058e4ad'}, {'width': 200, 'height': 297, 'url': 'https://i.scdn.co/image/b7768f961e4a00b2d8358ccfcd97dcb9cbdac9ee'}, {'width': 64, 'height': 95, 'url': 'https://i.scdn.co/image/c3592435112aea7fe9fe9bd5b091548c0218e426'}], 'followers': {'total': 162874, 'href': None}, 'id': '5c3GLXai8YOMid29ZEuR9y'}, {'external_urls': {'spotify': 'https://open.spotify.com/artist/29ijED2bnnprp2TciAK1aO'}, 'popularity': 49, 'name': 'Drake White', 'genres': [], 'uri': 'spotify:artist:29ijED2bnnprp2TciAK1aO', 'type': 'artist', 'href': 'https://api.spotify.com/v1/artists/29ijED2bnnprp2TciAK1aO', 'images': [{'width': 1000, 'height': 563, 'url': 'https://i.scdn.co/image/d63ac9fa12d21eedf751f45ed7fd1ae74dee14dd'}, {'width': 640, 'height': 360, 'url': 'https://i.scdn.co/image/58873e8423e7820214ecefa540adfbeece54bd78'}, {'width': 200, 'height': 113, 'url': 'https://i.scdn.co/image/de0dfa90f15929a6dfa38026ebadfafa55c8af68'}, {'width': 64, 'height': 36, 'url': 'https://i.scdn.co/image/e31d5031397abc11fd55cc2cab64439d07d850f9'}], 'followers': {'total': 6429, 'href': None}, 'id': '29ijED2bnnprp2TciAK1aO'}, {'external_urls': {'spotify': 'https://open.spotify.com/artist/2Iqn8dbh4BvojpUyzWYnHg'}, 'popularity': 55, 'name': 'Drake', 'genres': [], 'uri': 'spotify:artist:2Iqn8dbh4BvojpUyzWYnHg', 'type': 'artist', 'href': 'https://api.spotify.com/v1/artists/2Iqn8dbh4BvojpUyzWYnHg', 'images': [{'width': 640, 'height': 640, 'url': 'https://i.scdn.co/image/3954171b526768826cd09d2249cd8c0428e54839'}, {'width': 300, 'height': 300, 'url': 'https://i.scdn.co/image/a3bbcc9519a74b8621df2cc2b1ef25abfd5de670'}, {'width': 64, 'height': 64, 'url': 'https://i.scdn.co/image/61e1e73d925e69ea504c09c448fd70f76d3a750b'}], 'followers': {'total': 804, 'href': None}, 'id': '2Iqn8dbh4BvojpUyzWYnHg'}, {'external_urls': {'spotify': 'https://open.spotify.com/artist/03ilIKH0i08IxmjKcn63ne'}, 'popularity': 46, 'name': 'Drake Bell', 'genres': [], 'uri': 'spotify:artist:03ilIKH0i08IxmjKcn63ne', 'type': 'artist', 'href': 'https://api.spotify.com/v1/artists/03ilIKH0i08IxmjKcn63ne', 'images': [{'width': 1000, 'height': 1500, 'url': 'https://i.scdn.co/image/69b912fb1875aed3316098d40dccb3565017306d'}, {'width': 640, 'height': 960, 'url': 'https://i.scdn.co/image/17a4baa53578c2b0ce9f3e9816dc143f69adc011'}, {'width': 200, 'height': 300, 'url': 'https://i.scdn.co/image/8d151cd5c0dc30136637609b0a3e24d5881c1528'}, {'width': 64, 'height': 96, 'url': 'https://i.scdn.co/image/24126809e024c6628f990cf7eefbe4088c72b94a'}], 'followers': {'total': 68902, 'href': None}, 'id': '03ilIKH0i08IxmjKcn63ne'}, {'external_urls': {'spotify': 'https://open.spotify.com/artist/2m5ti7YuYYCVs8xfZgnVkx'}, 'popularity': 44, 'name': 'Drake', 'genres': [], 'uri': 'spotify:artist:2m5ti7YuYYCVs8xfZgnVkx', 'type': 'artist', 'href': 'https://api.spotify.com/v1/artists/2m5ti7YuYYCVs8xfZgnVkx', 'images': [{'width': 640, 'height': 640, 'url': 'https://i.scdn.co/image/8e9cea48d0e6cbf215f111066178eab2cb1e348e'}, {'width': 300, 'height': 300, 'url': 'https://i.scdn.co/image/5704ba810662d682040160ef8036603ed813153c'}, {'width': 64, 'height': 64, 'url': 'https://i.scdn.co/image/d67b71534401fc52bc59ead89238b7106105b0c0'}], 'followers': {'total': 12002, 'href': None}, 'id': '2m5ti7YuYYCVs8xfZgnVkx'}, {'external_urls': {'spotify': 'https://open.spotify.com/artist/0Jm1S6ygzF2F9XYWJCf6Hu'}, 'popularity': 36, 'name': 'Drake Chisholm', 'genres': [], 'uri': 'spotify:artist:0Jm1S6ygzF2F9XYWJCf6Hu', 'type': 'artist', 'href': 'https://api.spotify.com/v1/artists/0Jm1S6ygzF2F9XYWJCf6Hu', 'images': [{'width': 640, 'height': 640, 'url': 'https://i.scdn.co/image/8628c47700634d55d680ac24661355eb54a80f64'}, {'width': 300, 'height': 300, 'url': 'https://i.scdn.co/image/8d76f3c3b4515dec094e17e1f047199f692930fd'}, {'width': 64, 'height': 64, 'url': 'https://i.scdn.co/image/81b13cb7b3f67034cb8b24e1e903039e0d5cdf2c'}], 'followers': {'total': 131, 'href': None}, 'id': '0Jm1S6ygzF2F9XYWJCf6Hu'}, {'external_urls': {'spotify': 'https://open.spotify.com/artist/3KLA7mvD10XxcjRbo3uTdB'}, 'popularity': 37, 'name': 'Christopher Drake', 'genres': [], 'uri': 'spotify:artist:3KLA7mvD10XxcjRbo3uTdB', 'type': 'artist', 'href': 'https://api.spotify.com/v1/artists/3KLA7mvD10XxcjRbo3uTdB', 'images': [{'width': 640, 'height': 640, 'url': 'https://i.scdn.co/image/04e190e7c4bf77f01c4d68fb7db9f777cfde9eb0'}, {'width': 300, 'height': 300, 'url': 'https://i.scdn.co/image/ce4092fc8a34b0360d07c7444aaa53e4311b481a'}, {'width': 64, 'height': 64, 'url': 'https://i.scdn.co/image/c825b69068180726adcfe0bcd6463c2c2e3fc9cb'}], 'followers': {'total': 1522, 'href': None}, 'id': '3KLA7mvD10XxcjRbo3uTdB'}, {'external_urls': {'spotify': 'https://open.spotify.com/artist/2y7pPMQioLwMFUKhK9Pyow'}, 'popularity': 35, 'name': 'Eleni Drake', 'genres': [], 'uri': 'spotify:artist:2y7pPMQioLwMFUKhK9Pyow', 'type': 'artist', 'href': 'https://api.spotify.com/v1/artists/2y7pPMQioLwMFUKhK9Pyow', 'images': [], 'followers': {'total': 37, 'href': None}, 'id': '2y7pPMQioLwMFUKhK9Pyow'}, {'external_urls': {'spotify': 'https://open.spotify.com/artist/5wzXzlWJdkALT4P8pywiau'}, 'popularity': 26, 'name': 'Seth Drake', 'genres': [], 'uri': 'spotify:artist:5wzXzlWJdkALT4P8pywiau', 'type': 'artist', 'href': 'https://api.spotify.com/v1/artists/5wzXzlWJdkALT4P8pywiau', 'images': [], 'followers': {'total': 39, 'href': None}, 'id': '5wzXzlWJdkALT4P8pywiau'}, {'external_urls': {'spotify': 'https://open.spotify.com/artist/1xDIDfyzRo8HNGsLp4JfzO'}, 'popularity': 23, 'name': 'Ludwig Von Drake', 'genres': [], 'uri': 'spotify:artist:1xDIDfyzRo8HNGsLp4JfzO', 'type': 'artist', 'href': 'https://api.spotify.com/v1/artists/1xDIDfyzRo8HNGsLp4JfzO', 'images': [], 'followers': {'total': 170, 'href': None}, 'id': '1xDIDfyzRo8HNGsLp4JfzO'}, {'external_urls': {'spotify': 'https://open.spotify.com/artist/2HT2RkwWZ38SYMzBcLE9Ty'}, 'popularity': 26, 'name': 'Romeo Santos Ft Drake', 'genres': [], 'uri': 'spotify:artist:2HT2RkwWZ38SYMzBcLE9Ty', 'type': 'artist', 'href': 'https://api.spotify.com/v1/artists/2HT2RkwWZ38SYMzBcLE9Ty', 'images': [], 'followers': {'total': 859, 'href': None}, 'id': '2HT2RkwWZ38SYMzBcLE9Ty'}, {'external_urls': {'spotify': 'https://open.spotify.com/artist/1t2vamW3e4TNHlKeDMmaUA'}, 'popularity': 22, 'name': 'Lil Wayne feat. Drake', 'genres': [], 'uri': 'spotify:artist:1t2vamW3e4TNHlKeDMmaUA', 'type': 'artist', 'href': 'https://api.spotify.com/v1/artists/1t2vamW3e4TNHlKeDMmaUA', 'images': [], 'followers': {'total': 1710, 'href': None}, 'id': '1t2vamW3e4TNHlKeDMmaUA'}, {'external_urls': {'spotify': 'https://open.spotify.com/artist/3uCTdq9rOnPCAlJMc4OzGn'}, 'popularity': 26, 'name': 'Julius Drake', 'genres': [], 'uri': 'spotify:artist:3uCTdq9rOnPCAlJMc4OzGn', 'type': 'artist', 'href': 'https://api.spotify.com/v1/artists/3uCTdq9rOnPCAlJMc4OzGn', 'images': [{'width': 200, 'height': 226, 'url': 'https://i.scdn.co/image/1ca5bc28ffd6eaa4b8941dfa7a3da0ac92e064f0'}, {'width': 64, 'height': 72, 'url': 'https://i.scdn.co/image/f30f7717b686edafd3a59a6e894f2d871b79438e'}], 'followers': {'total': 1120, 'href': None}, 'id': '3uCTdq9rOnPCAlJMc4OzGn'}, {'external_urls': {'spotify': 'https://open.spotify.com/artist/1789Un2gEvELbBTnHoS9Rl'}, 'popularity': 25, 'name': 'Molly Drake', 'genres': [], 'uri': 'spotify:artist:1789Un2gEvELbBTnHoS9Rl', 'type': 'artist', 'href': 'https://api.spotify.com/v1/artists/1789Un2gEvELbBTnHoS9Rl', 'images': [{'width': 500, 'height': 300, 'url': 'https://i.scdn.co/image/83e02935a38a48b49ab11cea406cb9bf979122dd'}, {'width': 200, 'height': 120, 'url': 'https://i.scdn.co/image/1b565bc973abcf36a346eb01d6acd37de5aca33e'}, {'width': 63, 'height': 38, 'url': 'https://i.scdn.co/image/6b7629f368fab6cfdcdbdd4fd821549fbbcb808d'}], 'followers': {'total': 2157, 'href': None}, 'id': '1789Un2gEvELbBTnHoS9Rl'}, {'external_urls': {'spotify': 'https://open.spotify.com/artist/5QDvl1vOkRT0hL6eFmCN9q'}, 'popularity': 17, 'name': 'Bassnectar & Seth Drake', 'genres': [], 'uri': 'spotify:artist:5QDvl1vOkRT0hL6eFmCN9q', 'type': 'artist', 'href': 'https://api.spotify.com/v1/artists/5QDvl1vOkRT0hL6eFmCN9q', 'images': [], 'followers': {'total': 658, 'href': None}, 'id': '5QDvl1vOkRT0hL6eFmCN9q'}, {'external_urls': {'spotify': 'https://open.spotify.com/artist/7DDaQqjdIkLxhp1jQyxLux'}, 'popularity': 15, 'name': 'Alfred Drake', 'genres': [], 'uri': 'spotify:artist:7DDaQqjdIkLxhp1jQyxLux', 'type': 'artist', 'href': 'https://api.spotify.com/v1/artists/7DDaQqjdIkLxhp1jQyxLux', 'images': [{'width': 640, 'height': 640, 'url': 'https://i.scdn.co/image/757dac6c0599ab1e8809f2e5112bd3655d8aaa10'}, {'width': 300, 'height': 300, 'url': 'https://i.scdn.co/image/051471b0f717d7ed73875f26145f173ec6393160'}, {'width': 64, 'height': 64, 'url': 'https://i.scdn.co/image/5421ca18d723b4e89ddf1eae7b5fe57b16739c77'}], 'followers': {'total': 400, 'href': None}, 'id': '7DDaQqjdIkLxhp1jQyxLux'}, {'external_urls': {'spotify': 'https://open.spotify.com/artist/2ekAQJaUrnLWfvamRRQwom'}, 'popularity': 23, 'name': 'Drakensang', 'genres': [], 'uri': 'spotify:artist:2ekAQJaUrnLWfvamRRQwom', 'type': 'artist', 'href': 'https://api.spotify.com/v1/artists/2ekAQJaUrnLWfvamRRQwom', 'images': [{'width': 600, 'height': 600, 'url': 'https://i.scdn.co/image/59145c35666291e0ebab5289681383d121bb28b4'}, {'width': 300, 'height': 300, 'url': 'https://i.scdn.co/image/cb9c94e29279d861512b94ba180b0408975b28b8'}, {'width': 64, 'height': 64, 'url': 'https://i.scdn.co/image/63a4904e60531f93e09cd05ce87073a277c1cfdc'}], 'followers': {'total': 330, 'href': None}, 'id': '2ekAQJaUrnLWfvamRRQwom'}, {'external_urls': {'spotify': 'https://open.spotify.com/artist/7rvB7ONJSqlmaCrcbhelir'}, 'popularity': 21, 'name': 'Jamie Drake', 'genres': [], 'uri': 'spotify:artist:7rvB7ONJSqlmaCrcbhelir', 'type': 'artist', 'href': 'https://api.spotify.com/v1/artists/7rvB7ONJSqlmaCrcbhelir', 'images': [{'width': 640, 'height': 640, 'url': 'https://i.scdn.co/image/f4a7ebf688bd4340eda55fea95309953394d355c'}, {'width': 300, 'height': 300, 'url': 'https://i.scdn.co/image/0408b4c1d05369019b7f163fbd379276354c10d8'}, {'width': 64, 'height': 64, 'url': 'https://i.scdn.co/image/57c0c9442e28943425cc4b28a48b9c6dbb4a7ebb'}], 'followers': {'total': 50, 'href': None}, 'id': '7rvB7ONJSqlmaCrcbhelir'}, {'external_urls': {'spotify': 'https://open.spotify.com/artist/46GXJl0nSqR7iavieZqpuc'}, 'popularity': 11, 'name': 'Dusty Drake', 'genres': [], 'uri': 'spotify:artist:46GXJl0nSqR7iavieZqpuc', 'type': 'artist', 'href': 'https://api.spotify.com/v1/artists/46GXJl0nSqR7iavieZqpuc', 'images': [{'width': 600, 'height': 765, 'url': 'https://i.scdn.co/image/290358e27f69ab57772eaea3042eda8aa53e40fd'}, {'width': 200, 'height': 255, 'url': 'https://i.scdn.co/image/d3b0616a6273bb187f83e851803ed815e4c975d8'}, {'width': 64, 'height': 82, 'url': 'https://i.scdn.co/image/efc86ded885372e547726b93acd47df882f856f5'}], 'followers': {'total': 164, 'href': None}, 'id': '46GXJl0nSqR7iavieZqpuc'}]\n"
     ]
    }
   ],
   "source": [
    "#Luckily we stumble upon data ['artists']['items']\n",
    "print (data['artists']['items'])"
   ]
  },
  {
   "cell_type": "code",
   "execution_count": 15,
   "metadata": {
    "collapsed": false
   },
   "outputs": [
    {
     "name": "stdout",
     "output_type": "stream",
     "text": [
      "<class 'list'>\n"
     ]
    }
   ],
   "source": [
    "# what in got's name are you making us do\n",
    "print(type(data['artists']['items']))"
   ]
  },
  {
   "cell_type": "code",
   "execution_count": 16,
   "metadata": {
    "collapsed": false
   },
   "outputs": [
    {
     "name": "stdout",
     "output_type": "stream",
     "text": [
      "<class 'dict'>\n",
      "{'external_urls': {'spotify': 'https://open.spotify.com/artist/3TVXtAsR1Inumwj472S9r4'}, 'popularity': 100, 'name': 'Drake', 'genres': ['indie r&b', 'pop rap'], 'uri': 'spotify:artist:3TVXtAsR1Inumwj472S9r4', 'type': 'artist', 'href': 'https://api.spotify.com/v1/artists/3TVXtAsR1Inumwj472S9r4', 'images': [{'width': 1000, 'height': 997, 'url': 'https://i.scdn.co/image/d90899d09be8083e52f87d9f6a30fd5750bc0a4d'}, {'width': 640, 'height': 638, 'url': 'https://i.scdn.co/image/068ae749ee9825fcecc1a0f82ead09aaa8440228'}, {'width': 200, 'height': 199, 'url': 'https://i.scdn.co/image/94c531c2ed71ce23d704d7f63a168c0287bbbb23'}, {'width': 64, 'height': 64, 'url': 'https://i.scdn.co/image/d1d6016c698703ba4933461ff5acbfe112877b48'}], 'followers': {'total': 5771130, 'href': None}, 'id': '3TVXtAsR1Inumwj472S9r4'}\n"
     ]
    }
   ],
   "source": [
    "# in theory we could do this\n",
    "print(type(data['artists']['items'][0]))\n",
    "print((data['artists']['items'][0]))"
   ]
  },
  {
   "cell_type": "code",
   "execution_count": 17,
   "metadata": {
    "collapsed": true
   },
   "outputs": [],
   "source": [
    "artists = data['artists']['items']"
   ]
  },
  {
   "cell_type": "code",
   "execution_count": 18,
   "metadata": {
    "collapsed": true
   },
   "outputs": [
    {
     "name": "stdout",
     "output_type": "stream",
     "text": [
      "[{'external_urls': {'spotify': 'https://open.spotify.com/artist/3TVXtAsR1Inumwj472S9r4'}, 'popularity': 100, 'name': 'Drake', 'genres': ['indie r&b', 'pop rap'], 'uri': 'spotify:artist:3TVXtAsR1Inumwj472S9r4', 'type': 'artist', 'href': 'https://api.spotify.com/v1/artists/3TVXtAsR1Inumwj472S9r4', 'images': [{'width': 1000, 'height': 997, 'url': 'https://i.scdn.co/image/d90899d09be8083e52f87d9f6a30fd5750bc0a4d'}, {'width': 640, 'height': 638, 'url': 'https://i.scdn.co/image/068ae749ee9825fcecc1a0f82ead09aaa8440228'}, {'width': 200, 'height': 199, 'url': 'https://i.scdn.co/image/94c531c2ed71ce23d704d7f63a168c0287bbbb23'}, {'width': 64, 'height': 64, 'url': 'https://i.scdn.co/image/d1d6016c698703ba4933461ff5acbfe112877b48'}], 'followers': {'total': 5771130, 'href': None}, 'id': '3TVXtAsR1Inumwj472S9r4'}, {'external_urls': {'spotify': 'https://open.spotify.com/artist/5c3GLXai8YOMid29ZEuR9y'}, 'popularity': 58, 'name': 'Nick Drake', 'genres': [], 'uri': 'spotify:artist:5c3GLXai8YOMid29ZEuR9y', 'type': 'artist', 'href': 'https://api.spotify.com/v1/artists/5c3GLXai8YOMid29ZEuR9y', 'images': [{'width': 1000, 'height': 1484, 'url': 'https://i.scdn.co/image/39692b2b6f17854a2b2ed55de88102b185db18a5'}, {'width': 640, 'height': 950, 'url': 'https://i.scdn.co/image/e1997083cbfa8a36efdbd4118e47e0d79058e4ad'}, {'width': 200, 'height': 297, 'url': 'https://i.scdn.co/image/b7768f961e4a00b2d8358ccfcd97dcb9cbdac9ee'}, {'width': 64, 'height': 95, 'url': 'https://i.scdn.co/image/c3592435112aea7fe9fe9bd5b091548c0218e426'}], 'followers': {'total': 162874, 'href': None}, 'id': '5c3GLXai8YOMid29ZEuR9y'}, {'external_urls': {'spotify': 'https://open.spotify.com/artist/29ijED2bnnprp2TciAK1aO'}, 'popularity': 49, 'name': 'Drake White', 'genres': [], 'uri': 'spotify:artist:29ijED2bnnprp2TciAK1aO', 'type': 'artist', 'href': 'https://api.spotify.com/v1/artists/29ijED2bnnprp2TciAK1aO', 'images': [{'width': 1000, 'height': 563, 'url': 'https://i.scdn.co/image/d63ac9fa12d21eedf751f45ed7fd1ae74dee14dd'}, {'width': 640, 'height': 360, 'url': 'https://i.scdn.co/image/58873e8423e7820214ecefa540adfbeece54bd78'}, {'width': 200, 'height': 113, 'url': 'https://i.scdn.co/image/de0dfa90f15929a6dfa38026ebadfafa55c8af68'}, {'width': 64, 'height': 36, 'url': 'https://i.scdn.co/image/e31d5031397abc11fd55cc2cab64439d07d850f9'}], 'followers': {'total': 6429, 'href': None}, 'id': '29ijED2bnnprp2TciAK1aO'}, {'external_urls': {'spotify': 'https://open.spotify.com/artist/2Iqn8dbh4BvojpUyzWYnHg'}, 'popularity': 55, 'name': 'Drake', 'genres': [], 'uri': 'spotify:artist:2Iqn8dbh4BvojpUyzWYnHg', 'type': 'artist', 'href': 'https://api.spotify.com/v1/artists/2Iqn8dbh4BvojpUyzWYnHg', 'images': [{'width': 640, 'height': 640, 'url': 'https://i.scdn.co/image/3954171b526768826cd09d2249cd8c0428e54839'}, {'width': 300, 'height': 300, 'url': 'https://i.scdn.co/image/a3bbcc9519a74b8621df2cc2b1ef25abfd5de670'}, {'width': 64, 'height': 64, 'url': 'https://i.scdn.co/image/61e1e73d925e69ea504c09c448fd70f76d3a750b'}], 'followers': {'total': 804, 'href': None}, 'id': '2Iqn8dbh4BvojpUyzWYnHg'}, {'external_urls': {'spotify': 'https://open.spotify.com/artist/03ilIKH0i08IxmjKcn63ne'}, 'popularity': 46, 'name': 'Drake Bell', 'genres': [], 'uri': 'spotify:artist:03ilIKH0i08IxmjKcn63ne', 'type': 'artist', 'href': 'https://api.spotify.com/v1/artists/03ilIKH0i08IxmjKcn63ne', 'images': [{'width': 1000, 'height': 1500, 'url': 'https://i.scdn.co/image/69b912fb1875aed3316098d40dccb3565017306d'}, {'width': 640, 'height': 960, 'url': 'https://i.scdn.co/image/17a4baa53578c2b0ce9f3e9816dc143f69adc011'}, {'width': 200, 'height': 300, 'url': 'https://i.scdn.co/image/8d151cd5c0dc30136637609b0a3e24d5881c1528'}, {'width': 64, 'height': 96, 'url': 'https://i.scdn.co/image/24126809e024c6628f990cf7eefbe4088c72b94a'}], 'followers': {'total': 68902, 'href': None}, 'id': '03ilIKH0i08IxmjKcn63ne'}, {'external_urls': {'spotify': 'https://open.spotify.com/artist/2m5ti7YuYYCVs8xfZgnVkx'}, 'popularity': 44, 'name': 'Drake', 'genres': [], 'uri': 'spotify:artist:2m5ti7YuYYCVs8xfZgnVkx', 'type': 'artist', 'href': 'https://api.spotify.com/v1/artists/2m5ti7YuYYCVs8xfZgnVkx', 'images': [{'width': 640, 'height': 640, 'url': 'https://i.scdn.co/image/8e9cea48d0e6cbf215f111066178eab2cb1e348e'}, {'width': 300, 'height': 300, 'url': 'https://i.scdn.co/image/5704ba810662d682040160ef8036603ed813153c'}, {'width': 64, 'height': 64, 'url': 'https://i.scdn.co/image/d67b71534401fc52bc59ead89238b7106105b0c0'}], 'followers': {'total': 12002, 'href': None}, 'id': '2m5ti7YuYYCVs8xfZgnVkx'}, {'external_urls': {'spotify': 'https://open.spotify.com/artist/0Jm1S6ygzF2F9XYWJCf6Hu'}, 'popularity': 36, 'name': 'Drake Chisholm', 'genres': [], 'uri': 'spotify:artist:0Jm1S6ygzF2F9XYWJCf6Hu', 'type': 'artist', 'href': 'https://api.spotify.com/v1/artists/0Jm1S6ygzF2F9XYWJCf6Hu', 'images': [{'width': 640, 'height': 640, 'url': 'https://i.scdn.co/image/8628c47700634d55d680ac24661355eb54a80f64'}, {'width': 300, 'height': 300, 'url': 'https://i.scdn.co/image/8d76f3c3b4515dec094e17e1f047199f692930fd'}, {'width': 64, 'height': 64, 'url': 'https://i.scdn.co/image/81b13cb7b3f67034cb8b24e1e903039e0d5cdf2c'}], 'followers': {'total': 131, 'href': None}, 'id': '0Jm1S6ygzF2F9XYWJCf6Hu'}, {'external_urls': {'spotify': 'https://open.spotify.com/artist/3KLA7mvD10XxcjRbo3uTdB'}, 'popularity': 37, 'name': 'Christopher Drake', 'genres': [], 'uri': 'spotify:artist:3KLA7mvD10XxcjRbo3uTdB', 'type': 'artist', 'href': 'https://api.spotify.com/v1/artists/3KLA7mvD10XxcjRbo3uTdB', 'images': [{'width': 640, 'height': 640, 'url': 'https://i.scdn.co/image/04e190e7c4bf77f01c4d68fb7db9f777cfde9eb0'}, {'width': 300, 'height': 300, 'url': 'https://i.scdn.co/image/ce4092fc8a34b0360d07c7444aaa53e4311b481a'}, {'width': 64, 'height': 64, 'url': 'https://i.scdn.co/image/c825b69068180726adcfe0bcd6463c2c2e3fc9cb'}], 'followers': {'total': 1522, 'href': None}, 'id': '3KLA7mvD10XxcjRbo3uTdB'}, {'external_urls': {'spotify': 'https://open.spotify.com/artist/2y7pPMQioLwMFUKhK9Pyow'}, 'popularity': 35, 'name': 'Eleni Drake', 'genres': [], 'uri': 'spotify:artist:2y7pPMQioLwMFUKhK9Pyow', 'type': 'artist', 'href': 'https://api.spotify.com/v1/artists/2y7pPMQioLwMFUKhK9Pyow', 'images': [], 'followers': {'total': 37, 'href': None}, 'id': '2y7pPMQioLwMFUKhK9Pyow'}, {'external_urls': {'spotify': 'https://open.spotify.com/artist/5wzXzlWJdkALT4P8pywiau'}, 'popularity': 26, 'name': 'Seth Drake', 'genres': [], 'uri': 'spotify:artist:5wzXzlWJdkALT4P8pywiau', 'type': 'artist', 'href': 'https://api.spotify.com/v1/artists/5wzXzlWJdkALT4P8pywiau', 'images': [], 'followers': {'total': 39, 'href': None}, 'id': '5wzXzlWJdkALT4P8pywiau'}, {'external_urls': {'spotify': 'https://open.spotify.com/artist/1xDIDfyzRo8HNGsLp4JfzO'}, 'popularity': 23, 'name': 'Ludwig Von Drake', 'genres': [], 'uri': 'spotify:artist:1xDIDfyzRo8HNGsLp4JfzO', 'type': 'artist', 'href': 'https://api.spotify.com/v1/artists/1xDIDfyzRo8HNGsLp4JfzO', 'images': [], 'followers': {'total': 170, 'href': None}, 'id': '1xDIDfyzRo8HNGsLp4JfzO'}, {'external_urls': {'spotify': 'https://open.spotify.com/artist/2HT2RkwWZ38SYMzBcLE9Ty'}, 'popularity': 26, 'name': 'Romeo Santos Ft Drake', 'genres': [], 'uri': 'spotify:artist:2HT2RkwWZ38SYMzBcLE9Ty', 'type': 'artist', 'href': 'https://api.spotify.com/v1/artists/2HT2RkwWZ38SYMzBcLE9Ty', 'images': [], 'followers': {'total': 859, 'href': None}, 'id': '2HT2RkwWZ38SYMzBcLE9Ty'}, {'external_urls': {'spotify': 'https://open.spotify.com/artist/1t2vamW3e4TNHlKeDMmaUA'}, 'popularity': 22, 'name': 'Lil Wayne feat. Drake', 'genres': [], 'uri': 'spotify:artist:1t2vamW3e4TNHlKeDMmaUA', 'type': 'artist', 'href': 'https://api.spotify.com/v1/artists/1t2vamW3e4TNHlKeDMmaUA', 'images': [], 'followers': {'total': 1710, 'href': None}, 'id': '1t2vamW3e4TNHlKeDMmaUA'}, {'external_urls': {'spotify': 'https://open.spotify.com/artist/3uCTdq9rOnPCAlJMc4OzGn'}, 'popularity': 26, 'name': 'Julius Drake', 'genres': [], 'uri': 'spotify:artist:3uCTdq9rOnPCAlJMc4OzGn', 'type': 'artist', 'href': 'https://api.spotify.com/v1/artists/3uCTdq9rOnPCAlJMc4OzGn', 'images': [{'width': 200, 'height': 226, 'url': 'https://i.scdn.co/image/1ca5bc28ffd6eaa4b8941dfa7a3da0ac92e064f0'}, {'width': 64, 'height': 72, 'url': 'https://i.scdn.co/image/f30f7717b686edafd3a59a6e894f2d871b79438e'}], 'followers': {'total': 1120, 'href': None}, 'id': '3uCTdq9rOnPCAlJMc4OzGn'}, {'external_urls': {'spotify': 'https://open.spotify.com/artist/1789Un2gEvELbBTnHoS9Rl'}, 'popularity': 25, 'name': 'Molly Drake', 'genres': [], 'uri': 'spotify:artist:1789Un2gEvELbBTnHoS9Rl', 'type': 'artist', 'href': 'https://api.spotify.com/v1/artists/1789Un2gEvELbBTnHoS9Rl', 'images': [{'width': 500, 'height': 300, 'url': 'https://i.scdn.co/image/83e02935a38a48b49ab11cea406cb9bf979122dd'}, {'width': 200, 'height': 120, 'url': 'https://i.scdn.co/image/1b565bc973abcf36a346eb01d6acd37de5aca33e'}, {'width': 63, 'height': 38, 'url': 'https://i.scdn.co/image/6b7629f368fab6cfdcdbdd4fd821549fbbcb808d'}], 'followers': {'total': 2157, 'href': None}, 'id': '1789Un2gEvELbBTnHoS9Rl'}, {'external_urls': {'spotify': 'https://open.spotify.com/artist/5QDvl1vOkRT0hL6eFmCN9q'}, 'popularity': 17, 'name': 'Bassnectar & Seth Drake', 'genres': [], 'uri': 'spotify:artist:5QDvl1vOkRT0hL6eFmCN9q', 'type': 'artist', 'href': 'https://api.spotify.com/v1/artists/5QDvl1vOkRT0hL6eFmCN9q', 'images': [], 'followers': {'total': 658, 'href': None}, 'id': '5QDvl1vOkRT0hL6eFmCN9q'}, {'external_urls': {'spotify': 'https://open.spotify.com/artist/7DDaQqjdIkLxhp1jQyxLux'}, 'popularity': 15, 'name': 'Alfred Drake', 'genres': [], 'uri': 'spotify:artist:7DDaQqjdIkLxhp1jQyxLux', 'type': 'artist', 'href': 'https://api.spotify.com/v1/artists/7DDaQqjdIkLxhp1jQyxLux', 'images': [{'width': 640, 'height': 640, 'url': 'https://i.scdn.co/image/757dac6c0599ab1e8809f2e5112bd3655d8aaa10'}, {'width': 300, 'height': 300, 'url': 'https://i.scdn.co/image/051471b0f717d7ed73875f26145f173ec6393160'}, {'width': 64, 'height': 64, 'url': 'https://i.scdn.co/image/5421ca18d723b4e89ddf1eae7b5fe57b16739c77'}], 'followers': {'total': 400, 'href': None}, 'id': '7DDaQqjdIkLxhp1jQyxLux'}, {'external_urls': {'spotify': 'https://open.spotify.com/artist/2ekAQJaUrnLWfvamRRQwom'}, 'popularity': 23, 'name': 'Drakensang', 'genres': [], 'uri': 'spotify:artist:2ekAQJaUrnLWfvamRRQwom', 'type': 'artist', 'href': 'https://api.spotify.com/v1/artists/2ekAQJaUrnLWfvamRRQwom', 'images': [{'width': 600, 'height': 600, 'url': 'https://i.scdn.co/image/59145c35666291e0ebab5289681383d121bb28b4'}, {'width': 300, 'height': 300, 'url': 'https://i.scdn.co/image/cb9c94e29279d861512b94ba180b0408975b28b8'}, {'width': 64, 'height': 64, 'url': 'https://i.scdn.co/image/63a4904e60531f93e09cd05ce87073a277c1cfdc'}], 'followers': {'total': 330, 'href': None}, 'id': '2ekAQJaUrnLWfvamRRQwom'}, {'external_urls': {'spotify': 'https://open.spotify.com/artist/7rvB7ONJSqlmaCrcbhelir'}, 'popularity': 21, 'name': 'Jamie Drake', 'genres': [], 'uri': 'spotify:artist:7rvB7ONJSqlmaCrcbhelir', 'type': 'artist', 'href': 'https://api.spotify.com/v1/artists/7rvB7ONJSqlmaCrcbhelir', 'images': [{'width': 640, 'height': 640, 'url': 'https://i.scdn.co/image/f4a7ebf688bd4340eda55fea95309953394d355c'}, {'width': 300, 'height': 300, 'url': 'https://i.scdn.co/image/0408b4c1d05369019b7f163fbd379276354c10d8'}, {'width': 64, 'height': 64, 'url': 'https://i.scdn.co/image/57c0c9442e28943425cc4b28a48b9c6dbb4a7ebb'}], 'followers': {'total': 50, 'href': None}, 'id': '7rvB7ONJSqlmaCrcbhelir'}, {'external_urls': {'spotify': 'https://open.spotify.com/artist/46GXJl0nSqR7iavieZqpuc'}, 'popularity': 11, 'name': 'Dusty Drake', 'genres': [], 'uri': 'spotify:artist:46GXJl0nSqR7iavieZqpuc', 'type': 'artist', 'href': 'https://api.spotify.com/v1/artists/46GXJl0nSqR7iavieZqpuc', 'images': [{'width': 600, 'height': 765, 'url': 'https://i.scdn.co/image/290358e27f69ab57772eaea3042eda8aa53e40fd'}, {'width': 200, 'height': 255, 'url': 'https://i.scdn.co/image/d3b0616a6273bb187f83e851803ed815e4c975d8'}, {'width': 64, 'height': 82, 'url': 'https://i.scdn.co/image/efc86ded885372e547726b93acd47df882f856f5'}], 'followers': {'total': 164, 'href': None}, 'id': '46GXJl0nSqR7iavieZqpuc'}]\n"
     ]
    }
   ],
   "source": [
    "print (artists)"
   ]
  },
  {
   "cell_type": "code",
   "execution_count": 19,
   "metadata": {
    "collapsed": false
   },
   "outputs": [
    {
     "name": "stdout",
     "output_type": "stream",
     "text": [
      "{'external_urls': {'spotify': 'https://open.spotify.com/artist/3TVXtAsR1Inumwj472S9r4'}, 'popularity': 100, 'name': 'Drake', 'genres': ['indie r&b', 'pop rap'], 'uri': 'spotify:artist:3TVXtAsR1Inumwj472S9r4', 'type': 'artist', 'href': 'https://api.spotify.com/v1/artists/3TVXtAsR1Inumwj472S9r4', 'images': [{'width': 1000, 'height': 997, 'url': 'https://i.scdn.co/image/d90899d09be8083e52f87d9f6a30fd5750bc0a4d'}, {'width': 640, 'height': 638, 'url': 'https://i.scdn.co/image/068ae749ee9825fcecc1a0f82ead09aaa8440228'}, {'width': 200, 'height': 199, 'url': 'https://i.scdn.co/image/94c531c2ed71ce23d704d7f63a168c0287bbbb23'}, {'width': 64, 'height': 64, 'url': 'https://i.scdn.co/image/d1d6016c698703ba4933461ff5acbfe112877b48'}], 'followers': {'total': 5771130, 'href': None}, 'id': '3TVXtAsR1Inumwj472S9r4'}\n"
     ]
    }
   ],
   "source": [
    "print (artists[0])"
   ]
  },
  {
   "cell_type": "code",
   "execution_count": 20,
   "metadata": {
    "collapsed": false
   },
   "outputs": [
    {
     "name": "stdout",
     "output_type": "stream",
     "text": [
      "<class 'dict'>\n"
     ]
    }
   ],
   "source": [
    "# looks like a dictionary, but let's confirm\n",
    "print (type(artists[0]))"
   ]
  },
  {
   "cell_type": "code",
   "execution_count": 21,
   "metadata": {
    "collapsed": false
   },
   "outputs": [
    {
     "name": "stdout",
     "output_type": "stream",
     "text": [
      "dict_keys(['external_urls', 'popularity', 'name', 'genres', 'uri', 'type', 'href', 'images', 'followers', 'id'])\n"
     ]
    }
   ],
   "source": [
    "# What can we do with this result? .keys() will tell you\n",
    "print (artists[0].keys())"
   ]
  },
  {
   "cell_type": "code",
   "execution_count": 23,
   "metadata": {
    "collapsed": false
   },
   "outputs": [
    {
     "name": "stdout",
     "output_type": "stream",
     "text": [
      "Drake has a popularity of 100\n",
      "Nick Drake has a popularity of 58\n",
      "Drake White has a popularity of 49\n"
     ]
    }
   ],
   "source": [
    "# Let's look at this Drake's name\n",
    "print (artists[0]['name'], \"has a popularity of\", artists[0]['popularity'])\n",
    "\n",
    "# let's try the other Drakens\n",
    "print (artists[1]['name'], \"has a popularity of\", artists[1]['popularity'])\n",
    "print (artists[2]['name'], \"has a popularity of\", artists[2]['popularity'])\n"
   ]
  },
  {
   "cell_type": "code",
   "execution_count": 24,
   "metadata": {
    "collapsed": false
   },
   "outputs": [
    {
     "name": "stdout",
     "output_type": "stream",
     "text": [
      "20\n"
     ]
    }
   ],
   "source": [
    "# let's see how many artists we have\n",
    "print (len(artists))"
   ]
  },
  {
   "cell_type": "code",
   "execution_count": 25,
   "metadata": {
    "collapsed": false
   },
   "outputs": [
    {
     "name": "stdout",
     "output_type": "stream",
     "text": [
      "Drake has a popularity of 100\n",
      "Nick Drake has a popularity of 58\n",
      "Drake White has a popularity of 49\n",
      "Drake has a popularity of 55\n",
      "Drake Bell has a popularity of 46\n",
      "Drake has a popularity of 44\n",
      "Drake Chisholm has a popularity of 36\n",
      "Christopher Drake has a popularity of 37\n",
      "Eleni Drake has a popularity of 35\n",
      "Seth Drake has a popularity of 26\n",
      "Ludwig Von Drake has a popularity of 23\n",
      "Romeo Santos Ft Drake has a popularity of 26\n",
      "Lil Wayne feat. Drake has a popularity of 22\n",
      "Julius Drake has a popularity of 26\n",
      "Molly Drake has a popularity of 25\n",
      "Bassnectar & Seth Drake has a popularity of 17\n",
      "Alfred Drake has a popularity of 15\n",
      "Drakensang has a popularity of 23\n",
      "Jamie Drake has a popularity of 21\n",
      "Dusty Drake has a popularity of 11\n"
     ]
    }
   ],
   "source": [
    "for artist in artists:\n",
    "    print (artist['name'], \"has a popularity of\", artist['popularity'])"
   ]
  },
  {
   "cell_type": "code",
   "execution_count": 26,
   "metadata": {
    "collapsed": true
   },
   "outputs": [],
   "source": [
    "real_drake = artists[0]"
   ]
  },
  {
   "cell_type": "code",
   "execution_count": 27,
   "metadata": {
    "collapsed": false
   },
   "outputs": [
    {
     "name": "stdout",
     "output_type": "stream",
     "text": [
      "dict_keys(['external_urls', 'popularity', 'name', 'genres', 'uri', 'type', 'href', 'images', 'followers', 'id'])\n",
      "spotify:artist:3TVXtAsR1Inumwj472S9r4\n",
      "https://api.spotify.com/v1/artists/3TVXtAsR1Inumwj472S9r4\n",
      "[{'width': 1000, 'height': 997, 'url': 'https://i.scdn.co/image/d90899d09be8083e52f87d9f6a30fd5750bc0a4d'}, {'width': 640, 'height': 638, 'url': 'https://i.scdn.co/image/068ae749ee9825fcecc1a0f82ead09aaa8440228'}, {'width': 200, 'height': 199, 'url': 'https://i.scdn.co/image/94c531c2ed71ce23d704d7f63a168c0287bbbb23'}, {'width': 64, 'height': 64, 'url': 'https://i.scdn.co/image/d1d6016c698703ba4933461ff5acbfe112877b48'}]\n"
     ]
    }
   ],
   "source": [
    "print(real_drake.keys())\n",
    "print(real_drake['uri'])\n",
    "print(real_drake['href'])\n",
    "print(real_drake['images'])"
   ]
  },
  {
   "cell_type": "code",
   "execution_count": 28,
   "metadata": {
    "collapsed": false
   },
   "outputs": [
    {
     "name": "stdout",
     "output_type": "stream",
     "text": [
      "{'width': 1000, 'height': 997, 'url': 'https://i.scdn.co/image/d90899d09be8083e52f87d9f6a30fd5750bc0a4d'}\n",
      "<class 'dict'>\n",
      "dict_keys(['width', 'height', 'url'])\n"
     ]
    }
   ],
   "source": [
    "# looks like a list, lets grab the first image\n",
    "\n",
    "print(real_drake['images'][0])\n",
    "print(type(real_drake['images'][0]))\n",
    "print(real_drake['images'][0].keys())"
   ]
  },
  {
   "cell_type": "code",
   "execution_count": 29,
   "metadata": {
    "collapsed": false
   },
   "outputs": [
    {
     "name": "stdout",
     "output_type": "stream",
     "text": [
      "https://i.scdn.co/image/d90899d09be8083e52f87d9f6a30fd5750bc0a4d\n",
      "What is your favorite Drake image?\n"
     ]
    }
   ],
   "source": [
    "# lets get the URL of the first image of drake\n",
    "print(real_drake['images'][0]['url'])\n",
    "print (\"What is your favorite Drake image?\")"
   ]
  },
  {
   "cell_type": "code",
   "execution_count": 30,
   "metadata": {
    "collapsed": false
   },
   "outputs": [
    {
     "name": "stdout",
     "output_type": "stream",
     "text": [
      "https://i.scdn.co/image/d90899d09be8083e52f87d9f6a30fd5750bc0a4d\n",
      "https://i.scdn.co/image/068ae749ee9825fcecc1a0f82ead09aaa8440228\n",
      "https://i.scdn.co/image/94c531c2ed71ce23d704d7f63a168c0287bbbb23\n",
      "https://i.scdn.co/image/d1d6016c698703ba4933461ff5acbfe112877b48\n",
      "Answer: The Big One!\n"
     ]
    }
   ],
   "source": [
    "for image in real_drake['images']:\n",
    "    #print (type(image))\n",
    "    #print (image.keys())\n",
    "    print (image['url'])\n",
    "\n",
    "print (\"Answer: The Big One!\")"
   ]
  },
  {
   "cell_type": "code",
   "execution_count": null,
   "metadata": {
    "collapsed": true
   },
   "outputs": [],
   "source": []
  },
  {
   "cell_type": "markdown",
   "metadata": {
    "collapsed": true
   },
   "source": [
    "**From official Classnote02 **    \n",
    "\n",
    "### Classnote: Github\n",
    "\n",
    "\n",
    "Go to [Github](http://www.github.com) and make an account. Git is a command line tool (there are non-command line/desktop versions of Git.).\n",
    "\n",
    "*   Git is a version control system (“VCS”).\n",
    "*   Git and Github are NOT the same. Git is the thing that runs on your computer, github runs magically on the cloud…\n",
    "    *   bitbucket is another service like Github.\n",
    "    *   gitlab, not open-source version of Github.\n",
    "*   Sample project on Github: Soma’s [Tabletop.js](https://github.com/jsoma/tabletop).\n",
    "*   The code on Github is **open source** or **free/open source software (FOSS)** – you can download and run the programs you see!\n",
    "*   People can make their own derivative versions of your code, OR they can fix errors in your code and ask if you want to incorporate the changes into your code. Essentially, lots of people can contribute to make a project better.\n",
    "\n",
    "Open up Terminal, type `git --version` to make sure you have git on your computer.\n",
    "\n",
    "We’re going to setup your Github!\n",
    "\n",
    "*   `git config --global user.name \"YOUR NAME\"`\n",
    "*   `git config --global user.email \"YOUR EMAIL ADDRESS\"`\n",
    "*   [Next Steps](https://help.github.com/articles/caching-your-github-password-in-git/):\n",
    "    *   `git credential-osxkeychain`\n",
    "    *   `git config --global credential.helper osxkeychain`\n",
    "*   Go to Github; we’re going to make a repository.\n",
    "    *   Make sure you’re logged in\n",
    "    *   Click the ‘+’ and then click ‘New Repository’\n",
    "    *   Create a new repository (give it a name), make it private.\n",
    "    *   A **repository** is a home for your code!\n",
    "*   We’re going to make a directory somewhere on our computer.\n",
    "    *   `mkdir [directory_name]`: create a folder that will be your sample repository\n",
    "    *   `cd [directory_name]`\n",
    "    *   `echo \"# sample-repo\" >> README.md`\n",
    "    *   `git init`: this basically says “hey i’m about to work on a project in here!”\n",
    "    *   `git add README.md`\n",
    "    *   `git commit -m \"first commit\"`: committing requires you to give a little summary of what you’re adding.\n",
    "    *   `git remove add origin git@github.com:username/repo_name.git`\n",
    "    *   `git push -u origin master`\n",
    "    \n",
    "*   Windows people: [do this](https://help.github.com/articles/generating-a-new-ssh-key-and-adding-it-to-the-ssh-agent/) and then [this](https://help.github.com/articles/adding-a-new-ssh-key-to-your-github-account/).\n",
    "\n",
    "\n",
    "### Creating a Github repository\n",
    "\n",
    "*   [Create a new repository](http://www.github.com/new), name your repo, make it public.\n",
    "*   Click ‘Initialize this repository with a README’ option. (You don’t really need to add a license, but you can)\n",
    "*   On your README.md file, click the little pencil icon (“Edit this File”).\n",
    "*   Using **markdown** on your README:\n",
    "    *   the `#` allows your to add headers to your page. `##` and `###` get you sub-headers of smaller and smaller sizes!\n",
    "    *   `*italics*`\n",
    "    *   `**bold**`\n",
    "    *   `[add a link](http://www.google.com)`\n",
    "    *   Make a list:\n",
    "        *   `* List Item`\n",
    "        *   `* Another list item`\n",
    "    *   Make an ordered list\n",
    "        1.  `1\\. List Item`\n",
    "        2.  `2\\. Another List Item`\n",
    "\n",
    "In your new Foundations Homework repo, use ‘Create new file’ link repo page to start a new file.\n",
    "\n",
    "### Cloning a repository\n",
    "\n",
    "We want to connect this repo to our computer! To copy a repo from github to our computer, we will need to **clone** the repo. Use the green “Clone or Download” button and the “Copy to Clipboard” link to copy the HTTPS or SSH code.\n",
    "\n",
    "Then in Terminal, navigate to where you want to save your repo. Then, `git clone [HTTPS/SSH code]`. You should have a new directory (that’s your homework repo in your folder).\n",
    "\n",
    "You can use Finder to add folders and file into that directory! Or the following commands on Terminal/Babun:\n",
    "\n",
    "*   `cp [filepath to file you want] .`: to copy a particular file into the current directory\n",
    "*   `mv [filepath to the file you want] .` to move a particular file into the current directory\n",
    "\n",
    "**Check what’s going on in your directory:** `git status` (when you are in the correct folder)\n",
    "\n",
    "1.  Add new files: `git add .`\n",
    "2.  Commit your changes: `git commit -m \"updates\"` – you mayyyy have to use `-am` instead of `-m`\n",
    "3.  Push to Github: `git push`\n",
    "\n",
    "> Add a .gitignore file and in that file, add the line `.DS_Store` – this prevents files with that name from being add to github; this will make pushing and pulling much more seamless.\n",
    "\n",
    "**Add a README.md to each of your HW directories.**\n",
    "\n",
    "*   `atom .`: opens a new window that has the current directory in it\n",
    "\n",
    "When you make a change on Github, you make to make sure your local directory also has the new changes (use `git pull` to keep your local directory updated with what’s up on Github).\n",
    "\n",
    "**Add READMEs in your 02 and 03 directories.**\n",
    "\n",
    "*   Save them as `README.md` in their respective directories\n",
    "*   Atom knows about git and knows when we’re in a git repo. It changes those file names to be green to reflect that we’ve added or changed those files but have not add or committed the changes.\n",
    "*   `git add .`\n",
    "*   `git commit -m \"adding new README files to hw assignments\"`\n",
    "*   Now green highlighting in Atom will go away. But we still need to `git push` to see the changes on Github\n",
    "*   We get an error – our push was rejected. Suggests that you integrate the remote changes.\n",
    "*   `git pull` to solve this issue! And then `git push`\n",
    "\n",
    "**For your work:** git add/git commit/git push."
   ]
  },
  {
   "cell_type": "markdown",
   "metadata": {},
   "source": [
    "\n",
    "### Classnote: Spotify Data\n",
    "\n",
    "Data from Spotify’s API and saved it in a variable called “data”\n",
    "\n",
    "    print(data)\n",
    "    # Let's try to figure out what our data type is\n",
    "    print(type(data))\n",
    "\n",
    "    #  try to get the keys\n",
    "    print(data.keys)\n",
    "    # that didn't work because it's a method! we need to use paratheses.\n",
    "    # you'll see this error: <built-in method keys of dict object at 0x10e87e288>\n",
    "    # this will fix that error:\n",
    "    print(data.keys())\n",
    "\n",
    "\n",
    "If you know that you’re looking at a **dictionary**, the best way to learn more about what it looks like is to use the `.keys()` method. Once you have the names of the keys, you can use `dictionary_name['key']` to access the values/data stored in specific keys.\n",
    "\n",
    "    print(data['artists'])\n",
    "    # it looks like a dictionary inside a dictionary (because our above print showed curly braces on the outside)\n",
    "\n",
    "    print(type(data['artists']))\n",
    "    # confirmed! dictionary!\n",
    "\n",
    "    # let's get keys again\n",
    "    print((data['artists']).keys())\n",
    "\n",
    "\n",
    "\n",
    "Keep using the `type()` function and the `.keys()` method to investigate your dictionary further. If you’re dealing with data that has nested dictionaries within dictionaries, it may be a good idea to use variables to make your code more readable (as Some does below).\n",
    "\n",
    "    # if this seems confusing, you can also make a new variable out of the above and then use .keys()\n",
    "    artist_data = data['artists']\n",
    "    print(artist_data.keys())\n",
    "\n",
    "\n",
    "Because we don’t know what’s in each key, Soma prints the contents of each of the keys one by one:\n",
    "\n",
    "    print(data['artists']['next'])\n",
    "    print(data['artists']['href'])\n",
    "    print(data['artists']['limit'])\n",
    "\n",
    "And here he finds what he’s looking for:\n",
    "\n",
    "    # here's the real deal\n",
    "    print(data['artists']['items'])\n",
    "    print(type(data['artists']['items']))\n",
    "\n",
    "    print(data['artists']['items'][0])\n",
    "\n",
    "\n",
    "Notice that in the last print statement, he used `[0]` to pull out data. This sort of indexing is a clue that the data type you’re looking at is a **list**! In the code below, he uses a variable called `artists` to “save” that list/simplify how he calls it.\n",
    "\n",
    "    artists = data['artists']['items']\n",
    "    print(artists)\n",
    "\n",
    "    print(\"Here is the first Drake result\")\n",
    "    print(artists[0])\n",
    "\n",
    "    print(type(artists[0]))\n",
    "    # it's a dictionary!\n",
    "\n",
    "Because we don’t know what each item in our `artists` list is, he uses `type(artists[0])` to check the data type of the first item and discovers that `artists` is actually a **list of dictionaries!**\n",
    "\n",
    "He knows he can call and print each item in the list by using its index (but maybe there’s a more programmatic way of doing the same thing…).\n",
    "\n",
    "    print((artists[0]).keys())\n",
    "    print(artists[0]['name'], \"has a popularity of\", artists[0]['popularity'])\n",
    "    print(artists[1]['name'], \"has a popularity of\", artists[1]['popularity'])\n",
    "    print(artists[2]['name'], \"has a popularity of\", artists[2]['popularity'])\n",
    "\n",
    "    # how many artists do we have?\n",
    "\n",
    "    print(len(artists))\n",
    "\n",
    "\n",
    "And here is the more programmatic way of printing every item in a list! **For loops**!\n",
    "\n",
    "    # Don't Repeat Yourself.... but we still want to go through every single one of those artists\n",
    "    for artist in artists:\n",
    "        print(artist['name'], \"has a popularity of\", artist['popularity'])\n",
    "\n",
    "\n",
    "Soma only cares about the real Drake and by investigating the names and popularities scores above, he knows that `artists[0]` is the real Drake. Let’s look further into “real Drake”:\n",
    "\n",
    "\n",
    "    real_drake = artists[0]\n",
    "\n",
    "    print(real_drake.keys())\n",
    "    print(real_drake['uri'])\n",
    "    print(real_drake['href'])\n",
    "    print(real_drake['images'])\n",
    "\n",
    "    print(real_drake['images'][0])\n",
    "    print(type(real_drake['images'][0]))\n",
    "\n",
    "    print(real_drake['images'][0].keys())\n",
    "\n",
    "    # let's get the URL of the first image of Drake\n",
    "    print(real_drake['images'][0]['url'])\n",
    "\n",
    "\n",
    "We can use a **for loop** again to see each of the images stores associated with Drake on Spotify.\n",
    "\n",
    "\n",
    "    # What's your favorite image of Drake?\n",
    "    for image in real_drake['images']:\n",
    "        # print type(image)\n",
    "        # print(image.keys())\n",
    "        print(image['url'])\n",
    "\n",
    "\n",
    "**Note:** The code above is a great demo of how to investigate data you aren’t familiar with. It shows you how to poke through lists and dictionaries – make sure you know what functions and methods make sense for each data type and what clues you have for understanding the structure of your data better. **You aren’t printing for the sake of printing!** Look at what you have printed – what clues do you see? (**HINT:** look to see whether your prints end in `]` or `}`).\n"
   ]
  },
  {
   "cell_type": "markdown",
   "metadata": {},
   "source": [
    "**Class Comment**  \n",
    "Git과 Github는 추후 다양한 사용이 가능하므로 해당 부분은 추후 숙지 중요.  \n",
    "Spotify Data를 보는 방법은 경험하지 못했던 부분이므로 도움이 많이 되었음."
   ]
  },
  {
   "cell_type": "markdown",
   "metadata": {
    "collapsed": true
   },
   "source": [
    "-----\n",
    "# Class 02. Python Data Structure\n"
   ]
  },
  {
   "cell_type": "markdown",
   "metadata": {},
   "source": [
    "**May 25 2016**  \n",
    "Official classnotes : [Python Data Structures](http://jonathansoma.com/lede/foundations/classes/02/class/)\n"
   ]
  },
  {
   "cell_type": "markdown",
   "metadata": {
    "collapsed": true
   },
   "source": [
    "Class topics\n",
    "- Variable Assignment\n",
    "- Dictionaries & Lists\n",
    "- Functions & Methods\n",
    "- For Loops"
   ]
  },
  {
   "cell_type": "markdown",
   "metadata": {
    "collapsed": true
   },
   "source": [
    "**Class Comment**  \n",
    "온라인으로 배웠던 기본 Concept. Detail 한 Loop 및 배우지 아니한 While loop에 대한 detail example에 대한 복습은 별도로 필요."
   ]
  },
  {
   "cell_type": "markdown",
   "metadata": {
    "collapsed": true
   },
   "source": [
    "---\n",
    "# Class 01. Command line  \n",
    "**May 23 2016**  \n",
    "Official classnotes: [Command Line & Python Basics](http://jonathansoma.com/lede/foundations/classes/01/class/)"
   ]
  },
  {
   "cell_type": "markdown",
   "metadata": {},
   "source": [
    "** 01. Command lines : Exploring Folders & Files **  \n",
    "* **`pwd`**&nbsp;: &nbsp;&nbsp;&nbsp;&nbsp;where you are  \n",
    "* **`cd ~/Documents`** : to change directory into Documents folder\n",
    "* **`cat [filename]`** : view the file contents\n",
    "\n",
    "* **`head -n 20 [filename]`** : see the first 20 lines \n",
    "* **`tail-n 10 [filename]`** :  see the end 10 lines of the file\n",
    "\n",
    "* **`clear`** &nbsp;: &nbsp;your Terminal shell will be cleared of all commands and output\n",
    "* **`ls`** &nbsp;: &nbsp;&nbsp;&nbsp;&nbsp;&nbsp;see what’s there\n",
    "> * **`-l`**: displays information about files and folders  \n",
    ">* **`-h`**: displays filesize numbers readable  \n",
    ">* **`-a`**: all, shows you hidden files  \n",
    ">* can use together. example )  ls -lha\n",
    "\n",
    " \n",
    ">*S.Notes)*  \n",
    "a. Instead of typing the file name, write **`cat [first couple letters of filename]`** and **hit 'TAB'** to autocomplete the filename.  \n",
    "b.  The `' \\ '` is an escape character. Using the \\  before a space lets Terminal know that you really mean it!  \n",
    "c. Use ↑ and ↓ on your keyboard to move through the other commands you’ve typed into Terminal.  \n",
    "d. Coloring the folder name in the command shell.(Mac Only)*  \n",
    "    `Command : export CLICOLOR=1`  "
   ]
  },
  {
   "cell_type": "markdown",
   "metadata": {
    "collapsed": false
   },
   "source": [
    "** 02. Task: Finding the hidden file using command line**  \n",
    "Using the command line, find the hidden file."
   ]
  },
  {
   "cell_type": "markdown",
   "metadata": {},
   "source": [
    "<img src=\"class_image/c01-01_command_line_treaure_finding.png\" align = left width = 700>  "
   ]
  },
  {
   "cell_type": "markdown",
   "metadata": {},
   "source": [
    "**03. Command Lines. uniq, sort & grep**\n",
    "\n",
    "Given file : food survey list  \n",
    "+ **`\"uniq\"`**  \n",
    "    - Omit repeated lines (which is near, if that is far apart they will count as separate item)  \n",
    "    - Example : Two pizza appeared \n",
    "    \n",
    " \n",
    "\n",
    "<img src=\"class_image/c01-02_catfoodsurveytxt_list.png\" width = 300 align = left> \n"
   ]
  },
  {
   "cell_type": "markdown",
   "metadata": {},
   "source": [
    "<img src=\"class_image/c01-4_command_uniq.png\" align = left width = 300>"
   ]
  },
  {
   "cell_type": "markdown",
   "metadata": {
    "collapsed": false
   },
   "source": [
    "+ **`\"sort\"`**\n",
    "\n",
    "<img src=\"class_image/c01-03_command_sort.png\" width = 300 align = left>  \n",
    "         "
   ]
  },
  {
   "cell_type": "markdown",
   "metadata": {
    "collapsed": true
   },
   "source": [
    "* **`grep`**: search for a specific set of characters inside of a file\n",
    "  * **`grep -r \"[search term]\" [directory or folder name]`**:  searches all the files in the specified directory for your search term  \n",
    "  * Note that the search terms are case-sensitive\n",
    "\n",
    "<img src=\"class_image/c01-05_command_application_01.png\" width = 300 align = left>  "
   ]
  },
  {
   "cell_type": "markdown",
   "metadata": {},
   "source": [
    "<img src=\"class_image/c01-06_command_application_02.png\" width = 300 align = left> "
   ]
  },
  {
   "cell_type": "markdown",
   "metadata": {
    "collapsed": true
   },
   "source": [
    "** 04 Command Line : others **\n",
    "\n",
    "* **`man [command]`**: see the manual entry for that command. Example) man wc\n",
    "  * **`q`** to escape from the manual\n",
    "  \n",
    "* **`wc -l [filename]`**: get the line count for the given file\n",
    "\n",
    "\n",
    "\n",
    "* **`tar`**  :  collect all of the files into a bundle  \n",
    "* **`gzip`** :  GNUZIP : compress the file  \n",
    "* **`xvf`**  :  xtract verbose file\n",
    "\n"
   ]
  },
  {
   "cell_type": "markdown",
   "metadata": {},
   "source": [
    "\n",
    "<img src=\"class_image/c01-07_tar_xvf_osha.png\"  width= 800 align = left>  "
   ]
  },
  {
   "cell_type": "markdown",
   "metadata": {},
   "source": [
    "**05. Combining the files**  \n",
    "Combining all the fatalities files.  \n",
    "**“ * ”** – asterix : wild card\n",
    "\n",
    "<img src=\"class_image/c01-08_combining the file.png\" align = left>  "
   ]
  },
  {
   "cell_type": "markdown",
   "metadata": {},
   "source": [
    "**From official Classnote01 **    \n",
    "What if we wanted to know all the unique responses to the food survey?   \n",
    "Does this work: **`uniq food-survey.txt`**?  \n",
    "No, because **`uniq`** only consolidates terms that are adjacent to one another.\n",
    "\n",
    "So, order the terms in file so that like terms are next to each other: **`sort food-survey.txt`**, and run uniq: **`sort food-survey.txt | uniq`**.\n",
    "\n",
    "* **`uniq sorted-food.txt.`** : Piping is more efficient: ** sort food-survey.txt > sorted-food.txt`** before\n",
    "* **`sort food-survey.txt | uniq | wc -l`**.: gives back the # of unique terms in food-survey.txt\n",
    "* **`sort food-survey.txt | uniq | grep \"P\" | wc -l`**.: if want to know how many unique foods start with the letter P.\n",
    "* **`sort food-survey.txt | uniq -c`**.: give you a count of the unique terms\n",
    "* **`sort food-survey.txt | uniq -c | sort -r`**.: orders the unique terms based on their count  \n",
    "\n",
    "\n",
    "osha.tar.gz: + tar : collects files into a bundle. + gz : gzip (GNUZIP); indicates that file is compressed.\n",
    "\n",
    "* `tar xvf osha.tar.gz`: opens our zipped file Navigate to osha (`cd osha`) and `ls` to see what’s in there.  \n",
    "* `cat FatalitiesFY* > everything.csv`: copies from multiple files into everything.csv  \n",
    "* Oh no, everything.csv has the column headers in the \n",
    "* `tail -n 2`: shows us last two lines of the file \n",
    "* `tail -n +2`: shows us everything except for the first line of the file \n",
    "* `tail -n +2 FatalitiesFY* > new-everthing.csv` + `rm new-everything.csv`"
   ]
  },
  {
   "cell_type": "markdown",
   "metadata": {},
   "source": [
    "**Class Comment**  \n",
    "개인적으로 Commandline의 중요성은 인지함. 그러나 현재 내가 하고자 하는 Data Science에 접근하기 위해 추후에 공부하는 것이 마땅하다고 생각됨."
   ]
  },
  {
   "cell_type": "code",
   "execution_count": null,
   "metadata": {
    "collapsed": true
   },
   "outputs": [],
   "source": []
  },
  {
   "cell_type": "code",
   "execution_count": null,
   "metadata": {
    "collapsed": true
   },
   "outputs": [],
   "source": []
  }
 ],
 "metadata": {
  "kernelspec": {
   "display_name": "Python 3",
   "language": "python",
   "name": "python3"
  },
  "language_info": {
   "codemirror_mode": {
    "name": "ipython",
    "version": 3
   },
   "file_extension": ".py",
   "mimetype": "text/x-python",
   "name": "python",
   "nbconvert_exporter": "python",
   "pygments_lexer": "ipython3",
   "version": "3.4.4"
  }
 },
 "nbformat": 4,
 "nbformat_minor": 0
}
