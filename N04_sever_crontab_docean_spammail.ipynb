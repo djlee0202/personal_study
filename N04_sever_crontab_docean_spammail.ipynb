{
 "cells": [
  {
   "cell_type": "markdown",
   "metadata": {},
   "source": [
    "# Servers\n",
    "\n",
    "2016/7월 기준임으로 언제든지 변경 될 수 있음.\n",
    "\n",
    "### Creating a new server  (Big Picture)  \n",
    "1. Open up digital ocean : https://www.digitalocean.com/\n",
    "가입을 하게 되면, Server의 종류 (Droplet)\n",
    "2. Create Droplet and set up as ubuntu 14.04.4 x64\n",
    "3. New SSH Key & Paste in our SSH public key, naming it do-droplet (key-creating details below)\n",
    "4. Click Create and wait maybe 60 seconds for it to start up.\n"
   ]
  },
  {
   "cell_type": "markdown",
   "metadata": {},
   "source": [
    "> **How to create an SSH key**  \n",
    "Unlike the github direction, Run the following to start the ssh-keygen ssh key generator.\n",
    "\n",
    "ssh-keygen -t rsa -b 4096 -C \"YOUR_EMAIL@EXAMPLE.COM\""
   ]
  },
  {
   "cell_type": "code",
   "execution_count": null,
   "metadata": {
    "collapsed": true
   },
   "outputs": [],
   "source": []
  }
 ],
 "metadata": {
  "kernelspec": {
   "display_name": "Python 3",
   "language": "python",
   "name": "python3"
  },
  "language_info": {
   "codemirror_mode": {
    "name": "ipython",
    "version": 3
   },
   "file_extension": ".py",
   "mimetype": "text/x-python",
   "name": "python",
   "nbconvert_exporter": "python",
   "pygments_lexer": "ipython3",
   "version": "3.4.4"
  }
 },
 "nbformat": 4,
 "nbformat_minor": 0
}
