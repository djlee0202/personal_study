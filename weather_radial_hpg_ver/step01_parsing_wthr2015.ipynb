{
 "cells": [
  {
   "cell_type": "code",
   "execution_count": 1,
   "metadata": {
    "collapsed": true
   },
   "outputs": [],
   "source": [
    "import requests\n",
    "import datetime\n",
    "import time\n",
    "import numpy as np\n",
    "import pandas as pd\n",
    "from datetime import datetime\n",
    "\n",
    "# Columbia University : 40.8075° N, 73.9626° W\n"
   ]
  },
  {
   "cell_type": "code",
   "execution_count": 2,
   "metadata": {
    "collapsed": false
   },
   "outputs": [],
   "source": [
    "from datetime import timedelta, date\n",
    "\n",
    "# Source :http://stackoverflow.com/questions/1060279/iterating-through-a-range-of-dates-in-python\n",
    "# Source: http://stackoverflow.com/questions/19801727/convert-datetime-to-unix-timestamp-and-convert-it-back-in-python\n",
    "\n",
    "def daterange(start_date, end_date):\n",
    "    for n in range(int ((end_date - start_date).days)):\n",
    "        yield start_date + timedelta(n)\n",
    "\n",
    "start_date = date(2015, 1, 1)\n",
    "end_date = date(2016, 1, 1)\n",
    "\n",
    "entire_data = []\n",
    "for single_date in daterange(start_date, end_date):\n",
    "    unixtime = time.mktime(single_date.timetuple())\n",
    "#     print ('01',unixtime)\n",
    "#     print ('02',single_date.strftime(\"%Y-%m-%d\"))\n",
    "    url01 = 'https://api.darksky.net/forecast/b13d69de93462682bf3c2d0231d54d92/'\n",
    "    url01 += '40.8075,-73.9626,'+str(int(unixtime))\n",
    "    url01 += '?exclude=currently,units=us'\n",
    "    response = requests.get(url01)\n",
    "    data = response.json()\n",
    "    entire_data.append(data)"
   ]
  },
  {
   "cell_type": "code",
   "execution_count": 3,
   "metadata": {
    "collapsed": false
   },
   "outputs": [
    {
     "data": {
      "text/plain": [
       "365"
      ]
     },
     "execution_count": 3,
     "metadata": {},
     "output_type": "execute_result"
    }
   ],
   "source": [
    "len(entire_data)"
   ]
  },
  {
   "cell_type": "code",
   "execution_count": 4,
   "metadata": {
    "collapsed": true
   },
   "outputs": [],
   "source": [
    "# Source : http://stackoverflow.com/questions/12309269/how-do-i-write-json-data-to-a-file-in-python\n",
    "import json\n",
    "with open('data.txt', 'w') as outfile:\n",
    "    json.dump(entire_data, outfile)"
   ]
  },
  {
   "cell_type": "code",
   "execution_count": 5,
   "metadata": {
    "collapsed": false
   },
   "outputs": [
    {
     "name": "stdout",
     "output_type": "stream",
     "text": [
      "2015-01-01\n",
      "{'temperatureMax': 38.31, 'dewPoint': 10.83, 'temperatureMaxTime': 1420146000, 'sunriseTime': 1420114884, 'apparentTemperatureMax': 29.34, 'apparentTemperatureMin': 16.26, 'temperatureMin': 26, 'apparentTemperatureMaxTime': 1420146000, 'precipProbability': 0, 'precipIntensity': 0, 'time': 1420088400, 'icon': 'partly-cloudy-night', 'pressure': 1018.51, 'temperatureMinTime': 1420113600, 'sunsetTime': 1420148373, 'visibility': 10, 'windSpeed': 11.9, 'windBearing': 245, 'summary': 'Partly cloudy overnight.', 'cloudCover': 0.12, 'moonPhase': 0.39, 'precipIntensityMax': 0, 'apparentTemperatureMinTime': 1420117200, 'humidity': 0.41}\n"
     ]
    }
   ],
   "source": [
    "first_data = entire_data[0]['daily']['data'][0]\n",
    "first_date = datetime.fromtimestamp(int(first_data['time'])).strftime('%Y-%m-%d')\n",
    "print(first_date)\n",
    "print(first_data)"
   ]
  },
  {
   "cell_type": "code",
   "execution_count": 8,
   "metadata": {
    "collapsed": false
   },
   "outputs": [
    {
     "name": "stdout",
     "output_type": "stream",
     "text": [
      "2015-12-31\n",
      "{'temperatureMax': 48.71, 'precipIntensityMaxTime': 1451538000, 'temperatureMaxTime': 1451570400, 'sunriseTime': 1451564474, 'apparentTemperatureMax': 43.72, 'precipIntensity': 0.0029, 'temperatureMin': 43, 'apparentTemperatureMaxTime': 1451570400, 'precipProbability': 0.6, 'time': 1451538000, 'icon': 'partly-cloudy-night', 'pressure': 1017.53, 'temperatureMinTime': 1451620800, 'sunsetTime': 1451597913, 'visibility': 9.09, 'windSpeed': 9.97, 'windBearing': 317, 'summary': 'Partly cloudy in the morning.', 'precipType': 'rain', 'cloudCover': 0.72, 'moonPhase': 0.7, 'precipIntensityMax': 0.0644, 'apparentTemperatureMin': 36.9, 'dewPoint': 36.64, 'apparentTemperatureMinTime': 1451620800, 'humidity': 0.7}\n"
     ]
    }
   ],
   "source": [
    "last_data = entire_data[-1]['daily']['data'][0]\n",
    "last_date = datetime.fromtimestamp(int(last_data['time'])).strftime('%Y-%m-%d')\n",
    "print(last_date)\n",
    "print(last_data)"
   ]
  },
  {
   "cell_type": "code",
   "execution_count": null,
   "metadata": {
    "collapsed": true
   },
   "outputs": [],
   "source": []
  }
 ],
 "metadata": {
  "kernelspec": {
   "display_name": "Python 3",
   "language": "python",
   "name": "python3"
  },
  "language_info": {
   "codemirror_mode": {
    "name": "ipython",
    "version": 3
   },
   "file_extension": ".py",
   "mimetype": "text/x-python",
   "name": "python",
   "nbconvert_exporter": "python",
   "pygments_lexer": "ipython3",
   "version": "3.4.3"
  }
 },
 "nbformat": 4,
 "nbformat_minor": 1
}
